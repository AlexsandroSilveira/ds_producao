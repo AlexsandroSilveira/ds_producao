{
 "cells": [
  {
   "cell_type": "markdown",
   "metadata": {
    "id": "J2-w_9Oe3veN"
   },
   "source": [
    "# 0.0 IMPORTS"
   ]
  },
  {
   "cell_type": "code",
   "execution_count": 1,
   "metadata": {
    "ExecuteTime": {
     "end_time": "2022-04-07T13:01:22.442017Z",
     "start_time": "2022-04-07T13:01:19.578967Z"
    },
    "id": "pduh9rdWJxul"
   },
   "outputs": [
    {
     "name": "stderr",
     "output_type": "stream",
     "text": [
      "/home/alex/.local/lib/python3.8/site-packages/xgboost/compat.py:36: FutureWarning: pandas.Int64Index is deprecated and will be removed from pandas in a future version. Use pandas.Index with the appropriate dtype instead.\n",
      "  from pandas import MultiIndex, Int64Index\n"
     ]
    }
   ],
   "source": [
    "import math\n",
    "import random\n",
    "import pickle\n",
    "import warnings\n",
    "import datetime\n",
    "import inflection\n",
    "\n",
    "import numpy as np\n",
    "import pandas as pd\n",
    "import xgboost as xgb\n",
    "import seaborn as sns\n",
    "import matplotlib.pyplot as plt\n",
    "\n",
    "from scipy import stats as ss\n",
    "from boruta import BorutaPy\n",
    "from tabulate import tabulate\n",
    "from matplotlib import gridspec\n",
    "from IPython.display import Image\n",
    "from sklearn.ensemble import RandomForestRegressor\n",
    "from sklearn.linear_model import LinearRegression, Lasso\n",
    "from sklearn.preprocessing import RobustScaler, MinMaxScaler, LabelEncoder\n",
    "from sklearn.metrics import mean_absolute_error, mean_squared_error ,mean_absolute_percentage_error"
   ]
  },
  {
   "cell_type": "markdown",
   "metadata": {
    "id": "refp5fHb4GVQ"
   },
   "source": [
    "## 0.1 Helper Functions"
   ]
  },
  {
   "cell_type": "code",
   "execution_count": 2,
   "metadata": {
    "ExecuteTime": {
     "end_time": "2022-04-07T13:01:22.512790Z",
     "start_time": "2022-04-07T13:01:22.477177Z"
    },
    "id": "fBBUWRfg4KDx"
   },
   "outputs": [],
   "source": [
    "#V de Cramer\n",
    "def cramer_v(x, y):\n",
    "    cm = pd.crosstab( x, y).values\n",
    "    n = cm.sum()\n",
    "    r, k = cm.shape\n",
    "    \n",
    "    chi2 = ss.chi2_contingency( cm )[0]\n",
    "    chi2corr = max(0, chi2 - (k-1)*(r-1)/(n-1))\n",
    "    kcorr = k - (k-1)**2/(n-1)\n",
    "    rcorr = r - (r-1)**2/(n-1)\n",
    "    \n",
    "    return np.sqrt((chi2corr/n)/(min(kcorr-1, rcorr-1))) \n",
    "\n",
    "\n",
    "# machine learning error\n",
    "def ml_error(model_name, y, yhat):\n",
    "    mae = mean_absolute_error( y, yhat )\n",
    "    mape = mean_absolute_percentage_error( y, yhat)\n",
    "    rmse = np.sqrt(mean_squared_error(y, yhat))\n",
    "    \n",
    "    return pd.DataFrame({'Model Name': model_name,\n",
    "                         'MAE': mae,\n",
    "                         'MAPE': mape,\n",
    "                         'RMSE': rmse }, index=[0] )\n",
    "\n",
    "\n",
    "# cross validation machine learning model\n",
    "def cross_validation(x_training, kfold, model_name, model, verbose=False):\n",
    "    mae_list = []\n",
    "    mape_list = []\n",
    "    rmse_list = []\n",
    "    for k in reversed( range( 1, kfold+1) ):\n",
    "        if verbose:\n",
    "            print( f\"\\nKFold Number: {k}\" )\n",
    "        # start and end date for validation\n",
    "        validation_start_date = x_training['date'].max() - datetime.timedelta( days=k*6*7)\n",
    "        validation_end_date = x_training['date'].max() - datetime.timedelta( days=(k-1)*6*7)\n",
    "\n",
    "        #filtering dataset\n",
    "        training = x_training[x_training['date'] < validation_start_date]\n",
    "        validation = x_training[(x_training['date'] >= validation_start_date) & (x_training['date'] <= validation_end_date)]\n",
    "\n",
    "        # training and validation dataset\n",
    "        xtraining = training.drop( ['date', 'sales'], axis=1 )\n",
    "        ytraining = training['sales']\n",
    "\n",
    "        #validation\n",
    "        xvalidation = validation.drop( ['date', 'sales'], axis=1 )\n",
    "        yvalidation = validation['sales']\n",
    "\n",
    "        #model\n",
    "        m = model.fit(xtraining, ytraining)\n",
    "\n",
    "        #prediction\n",
    "        yhat = m.predict( xvalidation )\n",
    "\n",
    "        #performance\n",
    "        m_result = ml_error( model_name, np.expm1(yvalidation), np.expm1(yhat))\n",
    "\n",
    "        # store performance of each kfold iteration\n",
    "        mae_list.append(m_result['MAE'])\n",
    "        mape_list.append(m_result['MAPE'])\n",
    "        rmse_list.append(m_result['RMSE'])\n",
    "\n",
    "    return pd.DataFrame({'Model Name': model_name,\n",
    "                         'MAE CV': np.round(np.mean(mae_list), 2).astype( str ) + ' +/- ' + np.round(np.std(mae_list), 2).astype( str ),\n",
    "                         'MAPE CV': np.round(np.mean(mape_list), 2).astype( str ) + ' +/- ' + np.round(np.std(mape_list), 2).astype( str ),\n",
    "                         'RMSE CV': np.round(np.mean(rmse_list), 2).astype( str ) + ' +/- ' + np.round(np.std(rmse_list), 2).astype( str ) }, index=[0])\n",
    "\n",
    "\n",
    "plt.rcParams['figure.figsize'] = (18,10)\n",
    "plt.style.use( 'bmh' )\n",
    "plt.rcParams['font.size'] = 15"
   ]
  },
  {
   "cell_type": "markdown",
   "metadata": {
    "id": "wJVP9s2H40dH"
   },
   "source": [
    "## 0.2 Loading Data"
   ]
  },
  {
   "cell_type": "code",
   "execution_count": 3,
   "metadata": {
    "ExecuteTime": {
     "end_time": "2022-04-07T13:01:24.501738Z",
     "start_time": "2022-04-07T13:01:22.580794Z"
    },
    "id": "u3iGKbHv41kh"
   },
   "outputs": [],
   "source": [
    "df_sales_raw = pd.read_csv( 'datasets/train.csv', low_memory=False )\n",
    "df_store_raw = pd.read_csv( 'datasets/store.csv', low_memory=False )\n",
    "                           \n",
    "#merge\n",
    "df_raw = pd.merge( df_sales_raw, df_store_raw, how='left', on='Store')"
   ]
  },
  {
   "cell_type": "code",
   "execution_count": null,
   "metadata": {
    "ExecuteTime": {
     "end_time": "2022-04-06T20:44:31.014413Z",
     "start_time": "2022-04-06T20:44:30.964340Z"
    }
   },
   "outputs": [],
   "source": [
    "df_raw"
   ]
  },
  {
   "cell_type": "markdown",
   "metadata": {
    "heading_collapsed": true,
    "id": "S-pObqCW5Jq9"
   },
   "source": [
    "# 1.0 Descrição dos Dados"
   ]
  },
  {
   "cell_type": "markdown",
   "metadata": {
    "heading_collapsed": true,
    "hidden": true,
    "id": "scsniirJ5Mbc"
   },
   "source": [
    "## 1.1 Rename Columns"
   ]
  },
  {
   "cell_type": "code",
   "execution_count": null,
   "metadata": {
    "ExecuteTime": {
     "end_time": "2022-04-06T20:42:48.555868Z",
     "start_time": "2022-04-06T20:42:48.243886Z"
    },
    "hidden": true,
    "id": "gkyKX2l35Ux8"
   },
   "outputs": [],
   "source": [
    "df1 = df_raw.copy()\n",
    "\n",
    "cols_old = ['Store', 'DayOfWeek', 'Date', 'Sales', 'Customers', 'Open', 'Promo', \n",
    "            'StateHoliday', 'SchoolHoliday', 'StoreType', 'Assortment', \n",
    "            'CompetitionDistance', 'CompetitionOpenSinceMonth', 'CompetitionOpenSinceYear',\n",
    "            'Promo2', 'Promo2SinceWeek', 'Promo2SinceYear', 'PromoInterval']\n",
    "\n",
    "snakecase = lambda x: inflection.underscore( x )\n",
    "\n",
    "cols_new = list(map( snakecase, cols_old))\n",
    "\n",
    "# rename\n",
    "df1.columns = cols_new"
   ]
  },
  {
   "cell_type": "code",
   "execution_count": null,
   "metadata": {
    "ExecuteTime": {
     "end_time": "2022-04-06T20:43:22.899957Z",
     "start_time": "2022-04-06T20:43:22.890516Z"
    },
    "hidden": true
   },
   "outputs": [],
   "source": [
    "df1.shape"
   ]
  },
  {
   "cell_type": "markdown",
   "metadata": {
    "heading_collapsed": true,
    "hidden": true,
    "id": "HQaOvJm_5cxd"
   },
   "source": [
    "## 1.2 Data Dimension"
   ]
  },
  {
   "cell_type": "code",
   "execution_count": null,
   "metadata": {
    "hidden": true,
    "id": "aK-6ED8f5iGb"
   },
   "outputs": [],
   "source": [
    "print(f'Number of Rows{df1.shape[0]}')\n",
    "print(f'Number of Cols{df1.shape[1]}')"
   ]
  },
  {
   "cell_type": "markdown",
   "metadata": {
    "heading_collapsed": true,
    "hidden": true,
    "id": "BcsTbEbm5nud"
   },
   "source": [
    "## 1.3 Data Types"
   ]
  },
  {
   "cell_type": "code",
   "execution_count": null,
   "metadata": {
    "hidden": true,
    "id": "N5-jUxji5o0P"
   },
   "outputs": [],
   "source": [
    "df1['date'] = pd.to_datetime( df1['date'])\n",
    "df1.dtypes"
   ]
  },
  {
   "cell_type": "markdown",
   "metadata": {
    "heading_collapsed": true,
    "hidden": true,
    "id": "n1hI8-Rn5sej"
   },
   "source": [
    "## 1.4 Check NA"
   ]
  },
  {
   "cell_type": "code",
   "execution_count": null,
   "metadata": {
    "hidden": true,
    "id": "Dh21s5VS5waU"
   },
   "outputs": [],
   "source": [
    "df1.isna().sum()"
   ]
  },
  {
   "cell_type": "markdown",
   "metadata": {
    "heading_collapsed": true,
    "hidden": true,
    "id": "m9xNPMba5y4G"
   },
   "source": [
    "## 1.5 Fillout NA\n"
   ]
  },
  {
   "cell_type": "code",
   "execution_count": null,
   "metadata": {
    "hidden": true,
    "id": "ux4653zK6BDE"
   },
   "outputs": [],
   "source": [
    "df1['competition_distance'].max()"
   ]
  },
  {
   "cell_type": "code",
   "execution_count": null,
   "metadata": {
    "hidden": true,
    "id": "XAfSuTJy6B82"
   },
   "outputs": [],
   "source": [
    "# competition_distance    \n",
    "df1['competition_distance'] = df1['competition_distance'].apply( lambda x: 200000.0 if math.isnan( x ) else x)\n",
    "\n",
    "# competition_open_since_month\n",
    "df1['competition_open_since_month'] = df1.apply( lambda x: x['date'].month if math.isnan( x['competition_open_since_month'] ) else x['competition_open_since_month'], axis=1)\n",
    "\n",
    "# competition_open_since_year    \n",
    "df1['competition_open_since_year'] = df1.apply( lambda x: x['date'].year if math.isnan( x['competition_open_since_year'] ) else x['competition_open_since_year'], axis=1)\n",
    "\n",
    "# promo2_since_week              \n",
    "df1['promo2_since_week'] = df1.apply( lambda x: x['date'].week if math.isnan( x['promo2_since_week'] ) else x['promo2_since_week'], axis=1)\n",
    "\n",
    "# promo2_since_year              \n",
    "df1['promo2_since_year'] = df1.apply( lambda x: x['date'].year if math.isnan( x['promo2_since_year'] ) else x['promo2_since_year'], axis=1)\n",
    "\n",
    "# promo_interval \n",
    "month_map = {1: 'Jan', 2: 'Feb', 3: 'Mar', 4: 'Apr', 5: 'May', 6: 'Jun', 7: 'Jul', 8: 'Aug', 9: 'Sep', 10: 'Oct', 11: 'Nov', 12: 'Dec' }\n",
    "df1['promo_interval'].fillna(0, inplace=True)\n",
    "df1['month_map'] = df1['date'].dt.month.map( month_map )\n",
    "df1['is_promo'] = df1[['promo_interval', 'month_map']].apply( lambda x: 0 if x['promo_interval'] == 0 else 1 if x['month_map'] in x['promo_interval'].split( ',' ) else 0, axis=1 )\n",
    "\n",
    "df1.isna().sum()"
   ]
  },
  {
   "cell_type": "markdown",
   "metadata": {
    "heading_collapsed": true,
    "hidden": true,
    "id": "Vo6Y4t6z6J2T"
   },
   "source": [
    "## 1.6 Change Types"
   ]
  },
  {
   "cell_type": "code",
   "execution_count": null,
   "metadata": {
    "hidden": true,
    "id": "vl2bypGa6Mw5"
   },
   "outputs": [],
   "source": [
    "# competition\n",
    "df1['competition_open_since_month'] = df1['competition_open_since_month'].astype( int )\n",
    "df1['competition_open_since_year'] = df1['competition_open_since_year'].astype( int )\n",
    "\n",
    "# promo 2\n",
    "df1['promo2_since_week'] = df1['promo2_since_week'].astype( int )\n",
    "df1['promo2_since_year'] = df1['promo2_since_year'].astype( int )\n",
    "\n",
    "df1.dtypes"
   ]
  },
  {
   "cell_type": "markdown",
   "metadata": {
    "heading_collapsed": true,
    "hidden": true,
    "id": "wi02tnpj6TrB"
   },
   "source": [
    "## 1.7 Descriptive Statistical"
   ]
  },
  {
   "cell_type": "code",
   "execution_count": null,
   "metadata": {
    "hidden": true,
    "id": "ud8k5l9S6Wgv"
   },
   "outputs": [],
   "source": [
    "num_attributes = df1.select_dtypes( include = ['int64', 'float64'])\n",
    "cat_attributes = df1.select_dtypes( exclude = ['int64', 'float64', 'datetime64[ns]'])"
   ]
  },
  {
   "cell_type": "markdown",
   "metadata": {
    "heading_collapsed": true,
    "hidden": true,
    "id": "MiaZrAJw6c7g"
   },
   "source": [
    "### 1.7.1 Numerical Attributes"
   ]
  },
  {
   "cell_type": "code",
   "execution_count": null,
   "metadata": {
    "hidden": true,
    "id": "rdAhGEEQ6gyk"
   },
   "outputs": [],
   "source": [
    "# Central tendency - mean, median\n",
    "ct1 = pd.DataFrame( num_attributes.apply( np.mean )).T\n",
    "ct2 = pd.DataFrame( num_attributes.apply( np.median )).T\n",
    "\n",
    "# dispersion - std, min, max, range, skew, kurtosis\n",
    "d1 = pd.DataFrame( num_attributes.apply( np.std )).T\n",
    "d2 = pd.DataFrame( num_attributes.apply( min )).T\n",
    "d3 = pd.DataFrame( num_attributes.apply( max )).T\n",
    "d4 = pd.DataFrame( num_attributes.apply( lambda x: x.max() - x.min() )).T\n",
    "d5 = pd.DataFrame( num_attributes.apply( lambda x: x.skew() )).T\n",
    "d6 = pd.DataFrame( num_attributes.apply( lambda x: x.kurtosis() )).T\n",
    "\n",
    "#concat\n",
    "m = pd.concat( [d2, d3, d4, ct1, ct2, d1, d5, d6] ).T.reset_index()\n",
    "m.columns = ['attributes', 'min', 'max', 'range', 'mean', 'median', 'std', 'skew', 'kurtosis'] "
   ]
  },
  {
   "cell_type": "code",
   "execution_count": null,
   "metadata": {
    "hidden": true,
    "id": "-uW-p7v16jlC"
   },
   "outputs": [],
   "source": [
    "sns.distplot( df1['competition_distance'] )"
   ]
  },
  {
   "cell_type": "markdown",
   "metadata": {
    "heading_collapsed": true,
    "hidden": true,
    "id": "fiXvZreb6nXN"
   },
   "source": [
    "### 1.7.2 Categorical Attributes"
   ]
  },
  {
   "cell_type": "code",
   "execution_count": null,
   "metadata": {
    "hidden": true,
    "id": "kjxGZIuX6tnq"
   },
   "outputs": [],
   "source": [
    "cat_attributes.apply( lambda x: x.unique().shape[0])"
   ]
  },
  {
   "cell_type": "code",
   "execution_count": null,
   "metadata": {
    "hidden": true,
    "id": "smbR-HOE6wY0"
   },
   "outputs": [],
   "source": [
    "aux1 = df1[(df1['state_holiday'] !='0') & (df1['sales']>0)]\n",
    "\n",
    "plt.subplot( 1, 3, 1)\n",
    "sns.boxplot( x= 'state_holiday', y= 'sales', data=aux1)\n",
    "\n",
    "plt.subplot( 1, 3, 2)\n",
    "sns.boxplot( x= 'store_type', y= 'sales', data=aux1)\n",
    "\n",
    "plt.subplot( 1, 3, 3)\n",
    "sns.boxplot( x= 'assortment', y= 'sales', data=aux1)"
   ]
  },
  {
   "cell_type": "markdown",
   "metadata": {
    "heading_collapsed": true,
    "id": "CyQidmrj62BM"
   },
   "source": [
    "# 2.0 Feature Engineering"
   ]
  },
  {
   "cell_type": "code",
   "execution_count": null,
   "metadata": {
    "hidden": true,
    "id": "fAY3VyH-64fa"
   },
   "outputs": [],
   "source": [
    "df2 = df1.copy()"
   ]
  },
  {
   "cell_type": "markdown",
   "metadata": {
    "heading_collapsed": true,
    "hidden": true,
    "id": "Wvo5OkCH7Vfk"
   },
   "source": [
    "## 2.1 Mapa Mental de Hipóteses"
   ]
  },
  {
   "cell_type": "code",
   "execution_count": null,
   "metadata": {
    "hidden": true,
    "id": "TCs0szsi7cXt"
   },
   "outputs": [],
   "source": [
    "Image( 'img/MindMapHypothesis.png' )"
   ]
  },
  {
   "cell_type": "markdown",
   "metadata": {
    "heading_collapsed": true,
    "hidden": true,
    "id": "kHVlSV_F7ieA"
   },
   "source": [
    "## 2.2 Criação da Hipóteses"
   ]
  },
  {
   "cell_type": "markdown",
   "metadata": {
    "heading_collapsed": true,
    "hidden": true,
    "id": "ROQPjPOE7qUC"
   },
   "source": [
    "### 2.2.1 Hipóteses Loja\n",
    "\n",
    "    -1 Lojas com maior quadro de funcionários deveriam vender mais\n",
    "    \n",
    "    -2 Lojas com maior estoque deveriam vender mais\n",
    "    \n",
    "    -3 Lojas com maior porte deveriam vender mais\n",
    "    \n",
    "    -4 Lojas com maior sortimento deveriam vender mais\n",
    "    \n",
    "    -5 Lojas com competidores mais próximos deveriam vender menos\n",
    "    \n",
    "    -6 Lojas com competidores à mais tempo deveriam vender mais"
   ]
  },
  {
   "cell_type": "markdown",
   "metadata": {
    "heading_collapsed": true,
    "hidden": true,
    "id": "1uRJ4d7H7xCT"
   },
   "source": [
    "### 2.2.2 Hipóteses Produto\n",
    "\n",
    "    -1 Lojas que investem mais em marketing deveriam vender mais\n",
    "    \n",
    "    -2 Lojas que expoe mais os produtos nas vitrines deveriam vender mais\n",
    "    \n",
    "    -3 Lojas que tem preços menores nos produtos deveriam vender mais\n",
    "    \n",
    "    -4 Lojas que possuem preços menores por mais tempo deveriam vender mais \n",
    "    \n",
    "    -5 Lojas com descontos maiores deveriam vender mais\n",
    "    \n",
    "    -6 Lojas com promoções ativas por mais tempo deveriam vender mais\n",
    "    \n",
    "    -7 Lojas com mais dias de promoção deveriam vender mais\n",
    "    \n",
    "    -8 Lojas com mais promoções consecutivas deveriam vender mais"
   ]
  },
  {
   "cell_type": "markdown",
   "metadata": {
    "heading_collapsed": true,
    "hidden": true,
    "id": "zrvRpzfP71hR"
   },
   "source": [
    "### 2.2.3 Hipóteses Tempo\n",
    "\n",
    "    -1 Lojas abertas durante o feriado de natal deveriam vender mais\n",
    "    \n",
    "    -2 Lojas deveriam vender mais ao longo dos anos\n",
    "    \n",
    "    -3 Lojas deveriam vender mais no segundo semestre do ano\n",
    "    \n",
    "    -4 Lojas deveriam vender mais depois do dia 10 do mês\n",
    "    \n",
    "    -5 Lojas deveriam vender menos aos finais de semana\n",
    "    \n",
    "    -6 Lojas deveriam vender menos durante os feriados escolares"
   ]
  },
  {
   "cell_type": "markdown",
   "metadata": {
    "heading_collapsed": true,
    "hidden": true,
    "id": "3JIvKzEm8BDR"
   },
   "source": [
    "## 2.3 Lista Final de Hipótesis\n",
    "\n",
    "    -1 Lojas com maior sortimento deveriam vender mais\n",
    "     \n",
    "    -2 Lojas com competidores mais próximos deveriam vender menos\n",
    "    \n",
    "    -3 Lojas com competidores à mais tempo deveriam vender mais\n",
    "     \n",
    "    -4 Lojas com promoções ativas por mais tempo deveriam vender mais\n",
    "\n",
    "    -5 Lojas com mais dias de promoção deveriam vender mais\n",
    "\n",
    "    -6 Lojas com mais promoções consecutivas deveriam vender mais\n",
    "      \n",
    "    -7 Lojas abertas durante o feriado de natal deveriam vender mais\n",
    "   \n",
    "    -8 Lojas deveriam vender mais ao longo dos anos\n",
    "    \n",
    "    -9 Lojas deveriam vender mais no segundo semestre do ano\n",
    "    \n",
    "    -10 Lojas deveriam vender mais depois do dia 10 do mês\n",
    "    \n",
    "    -11 Lojas deveriam vender menos aos finais de semana\n",
    "    \n",
    "    -12 Lojas deveriam vender menos durante os feriados escolares  "
   ]
  },
  {
   "cell_type": "markdown",
   "metadata": {
    "heading_collapsed": true,
    "hidden": true,
    "id": "aIPm_RsH8mqh"
   },
   "source": [
    "## 2.4 Featutre Engineering"
   ]
  },
  {
   "cell_type": "code",
   "execution_count": null,
   "metadata": {
    "hidden": true,
    "id": "DNUC6o8V8r0p"
   },
   "outputs": [],
   "source": [
    "df2.head().T"
   ]
  },
  {
   "cell_type": "code",
   "execution_count": null,
   "metadata": {
    "hidden": true,
    "id": "g5nsIYmr8vYk"
   },
   "outputs": [],
   "source": [
    "df2['date'] = pd.to_datetime( df2['date'])\n",
    "df2.dtypes"
   ]
  },
  {
   "cell_type": "code",
   "execution_count": null,
   "metadata": {
    "hidden": true,
    "id": "o-WOIWrV86Ii"
   },
   "outputs": [],
   "source": [
    "# year\n",
    "df2['year'] = df2['date'].dt.year\n",
    "\n",
    "#month\n",
    "df2['month'] = df2['date'].dt.month\n",
    "\n",
    "#day\n",
    "df2['day'] = df2['date'].dt.day\n",
    "\n",
    "#week of year\n",
    "df2['week_of_year'] = df2['date'].dt.weekofyear\n",
    "\n",
    "#year week\n",
    "df2['year_week'] = df2['date'].dt.strftime( '%Y-%W' )\n",
    "\n",
    "#competition since\n",
    "df2['competition_since'] = df2.apply(lambda x: datetime.datetime( year=x['competition_open_since_year'], month=x['competition_open_since_month'], day=1), axis=1)\n",
    "df2['competition_since_month'] = ((df2['date'] - df2['competition_since'])/30).apply(lambda x: x.days).astype( int )\n",
    "df2['competition_time_month'] = ((df2['date'] - df2['competition_since'])/30).apply(lambda x: x.days).astype( int )\n",
    "\n",
    "#promo since\n",
    "df2['promo_since'] = df2['promo2_since_year'].astype(str) + '-' + df2['promo2_since_week'].astype(str)\n",
    "df2['promo_since'] = df2['promo_since'].apply(lambda x: datetime.datetime.strptime( x + '-1', '%Y-%W-%w' ) - datetime.timedelta( days=7 ))\n",
    "df2['promo_time_week'] = ( ( df2['date'] - df2['promo_since'] )/7 ).apply(lambda x: x.days ).astype( int )\n",
    "\n",
    "#assortment / a=basic, b=extra, c=extended\n",
    "df2['assortment'] = df2['assortment'].apply(lambda x: 'basic' if x == 'a' else 'extra' if x == 'b' else 'extended')\n",
    "\n",
    "#state holiday / a=public holiday, b=easter holiday, c=christmas\n",
    "df2['state_holiday'] = df2['state_holiday'].apply(lambda x: 'public_holiday' if x == 'a' else 'easter_holiday' if x == 'b' else 'christmas' if x =='c' else 'regular_day')\n"
   ]
  },
  {
   "cell_type": "code",
   "execution_count": null,
   "metadata": {
    "hidden": true,
    "id": "9LkqMLdy89jZ"
   },
   "outputs": [],
   "source": [
    "df2.head()"
   ]
  },
  {
   "cell_type": "code",
   "execution_count": null,
   "metadata": {
    "hidden": true,
    "id": "f19f9LJC9ADk"
   },
   "outputs": [],
   "source": [
    "df2.to_csv('df2.csv', index_label=False)"
   ]
  },
  {
   "cell_type": "markdown",
   "metadata": {
    "heading_collapsed": true,
    "id": "Wn5fC9U_9FxK"
   },
   "source": [
    "# 3.0 Filtragem de Variáveis"
   ]
  },
  {
   "cell_type": "code",
   "execution_count": null,
   "metadata": {
    "hidden": true,
    "id": "L1KK6c1v9IxG"
   },
   "outputs": [],
   "source": [
    "df3 = df2.copy()"
   ]
  },
  {
   "cell_type": "markdown",
   "metadata": {
    "heading_collapsed": true,
    "hidden": true,
    "id": "j87aQXEb9Li8"
   },
   "source": [
    "## 3.1 Filtragem das Linhas"
   ]
  },
  {
   "cell_type": "code",
   "execution_count": null,
   "metadata": {
    "hidden": true,
    "id": "Gjo519_C9OVN"
   },
   "outputs": [],
   "source": [
    "df3 = df3[(df3['open'] != 0) & (df3['sales'] > 0)]"
   ]
  },
  {
   "cell_type": "markdown",
   "metadata": {
    "heading_collapsed": true,
    "hidden": true,
    "id": "RKnOP3Uo9RDE"
   },
   "source": [
    "## 3.2 Seleção das Colunas"
   ]
  },
  {
   "cell_type": "code",
   "execution_count": null,
   "metadata": {
    "hidden": true,
    "id": "W4-CnVkI9T32"
   },
   "outputs": [],
   "source": [
    "df3 = df3.drop( columns = ['customers', 'open', 'promo_interval', 'month_map'] )"
   ]
  },
  {
   "cell_type": "markdown",
   "metadata": {
    "heading_collapsed": true,
    "id": "NnO21NWM9Y6C"
   },
   "source": [
    "# 4.0 Análise Exploratória dos Dados"
   ]
  },
  {
   "cell_type": "markdown",
   "metadata": {
    "heading_collapsed": true,
    "hidden": true,
    "id": "2Nh697jz9e6s"
   },
   "source": [
    "## 4.1 Análise Univariada"
   ]
  },
  {
   "cell_type": "markdown",
   "metadata": {
    "heading_collapsed": true,
    "hidden": true,
    "id": "Z75HHdOB9kV6"
   },
   "source": [
    "### 4.1.1 Response Variable"
   ]
  },
  {
   "cell_type": "code",
   "execution_count": null,
   "metadata": {
    "hidden": true,
    "id": "u-t2Vicm9c3t"
   },
   "outputs": [],
   "source": [
    "sns.distplot(df3['sales'])"
   ]
  },
  {
   "cell_type": "markdown",
   "metadata": {
    "heading_collapsed": true,
    "hidden": true,
    "id": "2BhjAMO79sV1"
   },
   "source": [
    "### 4.1.2 Numerical Variable"
   ]
  },
  {
   "cell_type": "code",
   "execution_count": null,
   "metadata": {
    "hidden": true,
    "id": "6LLHwVYZ9w0T"
   },
   "outputs": [],
   "source": [
    "num_attributes.hist(bins=25);"
   ]
  },
  {
   "cell_type": "markdown",
   "metadata": {
    "heading_collapsed": true,
    "hidden": true,
    "id": "yF9MLoY390-y"
   },
   "source": [
    "### 4.1.3 Categorical Variable"
   ]
  },
  {
   "cell_type": "code",
   "execution_count": null,
   "metadata": {
    "hidden": true,
    "id": "6i94qNLp95I4"
   },
   "outputs": [],
   "source": [
    "cat_attributes.head()"
   ]
  },
  {
   "cell_type": "code",
   "execution_count": null,
   "metadata": {
    "hidden": true,
    "id": "Tc0lQAAb9_UF"
   },
   "outputs": [],
   "source": [
    "# state holiday\n",
    "plt.subplot(3,2,1)\n",
    "a = df3[df3['state_holiday'] != 'regular_day']\n",
    "sns.countplot(a['state_holiday'])\n",
    "\n",
    "plt.subplot(3,2,2)\n",
    "sns.kdeplot(df3[df3['state_holiday'] == 'public_holiday']['sales'], label = 'public_holiday', shade=True)\n",
    "sns.kdeplot(df3[df3['state_holiday'] == 'easter_holiday']['sales'], label = 'easter_holiday', shade=True)\n",
    "sns.kdeplot(df3[df3['state_holiday'] == 'christmas']['sales'], label = 'christmas', shade=True)\n",
    "\n",
    "# store type\n",
    "plt.subplot(3,2,3)\n",
    "sns.countplot(df3['store_type'])\n",
    "\n",
    "plt.subplot(3,2,4)\n",
    "sns.kdeplot(df3[df3['store_type'] == 'a']['sales'], label = 'a', shade=True)\n",
    "sns.kdeplot(df3[df3['store_type'] == 'b']['sales'], label = 'b', shade=True)\n",
    "sns.kdeplot(df3[df3['store_type'] == 'c']['sales'], label = 'c', shade=True)\n",
    "sns.kdeplot(df3[df3['store_type'] == 'd']['sales'], label = 'd', shade=True)\n",
    "\n",
    "#assortment\n",
    "plt.subplot(3,2,5)\n",
    "sns.countplot(df3['assortment'])\n",
    "\n",
    "plt.subplot(3,2,6)\n",
    "sns.kdeplot(df3[df3['assortment'] == 'extended']['sales'], label = 'extended', shade=True)\n",
    "sns.kdeplot(df3[df3['assortment'] == 'basic']['sales'], label = 'basic', shade=True)\n",
    "sns.kdeplot(df3[df3['assortment'] == 'extra']['sales'], label = 'extra', shade=True)"
   ]
  },
  {
   "cell_type": "markdown",
   "metadata": {
    "heading_collapsed": true,
    "hidden": true,
    "id": "ayiecYYa-HqW"
   },
   "source": [
    "## 4.2 Análise Bivariada"
   ]
  },
  {
   "cell_type": "markdown",
   "metadata": {
    "heading_collapsed": true,
    "hidden": true,
    "id": "nOmCsGba-MTK"
   },
   "source": [
    "### H1.Lojas com maior sortimento deveriam vender mais\n",
    "**Falsa** Lojas com maior sortimento na verdade vendem menos"
   ]
  },
  {
   "cell_type": "code",
   "execution_count": null,
   "metadata": {
    "hidden": true,
    "id": "jbPkmQE2-QLz"
   },
   "outputs": [],
   "source": [
    "aux1 = df3[['assortment', 'sales']].groupby( 'assortment' ).sum().reset_index()\n",
    "sns.barplot( x='assortment', y='sales', data = aux1);\n",
    "\n",
    "aux2 = df3[['year_week', 'assortment', 'sales']].groupby( ['year_week','assortment'] ).sum().reset_index()\n",
    "aux2.pivot( index='year_week',columns='assortment', values='sales').plot()\n",
    "\n",
    "aux3 = aux2[aux2['assortment'] == 'extra']\n",
    "aux3.pivot( index='year_week',columns='assortment', values='sales').plot()"
   ]
  },
  {
   "cell_type": "markdown",
   "metadata": {
    "heading_collapsed": true,
    "hidden": true,
    "id": "9s79eELb-VyE"
   },
   "source": [
    "### H2.Lojas com competidores mais próximos deveriam vender menos\n",
    "**Falsa** Lojas com competidores mais próximos vendem mais"
   ]
  },
  {
   "cell_type": "code",
   "execution_count": null,
   "metadata": {
    "hidden": true,
    "id": "kzJ8P6Hy-ZSI"
   },
   "outputs": [],
   "source": [
    "aux1 = df3[['competition_distance', 'sales']].groupby('competition_distance').sum().reset_index()\n",
    "\n",
    "plt.subplot(1,3,1)\n",
    "sns.scatterplot(x= 'competition_distance', y='sales', data=aux1);\n",
    "\n",
    "plt.subplot(1,3,2)\n",
    "bins = list(np.arange(0, 20000, 1000))\n",
    "aux1['competition_distance_binned'] = pd.cut( aux1['competition_distance'], bins=bins)\n",
    "aux2 = aux1[['competition_distance_binned', 'sales']].groupby('competition_distance_binned').sum().reset_index()\n",
    "sns.barplot( x='competition_distance_binned', y='sales', data=aux2);\n",
    "\n",
    "plt.subplot(1,3,3)\n",
    "sns.heatmap( aux1.corr(method='pearson'), annot=True);"
   ]
  },
  {
   "cell_type": "markdown",
   "metadata": {
    "heading_collapsed": true,
    "hidden": true,
    "id": "ML0514t_-dIR"
   },
   "source": [
    "### H3.Lojas com competidores à mais tempo deveriam vender mais\n",
    "**Falsa** Lojas com competidores a mais tempo vendem menos"
   ]
  },
  {
   "cell_type": "code",
   "execution_count": null,
   "metadata": {
    "hidden": true,
    "id": "4fRDvIGF-f8R"
   },
   "outputs": [],
   "source": [
    "plt.subplot(1, 3, 1)\n",
    "aux1 = df3[['competition_time_month', 'sales']].groupby('competition_time_month').sum().reset_index()\n",
    "aux2 = aux1 [( aux1['competition_time_month'] < 120 ) & ( aux1['competition_time_month'] !=0 )]\n",
    "sns.barplot(x='competition_time_month', y='sales', data=aux2);\n",
    "plt.xticks( rotation=90);\n",
    "\n",
    "plt.subplot(1, 3, 2)\n",
    "sns.regplot(x='competition_time_month', y='sales', data=aux2);\n",
    "\n",
    "plt.subplot(1, 3, 3)\n",
    "sns.heatmap( aux1.corr( method='pearson'), annot=True)"
   ]
  },
  {
   "cell_type": "markdown",
   "metadata": {
    "heading_collapsed": true,
    "hidden": true,
    "id": "4ulwP0JS-j1Q"
   },
   "source": [
    "### H4.Lojas com promoções ativas por mais tempo deveriam vender mais\n",
    "**Falsa** Lojas com promoções ativas por mais tempo vendem menos, depois de um certo tempo de promoção"
   ]
  },
  {
   "cell_type": "code",
   "execution_count": null,
   "metadata": {
    "hidden": true,
    "id": "bP6taIyQ-ot7"
   },
   "outputs": [],
   "source": [
    "aux1 = df3[['promo_time_week', 'sales']].groupby('promo_time_week').sum().reset_index()\n",
    "\n",
    "grid = gridspec.GridSpec(2, 3)\n",
    "\n",
    "plt.subplot( grid[0, 0] )\n",
    "aux2 = aux1[aux1['promo_time_week'] > 0] # promo extended\n",
    "sns.barplot(x='promo_time_week', y='sales', data=aux2);\n",
    "plt.xticks( rotation=90 );\n",
    "\n",
    "plt.subplot( grid[0, 1] )\n",
    "sns.regplot(x='promo_time_week', y='sales', data=aux2);\n",
    "\n",
    "plt.subplot( grid[1, 0] )\n",
    "aux3 = aux1[aux1['promo_time_week'] < 0] # promo regular\n",
    "sns.barplot(x='promo_time_week', y='sales', data=aux3);\n",
    "plt.xticks( rotation=90 );\n",
    "\n",
    "plt.subplot( grid[1, 1] )\n",
    "sns.regplot(x='promo_time_week', y='sales', data=aux3);\n",
    "\n",
    "plt.subplot( grid[:, 2] )\n",
    "sns.heatmap( aux1.corr( method='pearson'), annot=True);"
   ]
  },
  {
   "cell_type": "markdown",
   "metadata": {
    "heading_collapsed": true,
    "hidden": true,
    "id": "Y9Sv-nEH-tEZ"
   },
   "source": [
    "### <s> H5.Lojas com mais dias de promoção deveriam vender mais </s>"
   ]
  },
  {
   "cell_type": "markdown",
   "metadata": {
    "heading_collapsed": true,
    "hidden": true,
    "id": "eOZNCrAJ-w95"
   },
   "source": [
    "### H6.Lojas com mais promoções consecutivas deveriam vender mais\n",
    "**Falsa** Lojas com mais promoções consecutivas vendem menos"
   ]
  },
  {
   "cell_type": "code",
   "execution_count": null,
   "metadata": {
    "hidden": true,
    "id": "VXAYhkqE-4Te"
   },
   "outputs": [],
   "source": [
    "df3[['promo', 'promo2', 'sales']].groupby(['promo', 'promo2']).sum().reset_index()"
   ]
  },
  {
   "cell_type": "code",
   "execution_count": null,
   "metadata": {
    "hidden": true,
    "id": "EUzMewWH-6hV"
   },
   "outputs": [],
   "source": [
    "aux1 = df3[(df3['promo'] == 1) & (df3['promo2'] == 1)][['year_week', 'sales']].groupby( 'year_week').sum().reset_index()\n",
    "ax = aux1.plot()\n",
    "\n",
    "aux2 = df3[(df3['promo'] == 1) & (df3['promo2'] == 0)][['year_week', 'sales']].groupby( 'year_week').sum().reset_index()\n",
    "aux2.plot( ax=ax )\n",
    "\n",
    "ax.legend( labels=['Regular e Extended', 'Extended'])"
   ]
  },
  {
   "cell_type": "markdown",
   "metadata": {
    "heading_collapsed": true,
    "hidden": true,
    "id": "SkLMMGk6--vy"
   },
   "source": [
    "### H7.Lojas abertas durante o feriado de natal deveriam vender mais\n",
    "**Falsa** Lojas abertas durante o Natal vendem menos"
   ]
  },
  {
   "cell_type": "code",
   "execution_count": null,
   "metadata": {
    "hidden": true,
    "id": "O-5D2E20_BAd"
   },
   "outputs": [],
   "source": [
    "aux = df3[df3['state_holiday'] != 'regular_day']\n",
    "\n",
    "plt.subplot( 1, 2, 1 )\n",
    "aux1 = aux[['state_holiday', 'sales']].groupby('state_holiday').sum().reset_index()\n",
    "sns.barplot( x='state_holiday', y='sales', data=aux1);\n",
    "\n",
    "plt.subplot( 1, 2, 2 )\n",
    "aux2 = aux[['year', 'state_holiday', 'sales']].groupby(['year', 'state_holiday']).sum().reset_index()\n",
    "sns.barplot( x='year', y='sales', hue='state_holiday', data=aux2)"
   ]
  },
  {
   "cell_type": "markdown",
   "metadata": {
    "heading_collapsed": true,
    "hidden": true,
    "id": "Y4QczMGK_EEn"
   },
   "source": [
    "### H8.Lojas deveriam vender mais ao longo dos anos\n",
    "**Falsa** Lojas vendem menos ao longo dos anos"
   ]
  },
  {
   "cell_type": "code",
   "execution_count": null,
   "metadata": {
    "hidden": true,
    "id": "B5OpaQ5m_HuF"
   },
   "outputs": [],
   "source": [
    "aux1 = df3[['year', 'sales']].groupby( 'year' ).sum().reset_index()\n",
    "\n",
    "plt.subplot( 1, 3, 1 )\n",
    "sns.barplot(x='year', y='sales', data=aux1);\n",
    "\n",
    "plt.subplot( 1, 3, 2 )\n",
    "sns.regplot(x='year', y='sales', data=aux1);\n",
    "\n",
    "plt.subplot( 1, 3, 3 )\n",
    "sns.heatmap(aux1.corr(method='pearson'), annot=True);"
   ]
  },
  {
   "cell_type": "markdown",
   "metadata": {
    "heading_collapsed": true,
    "hidden": true,
    "id": "zgH51m-6_M7F"
   },
   "source": [
    "### H9. Lojas deveriam vender mais no segundo semestre do ano\n",
    "**Falsa** Lojas vendme menos no segundo semestre do ano "
   ]
  },
  {
   "cell_type": "code",
   "execution_count": null,
   "metadata": {
    "hidden": true,
    "id": "0MuMlw4u_QqG"
   },
   "outputs": [],
   "source": [
    "aux1 = df3[['month', 'sales']].groupby( 'month' ).sum().reset_index()\n",
    "\n",
    "plt.subplot( 1, 3, 1 )\n",
    "sns.barplot(x='month', y='sales', data=aux1);\n",
    "\n",
    "plt.subplot( 1, 3, 2 )\n",
    "sns.regplot(x='month', y='sales', data=aux1);\n",
    "\n",
    "plt.subplot( 1, 3, 3 )\n",
    "sns.heatmap(aux1.corr(method='pearson'), annot=True);"
   ]
  },
  {
   "cell_type": "markdown",
   "metadata": {
    "heading_collapsed": true,
    "hidden": true,
    "id": "RQSLD4wy_UXy"
   },
   "source": [
    "### H10.Lojas deveriam vender mais depois do dia 10 do mês\n",
    "**Verdadeira** As lojas vendem mais depois do dia 10 de cada mês"
   ]
  },
  {
   "cell_type": "code",
   "execution_count": null,
   "metadata": {
    "hidden": true,
    "id": "H_9xhZbZ_XTG"
   },
   "outputs": [],
   "source": [
    "aux1 = df3[['day', 'sales']].groupby( 'day' ).sum().reset_index()\n",
    "\n",
    "plt.subplot( 2, 2, 1 )\n",
    "sns.barplot(x='day', y='sales', data=aux1);\n",
    "\n",
    "plt.subplot( 2, 2, 2 )\n",
    "sns.regplot(x='day', y='sales', data=aux1);\n",
    "\n",
    "plt.subplot( 2, 2, 3 )\n",
    "sns.heatmap(aux1.corr(method='pearson'), annot=True);\n",
    "\n",
    "plt.subplot( 2, 2, 4 )\n",
    "aux1['before_after'] = aux1['day'].apply(lambda x: 'before_10_days' if x<= 10 else 'after_10_days')\n",
    "aux2 = aux1[['before_after', 'sales']].groupby( 'before_after' ).sum().reset_index()\n",
    "sns.barplot(x='before_after', y='sales', data=aux2);"
   ]
  },
  {
   "cell_type": "markdown",
   "metadata": {
    "heading_collapsed": true,
    "hidden": true,
    "id": "YKJfZIEU_a5-"
   },
   "source": [
    "### H11.Lojas deveriam vender menos aos finais de semana\n",
    "**Verdadeira** Lojas vendem menos no final de semana"
   ]
  },
  {
   "cell_type": "code",
   "execution_count": null,
   "metadata": {
    "hidden": true,
    "id": "GnRDUBzZ_d4v"
   },
   "outputs": [],
   "source": [
    "aux1 = df3[['day_of_week', 'sales']].groupby( 'day_of_week' ).sum().reset_index()\n",
    "\n",
    "plt.subplot( 1, 3, 1 )\n",
    "sns.barplot(x='day_of_week', y='sales', data=aux1);\n",
    "\n",
    "plt.subplot( 1, 3, 2 )\n",
    "sns.regplot(x='day_of_week', y='sales', data=aux1);\n",
    "\n",
    "plt.subplot( 1, 3, 3 )\n",
    "sns.heatmap(aux1.corr(method='pearson'), annot=True);"
   ]
  },
  {
   "cell_type": "markdown",
   "metadata": {
    "heading_collapsed": true,
    "hidden": true,
    "id": "skVCI8M__h47"
   },
   "source": [
    "### H12.Lojas deveriam vender menos durante os feriados escolares  \n",
    "**Verdadeira** Lojas vendem menos durante os feriados escolares, exceto em Julho e Agosto"
   ]
  },
  {
   "cell_type": "code",
   "execution_count": null,
   "metadata": {
    "hidden": true,
    "id": "iNxZjgeW_kZf"
   },
   "outputs": [],
   "source": [
    "aux1 = df3[['school_holiday', 'sales']].groupby('school_holiday').sum().reset_index()\n",
    "\n",
    "plt.subplot(2,1,1)\n",
    "sns.barplot( x='school_holiday', y='sales', data=aux1);\n",
    "\n",
    "aux2 = df3[['month', 'school_holiday', 'sales']].groupby(['month', 'school_holiday']).sum().reset_index()\n",
    "\n",
    "plt.subplot(2,1,2)\n",
    "sns.barplot( x='month', y='sales', hue='school_holiday', data=aux2);"
   ]
  },
  {
   "cell_type": "markdown",
   "metadata": {
    "heading_collapsed": true,
    "hidden": true,
    "id": "gzm6zWlr_oEc"
   },
   "source": [
    "### Resumo das Hipótesis"
   ]
  },
  {
   "cell_type": "code",
   "execution_count": null,
   "metadata": {
    "hidden": true,
    "id": "GZWjkevC_rkr"
   },
   "outputs": [],
   "source": [
    "tab = [['Hipóteses', 'Conclusão', 'Relevância'],\n",
    "       ['H1', 'Falsa', 'Baixa'],\n",
    "       ['H2', 'Falsa', 'Média'],\n",
    "       ['H3', 'Falsa', 'Média'],\n",
    "       ['H4', 'Falsa', 'Baixa'],\n",
    "       ['H5', '-----', '-----'],\n",
    "       ['H6', 'Falsa', 'Baixa'],\n",
    "       ['H7', 'Falsa', 'Média'],\n",
    "       ['H8', 'Falsa', 'Alta'],\n",
    "       ['H9', 'Falsa', 'Alta'],\n",
    "       ['H10', 'Verdadeira', 'Alta'],\n",
    "       ['H11', 'Verdadeira', 'Alta'],\n",
    "       ['H12', 'Verdadeira', 'Baixa'],\n",
    "      ]\n",
    "print( tabulate( tab, headers='firstrow'))"
   ]
  },
  {
   "cell_type": "markdown",
   "metadata": {
    "heading_collapsed": true,
    "hidden": true,
    "id": "CkDfqThSCJPt"
   },
   "source": [
    "## 4.3 Análise Multivariada"
   ]
  },
  {
   "cell_type": "markdown",
   "metadata": {
    "heading_collapsed": true,
    "hidden": true,
    "id": "O2RrYGWRCM-2"
   },
   "source": [
    "### 4.3.1 Numerical Attributes"
   ]
  },
  {
   "cell_type": "code",
   "execution_count": null,
   "metadata": {
    "hidden": true,
    "id": "biOwQnWHCQGn"
   },
   "outputs": [],
   "source": [
    "correlation = num_attributes.corr( method = 'pearson' )\n",
    "sns.heatmap(correlation, annot=True);"
   ]
  },
  {
   "cell_type": "markdown",
   "metadata": {
    "heading_collapsed": true,
    "hidden": true,
    "id": "UGfjuLP0CfaT"
   },
   "source": [
    "### 4.3.1 Numerical Attributes"
   ]
  },
  {
   "cell_type": "code",
   "execution_count": null,
   "metadata": {
    "hidden": true,
    "id": "A_pFOMU_CioQ"
   },
   "outputs": [],
   "source": [
    "df3['competition_since'] = pd.to_datetime( df3['competition_since'])\n",
    "df3['promo_since'] = pd.to_datetime( df3['promo_since'])"
   ]
  },
  {
   "cell_type": "code",
   "execution_count": null,
   "metadata": {
    "hidden": true,
    "id": "COCl1uPcCrXi"
   },
   "outputs": [],
   "source": [
    "# Only categorical data\n",
    "a = df3.select_dtypes( include= 'object' )\n",
    "\n",
    "# Calculated cramer_v\n",
    "a1 = cramer_v(a['state_holiday'], a['state_holiday'])\n",
    "a2 = cramer_v(a['state_holiday'], a['store_type'])\n",
    "a3 = cramer_v(a['state_holiday'], a['assortment'])\n",
    "\n",
    "a4 = cramer_v(a['store_type'], a['state_holiday'])\n",
    "a5 = cramer_v(a['store_type'], a['store_type'])\n",
    "a6 = cramer_v(a['store_type'], a['assortment'])\n",
    "\n",
    "a7 = cramer_v(a['assortment'], a['state_holiday'])\n",
    "a8 = cramer_v(a['assortment'], a['store_type'])\n",
    "a9 = cramer_v(a['assortment'], a['assortment'])\n",
    "\n",
    "# Final dataset\n",
    "d = pd.DataFrame( {'state_holiday': [a1, a2, a3],\n",
    "               'store_type':    [a4, a5, a6],\n",
    "               'assortment':    [a7, a8, a9]\n",
    "              })\n",
    "\n",
    "d = d.set_index( d.columns )\n",
    "\n",
    "sns.heatmap(d, annot=True)"
   ]
  },
  {
   "cell_type": "markdown",
   "metadata": {
    "heading_collapsed": true,
    "id": "ArhEPtgoC0DV"
   },
   "source": [
    "# 5.0 Preparação dos Dados"
   ]
  },
  {
   "cell_type": "code",
   "execution_count": null,
   "metadata": {
    "ExecuteTime": {
     "end_time": "2022-04-06T20:18:31.925548Z",
     "start_time": "2022-04-06T20:18:26.483601Z"
    },
    "hidden": true,
    "id": "cswdFidlC6S_"
   },
   "outputs": [],
   "source": [
    "df4 = pd.read_csv( 'df3.csv', low_memory=False )"
   ]
  },
  {
   "cell_type": "markdown",
   "metadata": {
    "heading_collapsed": true,
    "hidden": true,
    "id": "iyIQwiE2D6rO"
   },
   "source": [
    "## 5.1 Normalização"
   ]
  },
  {
   "cell_type": "markdown",
   "metadata": {
    "hidden": true,
    "id": "ddVzPPG5D-O0"
   },
   "source": [
    "Na seção 4.1.2 Numerical Variable, não há nada que possa ser normalizado"
   ]
  },
  {
   "cell_type": "markdown",
   "metadata": {
    "heading_collapsed": true,
    "hidden": true,
    "id": "TkobPQGmEBGF"
   },
   "source": [
    "## 5.2 Rescaling"
   ]
  },
  {
   "cell_type": "code",
   "execution_count": null,
   "metadata": {
    "ExecuteTime": {
     "end_time": "2022-04-06T20:18:39.744673Z",
     "start_time": "2022-04-06T20:18:39.213361Z"
    },
    "hidden": true,
    "id": "D_bY-cQGEFgB"
   },
   "outputs": [],
   "source": [
    "rs = RobustScaler()\n",
    "mms= MinMaxScaler()\n",
    "\n",
    "# competition distance\n",
    "df4['competition_distance'] = rs.fit_transform(df4[['competition_distance']].values)\n",
    "pickle.dump( rs, open( 'parameter/competition_distance_scaler.pkl', 'wb'))\n",
    "\n",
    "# year\n",
    "df4['year'] = mms.fit_transform(df4[['year']].values)\n",
    "pickle.dump( mms, open( 'parameter/year_scaler.pkl', 'wb'))\n",
    "\n",
    "\n",
    "# competition time month\n",
    "df4['competition_time_month'] = rs.fit_transform(df4[['competition_time_month']].values)\n",
    "pickle.dump( rs, open( 'parameter/competition_time_month_scaler.pkl', 'wb'))\n",
    "\n",
    "\n",
    "#promo time week\n",
    "df4['promo_time_week'] = mms.fit_transform(df4[['promo_time_week']].values)\n",
    "pickle.dump( mms, open( 'parameter/promo_time_week_scaler.pkl', 'wb'))\n"
   ]
  },
  {
   "cell_type": "markdown",
   "metadata": {
    "heading_collapsed": true,
    "hidden": true,
    "id": "UYLDnU7sEK79"
   },
   "source": [
    "## 5.3 Transformação"
   ]
  },
  {
   "cell_type": "markdown",
   "metadata": {
    "heading_collapsed": true,
    "hidden": true,
    "id": "FSgjGL2XEOc6"
   },
   "source": [
    "### 5.3.1 Encoding"
   ]
  },
  {
   "cell_type": "code",
   "execution_count": null,
   "metadata": {
    "ExecuteTime": {
     "end_time": "2022-04-06T20:19:33.615253Z",
     "start_time": "2022-04-06T20:19:32.681955Z"
    },
    "hidden": true,
    "id": "rOrLnGExERm_"
   },
   "outputs": [],
   "source": [
    "#state_holiday - onehot encoding\n",
    "df4 = pd.get_dummies( df4, prefix=['state_holiday'], columns=['state_holiday'])\n",
    "\n",
    "#store_type - label encoding\n",
    "le = LabelEncoder()\n",
    "df4['store_type'] = le.fit_transform(df4['store_type'])\n",
    "pickle.dump( le, open( 'parameter/store_type_scaler.pkl', 'wb'))\n",
    "\n",
    "#assortment - ordinal encoding\n",
    "assortment_dict = {'basic': 1, 'extra': 2, 'extended': 3}\n",
    "df4['assortment'] = df4['assortment'].map( assortment_dict )"
   ]
  },
  {
   "cell_type": "markdown",
   "metadata": {
    "heading_collapsed": true,
    "hidden": true,
    "id": "VXEdObhwEVJJ"
   },
   "source": [
    "### 5.3.2 Response Variable Transformation"
   ]
  },
  {
   "cell_type": "code",
   "execution_count": null,
   "metadata": {
    "ExecuteTime": {
     "end_time": "2022-04-06T20:19:37.351715Z",
     "start_time": "2022-04-06T20:19:37.256351Z"
    },
    "hidden": true,
    "id": "lkZcg2HUEYjG"
   },
   "outputs": [],
   "source": [
    "df4['sales'] = np.log1p(df4['sales'])"
   ]
  },
  {
   "cell_type": "code",
   "execution_count": null,
   "metadata": {
    "hidden": true,
    "id": "2nEHXljjEY_b"
   },
   "outputs": [],
   "source": [
    "sns.distplot(df4['sales'])"
   ]
  },
  {
   "cell_type": "markdown",
   "metadata": {
    "heading_collapsed": true,
    "hidden": true,
    "id": "Auqm78Z7EfvO"
   },
   "source": [
    "### 5.3.3 Nature Transformation"
   ]
  },
  {
   "cell_type": "code",
   "execution_count": null,
   "metadata": {
    "ExecuteTime": {
     "end_time": "2022-04-06T13:51:53.703022Z",
     "start_time": "2022-04-06T13:51:27.168649Z"
    },
    "hidden": true,
    "id": "38upLTMMEi3O"
   },
   "outputs": [],
   "source": [
    "# day\n",
    "df4['day_sin'] = df4['day'].apply( lambda x: np.sin( x * (2 * np.pi/30)))\n",
    "df4['day_cos'] = df4['day'].apply( lambda x: np.cos( x * (2 * np.pi/30)))\n",
    "\n",
    "# day of week\n",
    "df4['day_of_week_sin'] = df4['day_of_week'].apply( lambda x: np.sin( x * (2 * np.pi/7)))\n",
    "df4['day_of_week_cos'] = df4['day_of_week'].apply( lambda x: np.cos( x * (2 * np.pi/7)))\n",
    "\n",
    "# month\n",
    "df4['month_sin'] = df4['month'].apply( lambda x: np.sin( x * (2 * np.pi/12)))\n",
    "df4['month_cos'] = df4['month'].apply( lambda x: np.cos( x * (2 * np.pi/12)))\n",
    "\n",
    "# week of year\n",
    "df4['week_of_year_sin'] = df4['week_of_year'].apply( lambda x: np.sin( x * (2 * np.pi/52)))\n",
    "df4['week_of_year_cos'] = df4['week_of_year'].apply( lambda x: np.cos( x * (2 * np.pi/52)))"
   ]
  },
  {
   "cell_type": "markdown",
   "metadata": {
    "heading_collapsed": true,
    "id": "Gu54-9DBE08l"
   },
   "source": [
    "# 6.0 Feature Selection"
   ]
  },
  {
   "cell_type": "code",
   "execution_count": null,
   "metadata": {
    "ExecuteTime": {
     "end_time": "2022-04-06T20:20:33.895782Z",
     "start_time": "2022-04-06T20:20:25.976866Z"
    },
    "hidden": true,
    "id": "m4mmM8riJIKo"
   },
   "outputs": [],
   "source": [
    "#df5 = df4.copy\n",
    "df5 = pd.read_csv('/home/alex/repos/repos/projeto_DS_producao/df4.csv')"
   ]
  },
  {
   "cell_type": "markdown",
   "metadata": {
    "heading_collapsed": true,
    "hidden": true,
    "id": "rva12r5WE7fI"
   },
   "source": [
    "## 6.1 Split dataframe into trainig and test dataset"
   ]
  },
  {
   "cell_type": "code",
   "execution_count": null,
   "metadata": {
    "ExecuteTime": {
     "end_time": "2022-04-06T20:23:46.617443Z",
     "start_time": "2022-04-06T20:23:46.065276Z"
    },
    "colab": {
     "base_uri": "https://localhost:8080/",
     "height": 424
    },
    "hidden": true,
    "id": "MqFMF8HPE-lN",
    "outputId": "c7edbbab-af10-4ceb-8e97-6bfb705188e2"
   },
   "outputs": [],
   "source": [
    "df5['date'] = pd.to_datetime( df5['date'])\n",
    "df5[['store', 'date']].groupby( 'store' ).max().reset_index()['date'][0] - datetime.timedelta( days=6*7 )\n",
    "cols_drop = ['week_of_year', 'day', 'month', 'day_of_week', 'promo_since', 'competition_since','year_week']\n",
    "df5 = df5.drop( cols_drop, axis=1)\n",
    "df5[['store', 'date']].groupby( 'store' ).min().reset_index()"
   ]
  },
  {
   "cell_type": "code",
   "execution_count": null,
   "metadata": {
    "ExecuteTime": {
     "end_time": "2022-04-06T20:23:57.437792Z",
     "start_time": "2022-04-06T20:23:57.200102Z"
    },
    "colab": {
     "base_uri": "https://localhost:8080/"
    },
    "hidden": true,
    "id": "1fyc50nTFP6p",
    "outputId": "9b16869c-81da-432c-a975-5b5bab15da2a"
   },
   "outputs": [],
   "source": [
    "# training dataset\n",
    "X_train = df5[df5['date'] < '2015-06-19']\n",
    "y_train = X_train['sales']\n",
    "\n",
    "# test dataset\n",
    "X_test = df5[df5['date'] >= '2015-06-19']\n",
    "y_test = X_test['sales']\n",
    "\n",
    "print( f\"Training Min Date: { X_train['date'].min()}\")\n",
    "print( f\"Training Max Date: { X_train['date'].max()}\")\n",
    "\n",
    "print( f\"\\nTest Min Date: { X_test['date'].min()}\")\n",
    "print( f\"Test Max Date: { X_test['date'].max()}\")"
   ]
  },
  {
   "cell_type": "code",
   "execution_count": null,
   "metadata": {
    "ExecuteTime": {
     "end_time": "2022-04-06T20:26:35.222418Z",
     "start_time": "2022-04-06T20:26:35.216078Z"
    },
    "hidden": true
   },
   "outputs": [],
   "source": [
    "X_train.shape"
   ]
  },
  {
   "cell_type": "markdown",
   "metadata": {
    "heading_collapsed": true,
    "hidden": true,
    "id": "tr6zmhRZFQ7L"
   },
   "source": [
    "## 6.2 Boruta as Feature Selector"
   ]
  },
  {
   "cell_type": "code",
   "execution_count": null,
   "metadata": {
    "colab": {
     "base_uri": "https://localhost:8080/",
     "height": 348
    },
    "hidden": true,
    "id": "aDu4IIIyFUi5",
    "outputId": "3f74ddae-4f08-4062-b5cf-986801820efd"
   },
   "outputs": [],
   "source": [
    "# training and test dataset for Boruta\n",
    "X_train_n = X_train.drop(['date', 'sales'], axis=1).values\n",
    "y_train_n = y_train.values.ravel()\n",
    "\n",
    "\n",
    "# define RandomForest Regressor\n",
    "rf = RandomForestRegressor( n_jobs=-1 )\n",
    "\n",
    "# define boruta\n",
    "boruta = BorutaPy( rf, n_estimators='auto', verbose=2, random_state=42 ).fit( X_train_n, y_train_n)"
   ]
  },
  {
   "cell_type": "markdown",
   "metadata": {
    "hidden": true,
    "id": "SvEovMMIFcd5"
   },
   "source": [
    "### 6.2.1 Best Features from Boruta"
   ]
  },
  {
   "cell_type": "code",
   "execution_count": null,
   "metadata": {
    "hidden": true,
    "id": "U4wvt62HFZtd"
   },
   "outputs": [],
   "source": [
    "cols_selected = boruta.support_.tolist()\n",
    "\n",
    "# best features\n",
    "X_train_fs = X_train.drop( ['date', 'sales'], axis=1 )\n",
    "cols_selected_boruta = X_train_fs.iloc[:, cols_selected].columns.to_list()\n",
    "\n",
    "cols_not_selected_boruta = list(np.setdiff1d(X_train_fs.columns, cols_selected_boruta))"
   ]
  },
  {
   "cell_type": "code",
   "execution_count": null,
   "metadata": {
    "ExecuteTime": {
     "end_time": "2022-04-06T20:26:07.079043Z",
     "start_time": "2022-04-06T20:26:07.066013Z"
    },
    "hidden": true,
    "id": "cqHoqhB40mlg"
   },
   "outputs": [],
   "source": [
    "cols_selected_boruta = [\n",
    "  'store',\n",
    " 'promo',\n",
    " 'store_type',\n",
    " 'assortment',\n",
    " 'competition_distance',\n",
    " 'competition_open_since_month',\n",
    " 'competition_open_since_year',\n",
    " 'promo2',\n",
    " 'promo2_since_week',\n",
    " 'promo2_since_year',\n",
    " 'competition_since_month',\n",
    " 'competition_time_month',\n",
    " 'promo_time_week',\n",
    " 'day_sin',\n",
    " 'day_cos',\n",
    " 'day_of_week_sin',\n",
    " 'day_of_week_cos',\n",
    " 'month_sin',\n",
    " 'month_cos',\n",
    " 'week_of_year_sin',\n",
    " 'week_of_year_cos']\n",
    "\n",
    "# columns to add\n",
    "feat_to_add = [ 'date', 'sales']\n",
    "\n",
    "cols_selected_boruta_full = cols_selected_boruta.copy()\n",
    "\n",
    "# final features\n",
    "cols_selected_boruta_full.extend( feat_to_add )"
   ]
  },
  {
   "cell_type": "markdown",
   "metadata": {
    "heading_collapsed": true,
    "id": "sOtNF-EnRdfB"
   },
   "source": [
    "# 7.0 Machine Learning Modelling "
   ]
  },
  {
   "cell_type": "code",
   "execution_count": null,
   "metadata": {
    "ExecuteTime": {
     "end_time": "2022-04-06T20:26:11.387797Z",
     "start_time": "2022-04-06T20:26:10.872111Z"
    },
    "hidden": true,
    "id": "NSHbWaxv06Ay"
   },
   "outputs": [],
   "source": [
    "x_train = X_train[ cols_selected_boruta ]\n",
    "x_test = X_test[ cols_selected_boruta ]\n",
    "x_training = X_train[cols_selected_boruta_full]"
   ]
  },
  {
   "cell_type": "code",
   "execution_count": null,
   "metadata": {
    "ExecuteTime": {
     "end_time": "2022-04-06T20:27:15.905197Z",
     "start_time": "2022-04-06T20:27:15.899238Z"
    },
    "hidden": true
   },
   "outputs": [],
   "source": [
    "x_train.shape"
   ]
  },
  {
   "cell_type": "markdown",
   "metadata": {
    "heading_collapsed": true,
    "hidden": true,
    "id": "ICZcoLRqZiwr"
   },
   "source": [
    "## 7.1 Average Model"
   ]
  },
  {
   "cell_type": "code",
   "execution_count": null,
   "metadata": {
    "colab": {
     "base_uri": "https://localhost:8080/",
     "height": 81
    },
    "hidden": true,
    "id": "Qxu5kyl4ZtEH",
    "outputId": "4ee64212-165a-4b9d-f53d-60c9913421ad"
   },
   "outputs": [],
   "source": [
    "aux1 = x_test.copy()\n",
    "aux1['sales'] = y_test.copy()\n",
    "\n",
    "# prediction\n",
    "aux2 = aux1[['store', 'sales']].groupby( 'store' ).mean().reset_index().rename( columns={'sales': 'predictions'})\n",
    "aux1 = pd.merge( aux1, aux2, how='left', on='store')\n",
    "yhat_baseline = aux1['predictions']\n",
    "\n",
    "#performance\n",
    "baseline_result = ml_error('Average Model', np.expm1(y_test), np.expm1(yhat_baseline))\n",
    "baseline_result"
   ]
  },
  {
   "cell_type": "markdown",
   "metadata": {
    "heading_collapsed": true,
    "hidden": true,
    "id": "4rDM5v90ZydA"
   },
   "source": [
    "## 7.2 Linear Regression Model"
   ]
  },
  {
   "cell_type": "code",
   "execution_count": null,
   "metadata": {
    "colab": {
     "base_uri": "https://localhost:8080/",
     "height": 81
    },
    "hidden": true,
    "id": "Lgb8L_V5ZxV0",
    "outputId": "47d2809e-16b7-40ad-869a-52e878af2c56"
   },
   "outputs": [],
   "source": [
    "#model\n",
    "lr = LinearRegression().fit( x_train, y_train)\n",
    "\n",
    "#prediction\n",
    "yhat_lr = lr.predict( x_test )\n",
    "\n",
    "#performance\n",
    "lr_result = ml_error( 'Linear Regression', np.expm1( y_test ), np.expm1( yhat_lr))\n",
    "lr_result"
   ]
  },
  {
   "cell_type": "markdown",
   "metadata": {
    "heading_collapsed": true,
    "hidden": true,
    "id": "dSxthYj2HD0s"
   },
   "source": [
    "### 7.2.1 Linear Regression Model - Cross Validation"
   ]
  },
  {
   "cell_type": "code",
   "execution_count": null,
   "metadata": {
    "colab": {
     "base_uri": "https://localhost:8080/",
     "height": 81
    },
    "hidden": true,
    "id": "GUVrWYfLHCu0",
    "outputId": "ef9c4c5b-9f8c-4507-d948-aa70f8fe347e"
   },
   "outputs": [],
   "source": [
    "lr = LinearRegression()\n",
    "lr_result_cv = cross_validation( x_training, 5, 'Linear Regression', lr)\n",
    "lr_result_cv"
   ]
  },
  {
   "cell_type": "markdown",
   "metadata": {
    "heading_collapsed": true,
    "hidden": true,
    "id": "bqdjDgWQZ3VX"
   },
   "source": [
    "## 7.3 Linear Regression Regularized Model - Lasso"
   ]
  },
  {
   "cell_type": "code",
   "execution_count": null,
   "metadata": {
    "colab": {
     "base_uri": "https://localhost:8080/",
     "height": 81
    },
    "hidden": true,
    "id": "B1ymPCrHZ7Hi",
    "outputId": "48290b21-ec1a-4ea2-c251-e2ac16028e11"
   },
   "outputs": [],
   "source": [
    "#model\n",
    "lrr = Lasso( alpha=0.001 ).fit( x_train, y_train)\n",
    "\n",
    "#prediction\n",
    "yhat_lrr = lrr.predict( x_test )\n",
    "\n",
    "#performance\n",
    "lrr_result = ml_error( 'Linear Regression - Lasso', np.expm1( y_test ), np.expm1( yhat_lrr))\n",
    "lrr_result"
   ]
  },
  {
   "cell_type": "markdown",
   "metadata": {
    "heading_collapsed": true,
    "hidden": true,
    "id": "rYHdTOOvI6q9"
   },
   "source": [
    "### 7.3.1 Linear Regression Regularized Model - Cross Validation"
   ]
  },
  {
   "cell_type": "code",
   "execution_count": null,
   "metadata": {
    "colab": {
     "base_uri": "https://localhost:8080/",
     "height": 81
    },
    "hidden": true,
    "id": "0mr9GIraI6q_",
    "outputId": "f384eac6-060a-4682-dc9b-d8f885c0ee20"
   },
   "outputs": [],
   "source": [
    "lrr = Lasso( alpha=0.01 )\n",
    "lrr_result_cv = cross_validation( x_training, 5, 'Lasso', lrr)\n",
    "lrr_result_cv"
   ]
  },
  {
   "cell_type": "markdown",
   "metadata": {
    "heading_collapsed": true,
    "hidden": true,
    "id": "Vn6duPCdaAlU"
   },
   "source": [
    "## 7.4 Random Forest Regressor"
   ]
  },
  {
   "cell_type": "code",
   "execution_count": null,
   "metadata": {
    "colab": {
     "base_uri": "https://localhost:8080/",
     "height": 81
    },
    "hidden": true,
    "id": "jF3HfRZw3wJo",
    "outputId": "f794a783-7beb-4ce8-c066-881bf86fadb1"
   },
   "outputs": [],
   "source": [
    "rf = RandomForestRegressor( n_estimators=100, n_jobs=-1, random_state=42 ).fit( x_train, y_train)\n",
    "\n",
    "#prediction\n",
    "yhat_rf = rf.predict( x_test )\n",
    "\n",
    "#performance\n",
    "rf_result = ml_error( 'Random Forest Regressor', np.expm1( y_test ), np.expm1( yhat_rf))\n",
    "rf_result"
   ]
  },
  {
   "cell_type": "markdown",
   "metadata": {
    "heading_collapsed": true,
    "hidden": true,
    "id": "Atmq_lSKKWlJ"
   },
   "source": [
    "### 7.4.1 Random Forest Regressor Model - Cross Validation"
   ]
  },
  {
   "cell_type": "code",
   "execution_count": null,
   "metadata": {
    "colab": {
     "base_uri": "https://localhost:8080/",
     "height": 254
    },
    "hidden": true,
    "id": "nx_zKqOeKWlM",
    "outputId": "32de0886-aa0c-4ed9-d35b-5f4f038e10b4"
   },
   "outputs": [],
   "source": [
    "rf = RandomForestRegressor( n_estimators=100, n_jobs=-1, random_state=42 )\n",
    "rf_result_cv = cross_validation( x_training, 5, 'Random Forest Regressor', rf, verbose=True)\n",
    "rf_result_cv"
   ]
  },
  {
   "cell_type": "markdown",
   "metadata": {
    "heading_collapsed": true,
    "hidden": true,
    "id": "oazJasm9eCoQ"
   },
   "source": [
    "## 7.5 XGBoost Regressor"
   ]
  },
  {
   "cell_type": "code",
   "execution_count": null,
   "metadata": {
    "colab": {
     "base_uri": "https://localhost:8080/",
     "height": 81
    },
    "hidden": true,
    "id": "xZ20OnMXZsJp",
    "outputId": "959a5b21-e866-4538-dcb0-292116878f30"
   },
   "outputs": [],
   "source": [
    "model_xgb = xgb.XGBRegressor( objective='reg:squarederror',\n",
    "                              n_estimators=100, \n",
    "                              eta=0.01,\n",
    "                              max_depth=10,\n",
    "                              subsample=0.7,\n",
    "                              colsample_bytree=0.9 ).fit( x_train, y_train)\n",
    "\n",
    "#prediction\n",
    "yhat_xgb = model_xgb.predict( x_test )\n",
    "\n",
    "#performance\n",
    "xgb_result = ml_error( 'XGBoost Regressor', np.expm1( y_test ), np.expm1( yhat_xgb))\n",
    "xgb_result"
   ]
  },
  {
   "cell_type": "markdown",
   "metadata": {
    "heading_collapsed": true,
    "hidden": true,
    "id": "eG0uIyBFLB46"
   },
   "source": [
    "### 7.5.1 XGBoost Regressor Model - Cross Validation"
   ]
  },
  {
   "cell_type": "code",
   "execution_count": null,
   "metadata": {
    "colab": {
     "base_uri": "https://localhost:8080/",
     "height": 254
    },
    "hidden": true,
    "id": "9-juS-AuLB4-",
    "outputId": "0ba41b21-ffed-4470-d56c-b1b14f57e1f1"
   },
   "outputs": [],
   "source": [
    "model_xgb = xgb.XGBRegressor( objective='reg:squarederror',\n",
    "                              n_estimators=100, \n",
    "                              eta=0.01,\n",
    "                              max_depth=10,\n",
    "                              subsample=0.7,\n",
    "                              colsample_bytree=0.9 )\n",
    "xgb_result_cv = cross_validation( x_training, 5, 'XGBoost Regressor', model_xgb, verbose=True)\n",
    "xgb_result_cv"
   ]
  },
  {
   "cell_type": "markdown",
   "metadata": {
    "heading_collapsed": true,
    "hidden": true,
    "id": "jOezVO_tgH8n"
   },
   "source": [
    "## 7.6 Compare Model's Performance"
   ]
  },
  {
   "cell_type": "markdown",
   "metadata": {
    "heading_collapsed": true,
    "hidden": true,
    "id": "vpijZwuELj0Y"
   },
   "source": [
    "### 7.6.1 Single Performance"
   ]
  },
  {
   "cell_type": "code",
   "execution_count": null,
   "metadata": {
    "colab": {
     "base_uri": "https://localhost:8080/",
     "height": 206
    },
    "hidden": true,
    "id": "phq3cTQegO8j",
    "outputId": "e0c47cf7-6ad9-470b-c68d-f4e9e99c27c5"
   },
   "outputs": [],
   "source": [
    "modelling_result = pd.concat( [baseline_result, lr_result, lrr_result, rf_result, xgb_result] )\n",
    "modelling_result.sort_values( 'RMSE' )"
   ]
  },
  {
   "cell_type": "markdown",
   "metadata": {
    "heading_collapsed": true,
    "hidden": true,
    "id": "qlLaXAnyLfR9"
   },
   "source": [
    "### 7.6.2 Real Performance - Cross Validation"
   ]
  },
  {
   "cell_type": "code",
   "execution_count": null,
   "metadata": {
    "colab": {
     "base_uri": "https://localhost:8080/",
     "height": 175
    },
    "hidden": true,
    "id": "DjtJMB3ILfSA",
    "outputId": "8c5d211c-64a8-494e-eea2-55fce98b70c8"
   },
   "outputs": [],
   "source": [
    "modelling_result_cv = pd.concat( [lr_result_cv, lrr_result_cv, rf_result_cv, xgb_result_cv] )\n",
    "modelling_result_cv"
   ]
  },
  {
   "cell_type": "code",
   "execution_count": null,
   "metadata": {
    "hidden": true,
    "id": "8kQ7kHHQI3--"
   },
   "outputs": [],
   "source": []
  },
  {
   "cell_type": "markdown",
   "metadata": {
    "heading_collapsed": true,
    "id": "BWa1xngD-27h"
   },
   "source": [
    "# 8.0 Hyperparameter Fine Tuning"
   ]
  },
  {
   "cell_type": "markdown",
   "metadata": {
    "heading_collapsed": true,
    "hidden": true,
    "id": "4GZ16-h4--OE"
   },
   "source": [
    "## 8.1 Random Search"
   ]
  },
  {
   "cell_type": "code",
   "execution_count": null,
   "metadata": {
    "hidden": true,
    "id": "GuX76emtNWy0"
   },
   "outputs": [],
   "source": [
    "warnings.filterwarnings( 'ignore' )"
   ]
  },
  {
   "cell_type": "code",
   "execution_count": null,
   "metadata": {
    "hidden": true,
    "id": "2tnLFHcZKzz4"
   },
   "outputs": [],
   "source": [
    "param = {\n",
    "    'n_estimators':[1500, 1700, 2500, 3000, 3500],\n",
    "    'eta':[0.01, 0.03],\n",
    "    'max_depth':[3, 5, 9],\n",
    "    'subsample':[0.1, 0.5, 0.7],\n",
    "    'colsample_bytree':[0.3, 0.7, 0.9],\n",
    "    'min_child_weight':[3, 8, 15],\n",
    "    }\n",
    "\n",
    "MAX_EVAL = 5"
   ]
  },
  {
   "cell_type": "code",
   "execution_count": null,
   "metadata": {
    "colab": {
     "base_uri": "https://localhost:8080/",
     "height": 237
    },
    "hidden": true,
    "id": "bD5hfxzE_L59",
    "outputId": "1c7815b6-f354-48fd-b13c-618b6e8f157c"
   },
   "outputs": [],
   "source": [
    "final_result = pd.DataFrame()\n",
    "for i in range( MAX_EVAL ):\n",
    "    # choose values for parameters randomly\n",
    "    hp = {k: random.sample( v, 1 )[0] for k, v in param.items()}\n",
    "    print( hp )\n",
    "    #model\n",
    "    model_xgb = xgb.XGBRegressor( objective='reg:squarederror',\n",
    "                                  n_estimators=hp['n_estimators'], \n",
    "                                  eta=hp['eta'],\n",
    "                                  max_depth=hp['max_depth'],\n",
    "                                  subsample=hp['subsample'],\n",
    "                                  colsample_bytree=hp['colsample_bytree'],\n",
    "                                  min_child_weight =hp['min_child_weight'] )\n",
    "    #performance\n",
    "    result = cross_validation( x_training, 5, 'XGBoost Regressor', model_xgb)\n",
    "    final_result = pd.concat([ final_result, result])\n",
    "\n",
    "final_result"
   ]
  },
  {
   "cell_type": "markdown",
   "metadata": {
    "heading_collapsed": true,
    "hidden": true,
    "id": "ldsyZO5Z-953"
   },
   "source": [
    "## 8.2 Final Model"
   ]
  },
  {
   "cell_type": "code",
   "execution_count": null,
   "metadata": {
    "ExecuteTime": {
     "end_time": "2022-04-06T13:54:14.384501Z",
     "start_time": "2022-04-06T13:54:14.380381Z"
    },
    "hidden": true,
    "id": "tw-cRMJCO_Sc"
   },
   "outputs": [],
   "source": [
    "param_tuned = {\n",
    "    'n_estimators':3000,\n",
    "    'eta':0.03,\n",
    "    'max_depth':5,\n",
    "    'subsample':0.7,\n",
    "    'colsample_bytree':0.7,\n",
    "    'min_child_weight':3,\n",
    "    }"
   ]
  },
  {
   "cell_type": "code",
   "execution_count": null,
   "metadata": {
    "ExecuteTime": {
     "end_time": "2022-04-06T14:21:19.628774Z",
     "start_time": "2022-04-06T13:54:20.238328Z"
    },
    "colab": {
     "base_uri": "https://localhost:8080/",
     "height": 81
    },
    "hidden": true,
    "id": "0zHxWI5Raa85",
    "outputId": "0987bf0e-0244-4aa4-b3d7-9cb969aba361"
   },
   "outputs": [],
   "source": [
    "#model\n",
    "model_xgb_tuned = xgb.XGBRegressor( objective='reg:squarederror',\n",
    "                                    n_estimators=param_tuned['n_estimators'], \n",
    "                                    eta=param_tuned['eta'],\n",
    "                                    max_depth=param_tuned['max_depth'],\n",
    "                                    subsample=param_tuned['subsample'],\n",
    "                                    colsample_bytree=param_tuned['colsample_bytree'],\n",
    "                                    min_child_weight =param_tuned['min_child_weight'] ).fit(x_train, y_train)\n",
    "\n",
    "#prediction\n",
    "yhat_xgb_tuned = model_xgb_tuned.predict(x_test)\n",
    "\n",
    "#performance\n",
    "xgb_result_tuned = ml_error( 'XGBoost Regressor', np.expm1(y_test), np.expm1(yhat_xgb_tuned))\n",
    "xgb_result_tuned"
   ]
  },
  {
   "cell_type": "code",
   "execution_count": null,
   "metadata": {
    "ExecuteTime": {
     "end_time": "2022-04-06T14:31:25.034246Z",
     "start_time": "2022-04-06T14:31:24.508500Z"
    },
    "hidden": true
   },
   "outputs": [],
   "source": [
    "pickle.dump( model_xgb_tuned, open( '/home/alex/repos/repos/projeto_DS_producao/model/model_rossmann.pkl', 'wb' ) )"
   ]
  },
  {
   "cell_type": "markdown",
   "metadata": {
    "heading_collapsed": true,
    "id": "rGg2bdOywPHB"
   },
   "source": [
    "# 9.0 Tradução e Interpretação do Erro"
   ]
  },
  {
   "cell_type": "code",
   "execution_count": null,
   "metadata": {
    "hidden": true,
    "id": "J85DPKGbxBDt"
   },
   "outputs": [],
   "source": [
    "df9 = X_test[ cols_selected_boruta_full ]\n",
    "\n",
    "#rescale\n",
    "df9[ 'sales' ] = np.expm1( df9['sales'] )\n",
    "df9['predictions'] = np.expm1( yhat_xgb_tuned )"
   ]
  },
  {
   "cell_type": "markdown",
   "metadata": {
    "heading_collapsed": true,
    "hidden": true,
    "id": "cuf7U1diwYKB"
   },
   "source": [
    "## 9.1 Business Performance"
   ]
  },
  {
   "cell_type": "code",
   "execution_count": null,
   "metadata": {
    "hidden": true,
    "id": "At511Qnjw_1Z"
   },
   "outputs": [],
   "source": [
    "# sum of predictions\n",
    "df91 = df9[['store', 'predictions']].groupby( 'store' ).sum().reset_index()\n",
    "\n",
    "# MAE and MAPE\n",
    "df9_aux1 = df9[[ 'store', 'sales', 'predictions']].groupby( 'store').apply( lambda x: mean_absolute_error( x['sales'], x['predictions'])).reset_index().rename(columns={0:'MAE'})\n",
    "df9_aux2 = df9[[ 'store', 'sales', 'predictions']].groupby( 'store').apply( lambda x: mean_absolute_percentage_error( x['sales'], x['predictions'])).reset_index().rename(columns={0:'MAPE'})\n",
    "\n",
    "# merge\n",
    "df9_aux3 = pd.merge( df9_aux1, df9_aux2, how='inner', on='store')\n",
    "df92 = pd.merge( df91, df9_aux3, how='inner', on='store')\n",
    "\n",
    "# scenarios\n",
    "df92['worst_scenario'] = df92['predictions'] - df92['MAE']\n",
    "df92['best_scenario'] = df92['predictions'] + df92['MAE']\n",
    "\n",
    "# order columns\n",
    "df92 = df92[['store', 'predictions', 'worst_scenario', 'best_scenario', 'MAE', 'MAPE']]\n"
   ]
  },
  {
   "cell_type": "code",
   "execution_count": null,
   "metadata": {
    "colab": {
     "base_uri": "https://localhost:8080/",
     "height": 206
    },
    "hidden": true,
    "id": "L4z58sSywXA-",
    "outputId": "5b82846a-80f3-464d-c238-dea019bddc5f"
   },
   "outputs": [],
   "source": [
    "df92.sort_values( 'MAPE', ascending=False).head()"
   ]
  },
  {
   "cell_type": "code",
   "execution_count": null,
   "metadata": {
    "colab": {
     "base_uri": "https://localhost:8080/",
     "height": 632
    },
    "hidden": true,
    "id": "VKeXXjAaOcqU",
    "outputId": "fa91a59d-b95d-4bf4-d433-f65b9717907d"
   },
   "outputs": [],
   "source": [
    "sns.scatterplot( x='store', y= 'MAPE', data=df92)"
   ]
  },
  {
   "cell_type": "markdown",
   "metadata": {
    "heading_collapsed": true,
    "hidden": true,
    "id": "SZjq1gAlwYSo"
   },
   "source": [
    "## 9.2 Total Performance"
   ]
  },
  {
   "cell_type": "code",
   "execution_count": null,
   "metadata": {
    "colab": {
     "base_uri": "https://localhost:8080/",
     "height": 143
    },
    "hidden": true,
    "id": "7ZeHZZQFwXS9",
    "outputId": "5480569a-3667-489e-844c-3a61302f013c"
   },
   "outputs": [],
   "source": [
    "df93 = df92[['predictions', 'worst_scenario', 'best_scenario']].apply( lambda x: np.sum(x), axis=0).reset_index().rename(columns={'index':'Scenario', 0: 'Values'})\n",
    "df93['Values'] = df93['Values'].map( 'R${:,.2f}'.format )\n",
    "df93"
   ]
  },
  {
   "cell_type": "markdown",
   "metadata": {
    "heading_collapsed": true,
    "hidden": true,
    "id": "QWuO8WkbwnG4"
   },
   "source": [
    "## 9.3 Machine Learning Performance"
   ]
  },
  {
   "cell_type": "code",
   "execution_count": null,
   "metadata": {
    "hidden": true,
    "id": "neVzHHRtvlSE"
   },
   "outputs": [],
   "source": [
    "df9['error'] = df9['sales'] - df9['predictions']\n",
    "df9['error_rate'] = df9['predictions'] / df9['sales']"
   ]
  },
  {
   "cell_type": "code",
   "execution_count": null,
   "metadata": {
    "colab": {
     "base_uri": "https://localhost:8080/",
     "height": 635
    },
    "hidden": true,
    "id": "09UtAMUXQWTL",
    "outputId": "04e2645d-f718-4fb5-82f4-34db51649a49"
   },
   "outputs": [],
   "source": [
    "plt.subplot( 2, 2, 1 )\n",
    "sns.lineplot( x='date', y='sales', data=df9, label='SALES')\n",
    "sns.lineplot( x='date', y='predictions', data=df9, label='PREDICTIONS')\n",
    "\n",
    "plt.subplot( 2, 2, 2 )\n",
    "sns.lineplot( x='date', y='error_rate', data=df9)\n",
    "plt.axhline( 1, linestyle='--')\n",
    "\n",
    "plt.subplot( 2, 2, 3 )\n",
    "sns.distplot( df9['error'])\n",
    "\n",
    "plt.subplot( 2, 2, 4 )\n",
    "sns.scatterplot( df9['predictions'], df9['error'])"
   ]
  },
  {
   "cell_type": "markdown",
   "metadata": {
    "id": "Iuaf2P-DRNYM"
   },
   "source": [
    "# 10.0 Deploy Model to Production"
   ]
  },
  {
   "cell_type": "markdown",
   "metadata": {},
   "source": [
    "## 10.1 Rossmann Class"
   ]
  },
  {
   "cell_type": "code",
   "execution_count": 11,
   "metadata": {
    "ExecuteTime": {
     "end_time": "2022-04-07T13:06:26.067035Z",
     "start_time": "2022-04-07T13:06:26.013773Z"
    }
   },
   "outputs": [],
   "source": [
    "import math\n",
    "import pickle\n",
    "import datetime\n",
    "import inflection\n",
    "import numpy as np\n",
    "import pandas as pd\n",
    "\n",
    "class Rossmann( object ):\n",
    "    \n",
    "    def __init__( self ):\n",
    "        self.home_path = '/home/alex/repos/repos/projeto_DS_producao/'\n",
    "        self.competition_distance_scaler   = pickle.load( open( self.home_path + 'parameter/competition_distance_scaler.pkl', 'rb'))\n",
    "        self.competition_distance_scaler   = pickle.load( open( self.home_path + 'parameter/competition_distance_scaler.pkl', 'rb'))\n",
    "        self.year_scaler                   = pickle.load( open( self.home_path + 'parameter/year_scaler.pkl', 'rb'))\n",
    "        self.competition_time_month_scaler = pickle.load( open( self.home_path + 'parameter/competition_time_month_scaler.pkl', 'rb'))\n",
    "        self.promo_time_week_scaler        = pickle.load( open( self.home_path + 'parameter/promo_time_week_scaler.pkl', 'rb'))\n",
    "        self.store_type_scaler             = pickle.load( open( self.home_path + 'parameter/store_type_scaler.pkl', 'rb'))\n",
    "\n",
    "        \n",
    "    def data_cleaning( self, df1):\n",
    "\n",
    "        #1.1 Rename Columns\n",
    "        cols_old = ['Store', 'DayOfWeek', 'Date', 'Open', 'Promo', \n",
    "            'StateHoliday', 'SchoolHoliday', 'StoreType', 'Assortment', \n",
    "            'CompetitionDistance', 'CompetitionOpenSinceMonth', 'CompetitionOpenSinceYear',\n",
    "            'Promo2', 'Promo2SinceWeek', 'Promo2SinceYear', 'PromoInterval']\n",
    "\n",
    "        snakecase = lambda x: inflection.underscore( x )\n",
    "\n",
    "        cols_new = list(map( snakecase, cols_old))\n",
    "\n",
    "        # rename\n",
    "        df1.columns = cols_new\n",
    "\n",
    "        #1.3 Data Types\n",
    "        df1['date'] = pd.to_datetime( df1['date'])\n",
    "\n",
    "        #1.5 Fillout NA\n",
    "        # competition_distance    \n",
    "        df1['competition_distance'] = df1['competition_distance'].apply( lambda x: 200000.0 if math.isnan( x ) else x)\n",
    "\n",
    "        # competition_open_since_month\n",
    "        df1['competition_open_since_month'] = df1.apply( lambda x: x['date'].month if math.isnan( x['competition_open_since_month'] ) else x['competition_open_since_month'], axis=1)\n",
    "\n",
    "        # competition_open_since_year    \n",
    "        df1['competition_open_since_year'] = df1.apply( lambda x: x['date'].year if math.isnan( x['competition_open_since_year'] ) else x['competition_open_since_year'], axis=1)\n",
    "\n",
    "        # promo2_since_week              \n",
    "        df1['promo2_since_week'] = df1.apply( lambda x: x['date'].week if math.isnan( x['promo2_since_week'] ) else x['promo2_since_week'], axis=1)\n",
    "\n",
    "        # promo2_since_year              \n",
    "        df1['promo2_since_year'] = df1.apply( lambda x: x['date'].year if math.isnan( x['promo2_since_year'] ) else x['promo2_since_year'], axis=1)\n",
    "\n",
    "        # promo_interval \n",
    "        month_map = {1: 'Jan', 2: 'Feb', 3: 'Mar', 4: 'Apr', 5: 'May', 6: 'Jun', 7: 'Jul', 8: 'Aug', 9: 'Sep', 10: 'Oct', 11: 'Nov', 12: 'Dec' }\n",
    "\n",
    "        df1['promo_interval'].fillna(0, inplace=True)\n",
    "\n",
    "        df1['month_map'] = df1['date'].dt.month.map( month_map )\n",
    "\n",
    "        df1['is_promo'] = df1[['promo_interval', 'month_map']].apply( lambda x: 0 if x['promo_interval'] == 0 else 1 if x['month_map'] in x['promo_interval'].split( ',' ) else 0, axis=1 )\n",
    "\n",
    "        #1.6 Change Types\n",
    "        # competition\n",
    "        df1['competition_open_since_month'] = df1['competition_open_since_month'].astype( int )\n",
    "        df1['competition_open_since_year'] = df1['competition_open_since_year'].astype( int )\n",
    "\n",
    "        # promo 2\n",
    "        df1['promo2_since_week'] = df1['promo2_since_week'].astype( int )\n",
    "        df1['promo2_since_year'] = df1['promo2_since_year'].astype( int )\n",
    "        \n",
    "        return df1\n",
    "    \n",
    "   \n",
    "    def feature_engineering( self, df2):\n",
    "        \n",
    "        # year\n",
    "        df2['year'] = df2['date'].dt.year\n",
    "\n",
    "        #month\n",
    "        df2['month'] = df2['date'].dt.month\n",
    "\n",
    "        #day\n",
    "        df2['day'] = df2['date'].dt.day\n",
    "\n",
    "        #week of year\n",
    "        df2['week_of_year'] = df2['date'].dt.weekofyear\n",
    "\n",
    "        #year week\n",
    "        df2['year_week'] = df2['date'].dt.strftime( '%Y-%W' )\n",
    "\n",
    "        #competition since\n",
    "        df2['competition_since'] = df2.apply(lambda x: datetime.datetime( year=x['competition_open_since_year'], month=x['competition_open_since_month'], day=1), axis=1)\n",
    "        df2['competition_since_month'] = ((df2['date'] - df2['competition_since'])/30).apply(lambda x: x.days).astype( int )\n",
    "        df2['competition_time_month'] = ((df2['date'] - df2['competition_since'])/30).apply(lambda x: x.days).astype( int )\n",
    "\n",
    "        #promo since\n",
    "        df2['promo_since'] = df2['promo2_since_year'].astype(str) + '-' + df2['promo2_since_week'].astype(str)\n",
    "        df2['promo_since'] = df2['promo_since'].apply(lambda x: datetime.datetime.strptime( x + '-1', '%Y-%W-%w' ) - datetime.timedelta( days=7 ))\n",
    "        df2['promo_time_week'] = ( ( df2['date'] - df2['promo_since'] )/7 ).apply(lambda x: x.days ).astype( int )\n",
    "\n",
    "        #assortment / a=basic, b=extra, c=extended\n",
    "        df2['assortment'] = df2['assortment'].apply(lambda x: 'basic' if x == 'a' else 'extra' if x == 'b' else 'extended')\n",
    "\n",
    "        #state holiday / a=public holiday, b=easter holiday, c=christmas\n",
    "        df2['state_holiday'] = df2['state_holiday'].apply(lambda x: 'public_holiday' if x == 'a' else 'easter_holiday' if x == 'b' else 'christmas' if x =='c' else 'regular_day')\n",
    "\n",
    "        #3.0 Filtragem de Variáveis\n",
    "        #3.1 Filtragem das Linhas\n",
    "        df2 = df2[(df2['open'] != 0)]\n",
    "\n",
    "        #3.2 Seleção das Colunas\n",
    "        df2 = df2.drop( columns = ['open', 'promo_interval', 'month_map'] )\n",
    "        \n",
    "        return df2\n",
    "\n",
    "    \n",
    "    def data_preparation( self, df4 ):\n",
    "\n",
    "        #5.2 Rescaling\n",
    "        # competition distance\n",
    "        df4['competition_distance'] = self.competition_distance_scaler.transform(df4[['competition_distance']].values)\n",
    "\n",
    "        # year\n",
    "        df4['year'] = self.year_scaler.transform(df4[['year']].values)\n",
    "\n",
    "        # competition time month\n",
    "        df4['competition_time_month'] = self.competition_time_month_scaler.transform(df4[['competition_time_month']].values)\n",
    "\n",
    "        #promo time week\n",
    "        df4['promo_time_week'] = self.promo_time_week_scaler.transform(df4[['promo_time_week']].values)\n",
    "\n",
    "        #5.3.1 Encoding\n",
    "        #state_holiday - onehot encoding\n",
    "        df4 = pd.get_dummies( df4, prefix=['state_holiday'], columns=['state_holiday'])\n",
    "\n",
    "        #store_type - label encoding\n",
    "        df4['store_type'] = self.store_type_scaler.transform(df4['store_type'])\n",
    "\n",
    "        #assortment - ordinal encoding\n",
    "        assortment_dict = {'basic': 1, 'extra': 2, 'extended': 3}\n",
    "        df4['assortment'] = df4['assortment'].map( assortment_dict )\n",
    "\n",
    "        #5.3.3 Nature Transformation\n",
    "        # day\n",
    "        df4['day_sin'] = df4['day'].apply( lambda x: np.sin( x * (2 * np.pi/30)))\n",
    "        df4['day_cos'] = df4['day'].apply( lambda x: np.cos( x * (2 * np.pi/30)))\n",
    "\n",
    "        # day of week\n",
    "        df4['day_of_week_sin'] = df4['day_of_week'].apply( lambda x: np.sin( x * (2 * np.pi/7)))\n",
    "        df4['day_of_week_cos'] = df4['day_of_week'].apply( lambda x: np.cos( x * (2 * np.pi/7)))\n",
    "\n",
    "        # month\n",
    "        df4['month_sin'] = df4['month'].apply( lambda x: np.sin( x * (2 * np.pi/12)))\n",
    "        df4['month_cos'] = df4['month'].apply( lambda x: np.cos( x * (2 * np.pi/12)))\n",
    "\n",
    "        # week of year\n",
    "        df4['week_of_year_sin'] = df4['week_of_year'].apply( lambda x: np.sin( x * (2 * np.pi/52)))\n",
    "        df4['week_of_year_cos'] = df4['week_of_year'].apply( lambda x: np.cos( x * (2 * np.pi/52)))\n",
    "        \n",
    "        cols_selected = [ 'store', 'promo', 'store_type', 'assortment', 'competition_distance',\n",
    "                                'competition_open_since_month', 'competition_open_since_year', 'promo2',\n",
    "                                'promo2_since_week', 'promo2_since_year', 'competition_since_month',\n",
    "                                'competition_time_month', 'promo_time_week', 'day_sin', 'day_cos',\n",
    "                                'day_of_week_sin', 'day_of_week_cos', 'month_sin', 'month_cos',\n",
    "                                'week_of_year_sin', 'week_of_year_cos']\n",
    "        \n",
    "        df4 = df4[ cols_selected ]\n",
    "        \n",
    "        return df4\n",
    "    \n",
    "    def get_prediction( self, model, original_data, test_data):\n",
    "        # prediction\n",
    "        pred = model.predict( test_data )\n",
    "        \n",
    "        # join pred into the original data\n",
    "        original_data['prediction'] = np.expm1( pred )\n",
    "        \n",
    "        return original_data.to_json( orient='records', date_format='iso')"
   ]
  },
  {
   "cell_type": "markdown",
   "metadata": {},
   "source": [
    "## 10.2 API Handler"
   ]
  },
  {
   "cell_type": "code",
   "execution_count": 5,
   "metadata": {
    "ExecuteTime": {
     "end_time": "2022-04-07T13:01:42.778125Z",
     "start_time": "2022-04-07T13:01:41.876753Z"
    }
   },
   "outputs": [
    {
     "ename": "ModuleNotFoundError",
     "evalue": "No module named 'rossmann'",
     "output_type": "error",
     "traceback": [
      "\u001b[0;31m---------------------------------------------------------------------------\u001b[0m",
      "\u001b[0;31mModuleNotFoundError\u001b[0m                       Traceback (most recent call last)",
      "Input \u001b[0;32mIn [5]\u001b[0m, in \u001b[0;36m<cell line: 3>\u001b[0;34m()\u001b[0m\n\u001b[1;32m      1\u001b[0m \u001b[38;5;28;01mimport\u001b[39;00m \u001b[38;5;21;01mpickle\u001b[39;00m\n\u001b[1;32m      2\u001b[0m \u001b[38;5;28;01mimport\u001b[39;00m \u001b[38;5;21;01mpandas\u001b[39;00m \u001b[38;5;28;01mas\u001b[39;00m \u001b[38;5;21;01mpd\u001b[39;00m\n\u001b[0;32m----> 3\u001b[0m \u001b[38;5;28;01mfrom\u001b[39;00m \u001b[38;5;21;01mrossmann\u001b[39;00m\u001b[38;5;21;01m.\u001b[39;00m\u001b[38;5;21;01mRossmann\u001b[39;00m \u001b[38;5;28;01mimport\u001b[39;00m Rossmann\n\u001b[1;32m      4\u001b[0m \u001b[38;5;28;01mfrom\u001b[39;00m \u001b[38;5;21;01mflask\u001b[39;00m \u001b[38;5;28;01mimport\u001b[39;00m Flask, request, Response\n\u001b[1;32m      6\u001b[0m \u001b[38;5;66;03m#loading model\u001b[39;00m\n",
      "\u001b[0;31mModuleNotFoundError\u001b[0m: No module named 'rossmann'"
     ]
    }
   ],
   "source": [
    "import pickle\n",
    "import pandas as pd\n",
    "from rossmann.Rossmann import Rossmann\n",
    "from flask import Flask, request, Response\n",
    "\n",
    "#loading model\n",
    "model = pickle.load( open( '/home/alex/repos/repos/projeto_DS_producao/model/model_rossmann.pkl', 'rb'))\n",
    "\n",
    "#initialize API\n",
    "app = Flask( __name__)\n",
    "\n",
    "@app.route('/rossmann/predict', methods=['POST'])\n",
    "def rossmann_predict():\n",
    "    test_json = request.get_json()\n",
    "    \n",
    "    if test_json: # there is data\n",
    "        if isinstance( test_json, dict ): # unique example\n",
    "            test_raw = pd.DataFrame( test_json, index=[0])\n",
    "            \n",
    "        else: # multiples examples\n",
    "            test_raw = pd.DataFrame( test_json, columns=test_json[0].keys() )\n",
    "            \n",
    "        # instantiate Rossmann class\n",
    "        pipeline = Rossmann()\n",
    "        \n",
    "        # data cleaning\n",
    "        df1 = pipeline.data_cleaning( test_raw )\n",
    "        \n",
    "        # feature engineering\n",
    "        df2 = pipeline.feature_engineering( df1 )\n",
    "        \n",
    "        # data preparation\n",
    "        df3 = pipeline.data_preparation( df2 )\n",
    "        \n",
    "        # prediction\n",
    "        df_response = pipeline.get_prediction( model, test_raw, df3 )\n",
    "        \n",
    "        return df_response\n",
    "        \n",
    "            \n",
    "    else:\n",
    "        return Response('{}', status=200, mimtype='application/json')\n",
    "    \n",
    "if __name__ == '__main__':\n",
    "    app.run('0.0.0.0')"
   ]
  },
  {
   "cell_type": "markdown",
   "metadata": {},
   "source": [
    "## 10.3 API Tester"
   ]
  },
  {
   "cell_type": "code",
   "execution_count": 6,
   "metadata": {
    "ExecuteTime": {
     "end_time": "2022-04-07T13:01:44.577874Z",
     "start_time": "2022-04-07T13:01:44.484337Z"
    }
   },
   "outputs": [],
   "source": [
    "import requests"
   ]
  },
  {
   "cell_type": "code",
   "execution_count": 30,
   "metadata": {
    "ExecuteTime": {
     "end_time": "2022-04-07T14:40:57.705641Z",
     "start_time": "2022-04-07T14:40:57.492407Z"
    }
   },
   "outputs": [],
   "source": [
    "# loading test dataset\n",
    "df10 = pd.read_csv('/home/alex/repos/repos/projeto_DS_producao/datasets/test.csv')"
   ]
  },
  {
   "cell_type": "code",
   "execution_count": 41,
   "metadata": {
    "ExecuteTime": {
     "end_time": "2022-04-07T15:00:51.867044Z",
     "start_time": "2022-04-07T15:00:51.840813Z"
    }
   },
   "outputs": [],
   "source": [
    "# merge test dataset + store\n",
    "df_test = pd.merge( df10, df_store_raw, how='left', on='Store')\n",
    "\n",
    "#choose store for prediction\n",
    "df_test = df_test[df_test['Store'].isin( [20, 32, 42])]\n",
    "\n",
    "# remove closed days\n",
    "df_test = df_test[df_test['Open'] !=0]\n",
    "df_test = df_test[~df_test['Open'].isnull()]\n",
    "df_test = df_test.drop( 'Id', axis=1 )"
   ]
  },
  {
   "cell_type": "code",
   "execution_count": 42,
   "metadata": {
    "ExecuteTime": {
     "end_time": "2022-04-07T15:00:52.305260Z",
     "start_time": "2022-04-07T15:00:52.293405Z"
    }
   },
   "outputs": [],
   "source": [
    "# convert dataframe to json\n",
    "data = json.dumps(df_test.to_dict( orient='records'))"
   ]
  },
  {
   "cell_type": "code",
   "execution_count": 43,
   "metadata": {
    "ExecuteTime": {
     "end_time": "2022-04-07T15:00:54.275301Z",
     "start_time": "2022-04-07T15:00:52.769260Z"
    }
   },
   "outputs": [
    {
     "name": "stdout",
     "output_type": "stream",
     "text": [
      "Status Code 200\n"
     ]
    }
   ],
   "source": [
    "# API call\n",
    "#url = 'http://0.0.0.0:5000/rossmann/predict'\n",
    "url = 'https://rossmann-model-application.herokuapp.com/rossmann/predict'\n",
    "header = {'Content-type' : 'application/json'}\n",
    "data = data\n",
    "\n",
    "r = requests.post( url, data=data, headers=header)\n",
    "print( 'Status Code {}'.format(r.status_code))"
   ]
  },
  {
   "cell_type": "code",
   "execution_count": 44,
   "metadata": {
    "ExecuteTime": {
     "end_time": "2022-04-07T15:00:54.597395Z",
     "start_time": "2022-04-07T15:00:54.575833Z"
    }
   },
   "outputs": [],
   "source": [
    "d1 = pd.DataFrame( r.json(), columns=r.json()[0].keys())"
   ]
  },
  {
   "cell_type": "code",
   "execution_count": 45,
   "metadata": {
    "ExecuteTime": {
     "end_time": "2022-04-07T15:00:54.927417Z",
     "start_time": "2022-04-07T15:00:54.913037Z"
    }
   },
   "outputs": [
    {
     "name": "stdout",
     "output_type": "stream",
     "text": [
      "Store Number 20 will sell R$322,304.10 in the next 6 Weeks\n",
      "Store Number 32 will sell R$155,520.21 in the next 6 Weeks\n",
      "Store Number 42 will sell R$391,235.47 in the next 6 Weeks\n"
     ]
    }
   ],
   "source": [
    "d2 = d1[['store', 'prediction']].groupby( 'store' ).sum().reset_index()\n",
    "\n",
    "for i in range( len( d2 ) ):\n",
    "    print( f\"Store Number {d2.loc[ i, 'store']} will sell R${d2.loc[i, 'prediction']:,.2f} in the next 6 Weeks\")"
   ]
  },
  {
   "cell_type": "code",
   "execution_count": 20,
   "metadata": {
    "ExecuteTime": {
     "end_time": "2022-04-07T13:24:17.664289Z",
     "start_time": "2022-04-07T13:24:17.651774Z"
    }
   },
   "outputs": [
    {
     "data": {
      "text/html": [
       "<div>\n",
       "<style scoped>\n",
       "    .dataframe tbody tr th:only-of-type {\n",
       "        vertical-align: middle;\n",
       "    }\n",
       "\n",
       "    .dataframe tbody tr th {\n",
       "        vertical-align: top;\n",
       "    }\n",
       "\n",
       "    .dataframe thead th {\n",
       "        text-align: right;\n",
       "    }\n",
       "</style>\n",
       "<table border=\"1\" class=\"dataframe\">\n",
       "  <thead>\n",
       "    <tr style=\"text-align: right;\">\n",
       "      <th></th>\n",
       "      <th>store</th>\n",
       "      <th>prediction</th>\n",
       "    </tr>\n",
       "  </thead>\n",
       "  <tbody>\n",
       "    <tr>\n",
       "      <th>0</th>\n",
       "      <td>22</td>\n",
       "      <td>184108.471436</td>\n",
       "    </tr>\n",
       "  </tbody>\n",
       "</table>\n",
       "</div>"
      ],
      "text/plain": [
       "   store     prediction\n",
       "0     22  184108.471436"
      ]
     },
     "execution_count": 20,
     "metadata": {},
     "output_type": "execute_result"
    }
   ],
   "source": [
    "d2"
   ]
  },
  {
   "cell_type": "code",
   "execution_count": 46,
   "metadata": {
    "ExecuteTime": {
     "end_time": "2022-04-07T15:09:52.381003Z",
     "start_time": "2022-04-07T15:09:52.353669Z"
    }
   },
   "outputs": [
    {
     "data": {
      "text/plain": [
       "'[{\"Store\": 20, \"DayOfWeek\": 4, \"Date\": \"2015-09-17\", \"Open\": 1.0, \"Promo\": 1, \"StateHoliday\": \"0\", \"SchoolHoliday\": 0, \"StoreType\": \"d\", \"Assortment\": \"a\", \"CompetitionDistance\": 2340.0, \"CompetitionOpenSinceMonth\": 5.0, \"CompetitionOpenSinceYear\": 2009.0, \"Promo2\": 1, \"Promo2SinceWeek\": 40.0, \"Promo2SinceYear\": 2014.0, \"PromoInterval\": \"Jan,Apr,Jul,Oct\"}, {\"Store\": 32, \"DayOfWeek\": 4, \"Date\": \"2015-09-17\", \"Open\": 1.0, \"Promo\": 1, \"StateHoliday\": \"0\", \"SchoolHoliday\": 0, \"StoreType\": \"a\", \"Assortment\": \"a\", \"CompetitionDistance\": 2910.0, \"CompetitionOpenSinceMonth\": NaN, \"CompetitionOpenSinceYear\": NaN, \"Promo2\": 1, \"Promo2SinceWeek\": 45.0, \"Promo2SinceYear\": 2009.0, \"PromoInterval\": \"Feb,May,Aug,Nov\"}, {\"Store\": 42, \"DayOfWeek\": 4, \"Date\": \"2015-09-17\", \"Open\": 1.0, \"Promo\": 1, \"StateHoliday\": \"0\", \"SchoolHoliday\": 0, \"StoreType\": \"a\", \"Assortment\": \"c\", \"CompetitionDistance\": 290.0, \"CompetitionOpenSinceMonth\": NaN, \"CompetitionOpenSinceYear\": NaN, \"Promo2\": 1, \"Promo2SinceWeek\": 40.0, \"Promo2SinceYear\": 2011.0, \"PromoInterval\": \"Jan,Apr,Jul,Oct\"}, {\"Store\": 20, \"DayOfWeek\": 3, \"Date\": \"2015-09-16\", \"Open\": 1.0, \"Promo\": 1, \"StateHoliday\": \"0\", \"SchoolHoliday\": 0, \"StoreType\": \"d\", \"Assortment\": \"a\", \"CompetitionDistance\": 2340.0, \"CompetitionOpenSinceMonth\": 5.0, \"CompetitionOpenSinceYear\": 2009.0, \"Promo2\": 1, \"Promo2SinceWeek\": 40.0, \"Promo2SinceYear\": 2014.0, \"PromoInterval\": \"Jan,Apr,Jul,Oct\"}, {\"Store\": 32, \"DayOfWeek\": 3, \"Date\": \"2015-09-16\", \"Open\": 1.0, \"Promo\": 1, \"StateHoliday\": \"0\", \"SchoolHoliday\": 0, \"StoreType\": \"a\", \"Assortment\": \"a\", \"CompetitionDistance\": 2910.0, \"CompetitionOpenSinceMonth\": NaN, \"CompetitionOpenSinceYear\": NaN, \"Promo2\": 1, \"Promo2SinceWeek\": 45.0, \"Promo2SinceYear\": 2009.0, \"PromoInterval\": \"Feb,May,Aug,Nov\"}, {\"Store\": 42, \"DayOfWeek\": 3, \"Date\": \"2015-09-16\", \"Open\": 1.0, \"Promo\": 1, \"StateHoliday\": \"0\", \"SchoolHoliday\": 0, \"StoreType\": \"a\", \"Assortment\": \"c\", \"CompetitionDistance\": 290.0, \"CompetitionOpenSinceMonth\": NaN, \"CompetitionOpenSinceYear\": NaN, \"Promo2\": 1, \"Promo2SinceWeek\": 40.0, \"Promo2SinceYear\": 2011.0, \"PromoInterval\": \"Jan,Apr,Jul,Oct\"}, {\"Store\": 20, \"DayOfWeek\": 2, \"Date\": \"2015-09-15\", \"Open\": 1.0, \"Promo\": 1, \"StateHoliday\": \"0\", \"SchoolHoliday\": 0, \"StoreType\": \"d\", \"Assortment\": \"a\", \"CompetitionDistance\": 2340.0, \"CompetitionOpenSinceMonth\": 5.0, \"CompetitionOpenSinceYear\": 2009.0, \"Promo2\": 1, \"Promo2SinceWeek\": 40.0, \"Promo2SinceYear\": 2014.0, \"PromoInterval\": \"Jan,Apr,Jul,Oct\"}, {\"Store\": 32, \"DayOfWeek\": 2, \"Date\": \"2015-09-15\", \"Open\": 1.0, \"Promo\": 1, \"StateHoliday\": \"0\", \"SchoolHoliday\": 0, \"StoreType\": \"a\", \"Assortment\": \"a\", \"CompetitionDistance\": 2910.0, \"CompetitionOpenSinceMonth\": NaN, \"CompetitionOpenSinceYear\": NaN, \"Promo2\": 1, \"Promo2SinceWeek\": 45.0, \"Promo2SinceYear\": 2009.0, \"PromoInterval\": \"Feb,May,Aug,Nov\"}, {\"Store\": 42, \"DayOfWeek\": 2, \"Date\": \"2015-09-15\", \"Open\": 1.0, \"Promo\": 1, \"StateHoliday\": \"0\", \"SchoolHoliday\": 0, \"StoreType\": \"a\", \"Assortment\": \"c\", \"CompetitionDistance\": 290.0, \"CompetitionOpenSinceMonth\": NaN, \"CompetitionOpenSinceYear\": NaN, \"Promo2\": 1, \"Promo2SinceWeek\": 40.0, \"Promo2SinceYear\": 2011.0, \"PromoInterval\": \"Jan,Apr,Jul,Oct\"}, {\"Store\": 20, \"DayOfWeek\": 1, \"Date\": \"2015-09-14\", \"Open\": 1.0, \"Promo\": 1, \"StateHoliday\": \"0\", \"SchoolHoliday\": 1, \"StoreType\": \"d\", \"Assortment\": \"a\", \"CompetitionDistance\": 2340.0, \"CompetitionOpenSinceMonth\": 5.0, \"CompetitionOpenSinceYear\": 2009.0, \"Promo2\": 1, \"Promo2SinceWeek\": 40.0, \"Promo2SinceYear\": 2014.0, \"PromoInterval\": \"Jan,Apr,Jul,Oct\"}, {\"Store\": 32, \"DayOfWeek\": 1, \"Date\": \"2015-09-14\", \"Open\": 1.0, \"Promo\": 1, \"StateHoliday\": \"0\", \"SchoolHoliday\": 1, \"StoreType\": \"a\", \"Assortment\": \"a\", \"CompetitionDistance\": 2910.0, \"CompetitionOpenSinceMonth\": NaN, \"CompetitionOpenSinceYear\": NaN, \"Promo2\": 1, \"Promo2SinceWeek\": 45.0, \"Promo2SinceYear\": 2009.0, \"PromoInterval\": \"Feb,May,Aug,Nov\"}, {\"Store\": 42, \"DayOfWeek\": 1, \"Date\": \"2015-09-14\", \"Open\": 1.0, \"Promo\": 1, \"StateHoliday\": \"0\", \"SchoolHoliday\": 0, \"StoreType\": \"a\", \"Assortment\": \"c\", \"CompetitionDistance\": 290.0, \"CompetitionOpenSinceMonth\": NaN, \"CompetitionOpenSinceYear\": NaN, \"Promo2\": 1, \"Promo2SinceWeek\": 40.0, \"Promo2SinceYear\": 2011.0, \"PromoInterval\": \"Jan,Apr,Jul,Oct\"}, {\"Store\": 20, \"DayOfWeek\": 6, \"Date\": \"2015-09-12\", \"Open\": 1.0, \"Promo\": 0, \"StateHoliday\": \"0\", \"SchoolHoliday\": 0, \"StoreType\": \"d\", \"Assortment\": \"a\", \"CompetitionDistance\": 2340.0, \"CompetitionOpenSinceMonth\": 5.0, \"CompetitionOpenSinceYear\": 2009.0, \"Promo2\": 1, \"Promo2SinceWeek\": 40.0, \"Promo2SinceYear\": 2014.0, \"PromoInterval\": \"Jan,Apr,Jul,Oct\"}, {\"Store\": 32, \"DayOfWeek\": 6, \"Date\": \"2015-09-12\", \"Open\": 1.0, \"Promo\": 0, \"StateHoliday\": \"0\", \"SchoolHoliday\": 0, \"StoreType\": \"a\", \"Assortment\": \"a\", \"CompetitionDistance\": 2910.0, \"CompetitionOpenSinceMonth\": NaN, \"CompetitionOpenSinceYear\": NaN, \"Promo2\": 1, \"Promo2SinceWeek\": 45.0, \"Promo2SinceYear\": 2009.0, \"PromoInterval\": \"Feb,May,Aug,Nov\"}, {\"Store\": 42, \"DayOfWeek\": 6, \"Date\": \"2015-09-12\", \"Open\": 1.0, \"Promo\": 0, \"StateHoliday\": \"0\", \"SchoolHoliday\": 0, \"StoreType\": \"a\", \"Assortment\": \"c\", \"CompetitionDistance\": 290.0, \"CompetitionOpenSinceMonth\": NaN, \"CompetitionOpenSinceYear\": NaN, \"Promo2\": 1, \"Promo2SinceWeek\": 40.0, \"Promo2SinceYear\": 2011.0, \"PromoInterval\": \"Jan,Apr,Jul,Oct\"}, {\"Store\": 20, \"DayOfWeek\": 5, \"Date\": \"2015-09-11\", \"Open\": 1.0, \"Promo\": 0, \"StateHoliday\": \"0\", \"SchoolHoliday\": 1, \"StoreType\": \"d\", \"Assortment\": \"a\", \"CompetitionDistance\": 2340.0, \"CompetitionOpenSinceMonth\": 5.0, \"CompetitionOpenSinceYear\": 2009.0, \"Promo2\": 1, \"Promo2SinceWeek\": 40.0, \"Promo2SinceYear\": 2014.0, \"PromoInterval\": \"Jan,Apr,Jul,Oct\"}, {\"Store\": 32, \"DayOfWeek\": 5, \"Date\": \"2015-09-11\", \"Open\": 1.0, \"Promo\": 0, \"StateHoliday\": \"0\", \"SchoolHoliday\": 1, \"StoreType\": \"a\", \"Assortment\": \"a\", \"CompetitionDistance\": 2910.0, \"CompetitionOpenSinceMonth\": NaN, \"CompetitionOpenSinceYear\": NaN, \"Promo2\": 1, \"Promo2SinceWeek\": 45.0, \"Promo2SinceYear\": 2009.0, \"PromoInterval\": \"Feb,May,Aug,Nov\"}, {\"Store\": 42, \"DayOfWeek\": 5, \"Date\": \"2015-09-11\", \"Open\": 1.0, \"Promo\": 0, \"StateHoliday\": \"0\", \"SchoolHoliday\": 0, \"StoreType\": \"a\", \"Assortment\": \"c\", \"CompetitionDistance\": 290.0, \"CompetitionOpenSinceMonth\": NaN, \"CompetitionOpenSinceYear\": NaN, \"Promo2\": 1, \"Promo2SinceWeek\": 40.0, \"Promo2SinceYear\": 2011.0, \"PromoInterval\": \"Jan,Apr,Jul,Oct\"}, {\"Store\": 20, \"DayOfWeek\": 4, \"Date\": \"2015-09-10\", \"Open\": 1.0, \"Promo\": 0, \"StateHoliday\": \"0\", \"SchoolHoliday\": 1, \"StoreType\": \"d\", \"Assortment\": \"a\", \"CompetitionDistance\": 2340.0, \"CompetitionOpenSinceMonth\": 5.0, \"CompetitionOpenSinceYear\": 2009.0, \"Promo2\": 1, \"Promo2SinceWeek\": 40.0, \"Promo2SinceYear\": 2014.0, \"PromoInterval\": \"Jan,Apr,Jul,Oct\"}, {\"Store\": 32, \"DayOfWeek\": 4, \"Date\": \"2015-09-10\", \"Open\": 1.0, \"Promo\": 0, \"StateHoliday\": \"0\", \"SchoolHoliday\": 1, \"StoreType\": \"a\", \"Assortment\": \"a\", \"CompetitionDistance\": 2910.0, \"CompetitionOpenSinceMonth\": NaN, \"CompetitionOpenSinceYear\": NaN, \"Promo2\": 1, \"Promo2SinceWeek\": 45.0, \"Promo2SinceYear\": 2009.0, \"PromoInterval\": \"Feb,May,Aug,Nov\"}, {\"Store\": 42, \"DayOfWeek\": 4, \"Date\": \"2015-09-10\", \"Open\": 1.0, \"Promo\": 0, \"StateHoliday\": \"0\", \"SchoolHoliday\": 0, \"StoreType\": \"a\", \"Assortment\": \"c\", \"CompetitionDistance\": 290.0, \"CompetitionOpenSinceMonth\": NaN, \"CompetitionOpenSinceYear\": NaN, \"Promo2\": 1, \"Promo2SinceWeek\": 40.0, \"Promo2SinceYear\": 2011.0, \"PromoInterval\": \"Jan,Apr,Jul,Oct\"}, {\"Store\": 20, \"DayOfWeek\": 3, \"Date\": \"2015-09-09\", \"Open\": 1.0, \"Promo\": 0, \"StateHoliday\": \"0\", \"SchoolHoliday\": 1, \"StoreType\": \"d\", \"Assortment\": \"a\", \"CompetitionDistance\": 2340.0, \"CompetitionOpenSinceMonth\": 5.0, \"CompetitionOpenSinceYear\": 2009.0, \"Promo2\": 1, \"Promo2SinceWeek\": 40.0, \"Promo2SinceYear\": 2014.0, \"PromoInterval\": \"Jan,Apr,Jul,Oct\"}, {\"Store\": 32, \"DayOfWeek\": 3, \"Date\": \"2015-09-09\", \"Open\": 1.0, \"Promo\": 0, \"StateHoliday\": \"0\", \"SchoolHoliday\": 1, \"StoreType\": \"a\", \"Assortment\": \"a\", \"CompetitionDistance\": 2910.0, \"CompetitionOpenSinceMonth\": NaN, \"CompetitionOpenSinceYear\": NaN, \"Promo2\": 1, \"Promo2SinceWeek\": 45.0, \"Promo2SinceYear\": 2009.0, \"PromoInterval\": \"Feb,May,Aug,Nov\"}, {\"Store\": 42, \"DayOfWeek\": 3, \"Date\": \"2015-09-09\", \"Open\": 1.0, \"Promo\": 0, \"StateHoliday\": \"0\", \"SchoolHoliday\": 0, \"StoreType\": \"a\", \"Assortment\": \"c\", \"CompetitionDistance\": 290.0, \"CompetitionOpenSinceMonth\": NaN, \"CompetitionOpenSinceYear\": NaN, \"Promo2\": 1, \"Promo2SinceWeek\": 40.0, \"Promo2SinceYear\": 2011.0, \"PromoInterval\": \"Jan,Apr,Jul,Oct\"}, {\"Store\": 20, \"DayOfWeek\": 2, \"Date\": \"2015-09-08\", \"Open\": 1.0, \"Promo\": 0, \"StateHoliday\": \"0\", \"SchoolHoliday\": 1, \"StoreType\": \"d\", \"Assortment\": \"a\", \"CompetitionDistance\": 2340.0, \"CompetitionOpenSinceMonth\": 5.0, \"CompetitionOpenSinceYear\": 2009.0, \"Promo2\": 1, \"Promo2SinceWeek\": 40.0, \"Promo2SinceYear\": 2014.0, \"PromoInterval\": \"Jan,Apr,Jul,Oct\"}, {\"Store\": 32, \"DayOfWeek\": 2, \"Date\": \"2015-09-08\", \"Open\": 1.0, \"Promo\": 0, \"StateHoliday\": \"0\", \"SchoolHoliday\": 1, \"StoreType\": \"a\", \"Assortment\": \"a\", \"CompetitionDistance\": 2910.0, \"CompetitionOpenSinceMonth\": NaN, \"CompetitionOpenSinceYear\": NaN, \"Promo2\": 1, \"Promo2SinceWeek\": 45.0, \"Promo2SinceYear\": 2009.0, \"PromoInterval\": \"Feb,May,Aug,Nov\"}, {\"Store\": 42, \"DayOfWeek\": 2, \"Date\": \"2015-09-08\", \"Open\": 1.0, \"Promo\": 0, \"StateHoliday\": \"0\", \"SchoolHoliday\": 0, \"StoreType\": \"a\", \"Assortment\": \"c\", \"CompetitionDistance\": 290.0, \"CompetitionOpenSinceMonth\": NaN, \"CompetitionOpenSinceYear\": NaN, \"Promo2\": 1, \"Promo2SinceWeek\": 40.0, \"Promo2SinceYear\": 2011.0, \"PromoInterval\": \"Jan,Apr,Jul,Oct\"}, {\"Store\": 20, \"DayOfWeek\": 1, \"Date\": \"2015-09-07\", \"Open\": 1.0, \"Promo\": 0, \"StateHoliday\": \"0\", \"SchoolHoliday\": 1, \"StoreType\": \"d\", \"Assortment\": \"a\", \"CompetitionDistance\": 2340.0, \"CompetitionOpenSinceMonth\": 5.0, \"CompetitionOpenSinceYear\": 2009.0, \"Promo2\": 1, \"Promo2SinceWeek\": 40.0, \"Promo2SinceYear\": 2014.0, \"PromoInterval\": \"Jan,Apr,Jul,Oct\"}, {\"Store\": 32, \"DayOfWeek\": 1, \"Date\": \"2015-09-07\", \"Open\": 1.0, \"Promo\": 0, \"StateHoliday\": \"0\", \"SchoolHoliday\": 1, \"StoreType\": \"a\", \"Assortment\": \"a\", \"CompetitionDistance\": 2910.0, \"CompetitionOpenSinceMonth\": NaN, \"CompetitionOpenSinceYear\": NaN, \"Promo2\": 1, \"Promo2SinceWeek\": 45.0, \"Promo2SinceYear\": 2009.0, \"PromoInterval\": \"Feb,May,Aug,Nov\"}, {\"Store\": 42, \"DayOfWeek\": 1, \"Date\": \"2015-09-07\", \"Open\": 1.0, \"Promo\": 0, \"StateHoliday\": \"0\", \"SchoolHoliday\": 0, \"StoreType\": \"a\", \"Assortment\": \"c\", \"CompetitionDistance\": 290.0, \"CompetitionOpenSinceMonth\": NaN, \"CompetitionOpenSinceYear\": NaN, \"Promo2\": 1, \"Promo2SinceWeek\": 40.0, \"Promo2SinceYear\": 2011.0, \"PromoInterval\": \"Jan,Apr,Jul,Oct\"}, {\"Store\": 20, \"DayOfWeek\": 6, \"Date\": \"2015-09-05\", \"Open\": 1.0, \"Promo\": 0, \"StateHoliday\": \"0\", \"SchoolHoliday\": 0, \"StoreType\": \"d\", \"Assortment\": \"a\", \"CompetitionDistance\": 2340.0, \"CompetitionOpenSinceMonth\": 5.0, \"CompetitionOpenSinceYear\": 2009.0, \"Promo2\": 1, \"Promo2SinceWeek\": 40.0, \"Promo2SinceYear\": 2014.0, \"PromoInterval\": \"Jan,Apr,Jul,Oct\"}, {\"Store\": 32, \"DayOfWeek\": 6, \"Date\": \"2015-09-05\", \"Open\": 1.0, \"Promo\": 0, \"StateHoliday\": \"0\", \"SchoolHoliday\": 0, \"StoreType\": \"a\", \"Assortment\": \"a\", \"CompetitionDistance\": 2910.0, \"CompetitionOpenSinceMonth\": NaN, \"CompetitionOpenSinceYear\": NaN, \"Promo2\": 1, \"Promo2SinceWeek\": 45.0, \"Promo2SinceYear\": 2009.0, \"PromoInterval\": \"Feb,May,Aug,Nov\"}, {\"Store\": 42, \"DayOfWeek\": 6, \"Date\": \"2015-09-05\", \"Open\": 1.0, \"Promo\": 0, \"StateHoliday\": \"0\", \"SchoolHoliday\": 0, \"StoreType\": \"a\", \"Assortment\": \"c\", \"CompetitionDistance\": 290.0, \"CompetitionOpenSinceMonth\": NaN, \"CompetitionOpenSinceYear\": NaN, \"Promo2\": 1, \"Promo2SinceWeek\": 40.0, \"Promo2SinceYear\": 2011.0, \"PromoInterval\": \"Jan,Apr,Jul,Oct\"}, {\"Store\": 20, \"DayOfWeek\": 5, \"Date\": \"2015-09-04\", \"Open\": 1.0, \"Promo\": 1, \"StateHoliday\": \"0\", \"SchoolHoliday\": 1, \"StoreType\": \"d\", \"Assortment\": \"a\", \"CompetitionDistance\": 2340.0, \"CompetitionOpenSinceMonth\": 5.0, \"CompetitionOpenSinceYear\": 2009.0, \"Promo2\": 1, \"Promo2SinceWeek\": 40.0, \"Promo2SinceYear\": 2014.0, \"PromoInterval\": \"Jan,Apr,Jul,Oct\"}, {\"Store\": 32, \"DayOfWeek\": 5, \"Date\": \"2015-09-04\", \"Open\": 1.0, \"Promo\": 1, \"StateHoliday\": \"0\", \"SchoolHoliday\": 1, \"StoreType\": \"a\", \"Assortment\": \"a\", \"CompetitionDistance\": 2910.0, \"CompetitionOpenSinceMonth\": NaN, \"CompetitionOpenSinceYear\": NaN, \"Promo2\": 1, \"Promo2SinceWeek\": 45.0, \"Promo2SinceYear\": 2009.0, \"PromoInterval\": \"Feb,May,Aug,Nov\"}, {\"Store\": 42, \"DayOfWeek\": 5, \"Date\": \"2015-09-04\", \"Open\": 1.0, \"Promo\": 1, \"StateHoliday\": \"0\", \"SchoolHoliday\": 0, \"StoreType\": \"a\", \"Assortment\": \"c\", \"CompetitionDistance\": 290.0, \"CompetitionOpenSinceMonth\": NaN, \"CompetitionOpenSinceYear\": NaN, \"Promo2\": 1, \"Promo2SinceWeek\": 40.0, \"Promo2SinceYear\": 2011.0, \"PromoInterval\": \"Jan,Apr,Jul,Oct\"}, {\"Store\": 20, \"DayOfWeek\": 4, \"Date\": \"2015-09-03\", \"Open\": 1.0, \"Promo\": 1, \"StateHoliday\": \"0\", \"SchoolHoliday\": 1, \"StoreType\": \"d\", \"Assortment\": \"a\", \"CompetitionDistance\": 2340.0, \"CompetitionOpenSinceMonth\": 5.0, \"CompetitionOpenSinceYear\": 2009.0, \"Promo2\": 1, \"Promo2SinceWeek\": 40.0, \"Promo2SinceYear\": 2014.0, \"PromoInterval\": \"Jan,Apr,Jul,Oct\"}, {\"Store\": 32, \"DayOfWeek\": 4, \"Date\": \"2015-09-03\", \"Open\": 1.0, \"Promo\": 1, \"StateHoliday\": \"0\", \"SchoolHoliday\": 1, \"StoreType\": \"a\", \"Assortment\": \"a\", \"CompetitionDistance\": 2910.0, \"CompetitionOpenSinceMonth\": NaN, \"CompetitionOpenSinceYear\": NaN, \"Promo2\": 1, \"Promo2SinceWeek\": 45.0, \"Promo2SinceYear\": 2009.0, \"PromoInterval\": \"Feb,May,Aug,Nov\"}, {\"Store\": 42, \"DayOfWeek\": 4, \"Date\": \"2015-09-03\", \"Open\": 1.0, \"Promo\": 1, \"StateHoliday\": \"0\", \"SchoolHoliday\": 0, \"StoreType\": \"a\", \"Assortment\": \"c\", \"CompetitionDistance\": 290.0, \"CompetitionOpenSinceMonth\": NaN, \"CompetitionOpenSinceYear\": NaN, \"Promo2\": 1, \"Promo2SinceWeek\": 40.0, \"Promo2SinceYear\": 2011.0, \"PromoInterval\": \"Jan,Apr,Jul,Oct\"}, {\"Store\": 20, \"DayOfWeek\": 3, \"Date\": \"2015-09-02\", \"Open\": 1.0, \"Promo\": 1, \"StateHoliday\": \"0\", \"SchoolHoliday\": 1, \"StoreType\": \"d\", \"Assortment\": \"a\", \"CompetitionDistance\": 2340.0, \"CompetitionOpenSinceMonth\": 5.0, \"CompetitionOpenSinceYear\": 2009.0, \"Promo2\": 1, \"Promo2SinceWeek\": 40.0, \"Promo2SinceYear\": 2014.0, \"PromoInterval\": \"Jan,Apr,Jul,Oct\"}, {\"Store\": 32, \"DayOfWeek\": 3, \"Date\": \"2015-09-02\", \"Open\": 1.0, \"Promo\": 1, \"StateHoliday\": \"0\", \"SchoolHoliday\": 1, \"StoreType\": \"a\", \"Assortment\": \"a\", \"CompetitionDistance\": 2910.0, \"CompetitionOpenSinceMonth\": NaN, \"CompetitionOpenSinceYear\": NaN, \"Promo2\": 1, \"Promo2SinceWeek\": 45.0, \"Promo2SinceYear\": 2009.0, \"PromoInterval\": \"Feb,May,Aug,Nov\"}, {\"Store\": 42, \"DayOfWeek\": 3, \"Date\": \"2015-09-02\", \"Open\": 1.0, \"Promo\": 1, \"StateHoliday\": \"0\", \"SchoolHoliday\": 0, \"StoreType\": \"a\", \"Assortment\": \"c\", \"CompetitionDistance\": 290.0, \"CompetitionOpenSinceMonth\": NaN, \"CompetitionOpenSinceYear\": NaN, \"Promo2\": 1, \"Promo2SinceWeek\": 40.0, \"Promo2SinceYear\": 2011.0, \"PromoInterval\": \"Jan,Apr,Jul,Oct\"}, {\"Store\": 20, \"DayOfWeek\": 2, \"Date\": \"2015-09-01\", \"Open\": 1.0, \"Promo\": 1, \"StateHoliday\": \"0\", \"SchoolHoliday\": 1, \"StoreType\": \"d\", \"Assortment\": \"a\", \"CompetitionDistance\": 2340.0, \"CompetitionOpenSinceMonth\": 5.0, \"CompetitionOpenSinceYear\": 2009.0, \"Promo2\": 1, \"Promo2SinceWeek\": 40.0, \"Promo2SinceYear\": 2014.0, \"PromoInterval\": \"Jan,Apr,Jul,Oct\"}, {\"Store\": 32, \"DayOfWeek\": 2, \"Date\": \"2015-09-01\", \"Open\": 1.0, \"Promo\": 1, \"StateHoliday\": \"0\", \"SchoolHoliday\": 1, \"StoreType\": \"a\", \"Assortment\": \"a\", \"CompetitionDistance\": 2910.0, \"CompetitionOpenSinceMonth\": NaN, \"CompetitionOpenSinceYear\": NaN, \"Promo2\": 1, \"Promo2SinceWeek\": 45.0, \"Promo2SinceYear\": 2009.0, \"PromoInterval\": \"Feb,May,Aug,Nov\"}, {\"Store\": 42, \"DayOfWeek\": 2, \"Date\": \"2015-09-01\", \"Open\": 1.0, \"Promo\": 1, \"StateHoliday\": \"0\", \"SchoolHoliday\": 0, \"StoreType\": \"a\", \"Assortment\": \"c\", \"CompetitionDistance\": 290.0, \"CompetitionOpenSinceMonth\": NaN, \"CompetitionOpenSinceYear\": NaN, \"Promo2\": 1, \"Promo2SinceWeek\": 40.0, \"Promo2SinceYear\": 2011.0, \"PromoInterval\": \"Jan,Apr,Jul,Oct\"}, {\"Store\": 20, \"DayOfWeek\": 1, \"Date\": \"2015-08-31\", \"Open\": 1.0, \"Promo\": 1, \"StateHoliday\": \"0\", \"SchoolHoliday\": 1, \"StoreType\": \"d\", \"Assortment\": \"a\", \"CompetitionDistance\": 2340.0, \"CompetitionOpenSinceMonth\": 5.0, \"CompetitionOpenSinceYear\": 2009.0, \"Promo2\": 1, \"Promo2SinceWeek\": 40.0, \"Promo2SinceYear\": 2014.0, \"PromoInterval\": \"Jan,Apr,Jul,Oct\"}, {\"Store\": 32, \"DayOfWeek\": 1, \"Date\": \"2015-08-31\", \"Open\": 1.0, \"Promo\": 1, \"StateHoliday\": \"0\", \"SchoolHoliday\": 1, \"StoreType\": \"a\", \"Assortment\": \"a\", \"CompetitionDistance\": 2910.0, \"CompetitionOpenSinceMonth\": NaN, \"CompetitionOpenSinceYear\": NaN, \"Promo2\": 1, \"Promo2SinceWeek\": 45.0, \"Promo2SinceYear\": 2009.0, \"PromoInterval\": \"Feb,May,Aug,Nov\"}, {\"Store\": 42, \"DayOfWeek\": 1, \"Date\": \"2015-08-31\", \"Open\": 1.0, \"Promo\": 1, \"StateHoliday\": \"0\", \"SchoolHoliday\": 0, \"StoreType\": \"a\", \"Assortment\": \"c\", \"CompetitionDistance\": 290.0, \"CompetitionOpenSinceMonth\": NaN, \"CompetitionOpenSinceYear\": NaN, \"Promo2\": 1, \"Promo2SinceWeek\": 40.0, \"Promo2SinceYear\": 2011.0, \"PromoInterval\": \"Jan,Apr,Jul,Oct\"}, {\"Store\": 20, \"DayOfWeek\": 6, \"Date\": \"2015-08-29\", \"Open\": 1.0, \"Promo\": 0, \"StateHoliday\": \"0\", \"SchoolHoliday\": 0, \"StoreType\": \"d\", \"Assortment\": \"a\", \"CompetitionDistance\": 2340.0, \"CompetitionOpenSinceMonth\": 5.0, \"CompetitionOpenSinceYear\": 2009.0, \"Promo2\": 1, \"Promo2SinceWeek\": 40.0, \"Promo2SinceYear\": 2014.0, \"PromoInterval\": \"Jan,Apr,Jul,Oct\"}, {\"Store\": 32, \"DayOfWeek\": 6, \"Date\": \"2015-08-29\", \"Open\": 1.0, \"Promo\": 0, \"StateHoliday\": \"0\", \"SchoolHoliday\": 0, \"StoreType\": \"a\", \"Assortment\": \"a\", \"CompetitionDistance\": 2910.0, \"CompetitionOpenSinceMonth\": NaN, \"CompetitionOpenSinceYear\": NaN, \"Promo2\": 1, \"Promo2SinceWeek\": 45.0, \"Promo2SinceYear\": 2009.0, \"PromoInterval\": \"Feb,May,Aug,Nov\"}, {\"Store\": 42, \"DayOfWeek\": 6, \"Date\": \"2015-08-29\", \"Open\": 1.0, \"Promo\": 0, \"StateHoliday\": \"0\", \"SchoolHoliday\": 0, \"StoreType\": \"a\", \"Assortment\": \"c\", \"CompetitionDistance\": 290.0, \"CompetitionOpenSinceMonth\": NaN, \"CompetitionOpenSinceYear\": NaN, \"Promo2\": 1, \"Promo2SinceWeek\": 40.0, \"Promo2SinceYear\": 2011.0, \"PromoInterval\": \"Jan,Apr,Jul,Oct\"}, {\"Store\": 20, \"DayOfWeek\": 5, \"Date\": \"2015-08-28\", \"Open\": 1.0, \"Promo\": 0, \"StateHoliday\": \"0\", \"SchoolHoliday\": 1, \"StoreType\": \"d\", \"Assortment\": \"a\", \"CompetitionDistance\": 2340.0, \"CompetitionOpenSinceMonth\": 5.0, \"CompetitionOpenSinceYear\": 2009.0, \"Promo2\": 1, \"Promo2SinceWeek\": 40.0, \"Promo2SinceYear\": 2014.0, \"PromoInterval\": \"Jan,Apr,Jul,Oct\"}, {\"Store\": 32, \"DayOfWeek\": 5, \"Date\": \"2015-08-28\", \"Open\": 1.0, \"Promo\": 0, \"StateHoliday\": \"0\", \"SchoolHoliday\": 1, \"StoreType\": \"a\", \"Assortment\": \"a\", \"CompetitionDistance\": 2910.0, \"CompetitionOpenSinceMonth\": NaN, \"CompetitionOpenSinceYear\": NaN, \"Promo2\": 1, \"Promo2SinceWeek\": 45.0, \"Promo2SinceYear\": 2009.0, \"PromoInterval\": \"Feb,May,Aug,Nov\"}, {\"Store\": 42, \"DayOfWeek\": 5, \"Date\": \"2015-08-28\", \"Open\": 1.0, \"Promo\": 0, \"StateHoliday\": \"0\", \"SchoolHoliday\": 0, \"StoreType\": \"a\", \"Assortment\": \"c\", \"CompetitionDistance\": 290.0, \"CompetitionOpenSinceMonth\": NaN, \"CompetitionOpenSinceYear\": NaN, \"Promo2\": 1, \"Promo2SinceWeek\": 40.0, \"Promo2SinceYear\": 2011.0, \"PromoInterval\": \"Jan,Apr,Jul,Oct\"}, {\"Store\": 20, \"DayOfWeek\": 4, \"Date\": \"2015-08-27\", \"Open\": 1.0, \"Promo\": 0, \"StateHoliday\": \"0\", \"SchoolHoliday\": 1, \"StoreType\": \"d\", \"Assortment\": \"a\", \"CompetitionDistance\": 2340.0, \"CompetitionOpenSinceMonth\": 5.0, \"CompetitionOpenSinceYear\": 2009.0, \"Promo2\": 1, \"Promo2SinceWeek\": 40.0, \"Promo2SinceYear\": 2014.0, \"PromoInterval\": \"Jan,Apr,Jul,Oct\"}, {\"Store\": 32, \"DayOfWeek\": 4, \"Date\": \"2015-08-27\", \"Open\": 1.0, \"Promo\": 0, \"StateHoliday\": \"0\", \"SchoolHoliday\": 1, \"StoreType\": \"a\", \"Assortment\": \"a\", \"CompetitionDistance\": 2910.0, \"CompetitionOpenSinceMonth\": NaN, \"CompetitionOpenSinceYear\": NaN, \"Promo2\": 1, \"Promo2SinceWeek\": 45.0, \"Promo2SinceYear\": 2009.0, \"PromoInterval\": \"Feb,May,Aug,Nov\"}, {\"Store\": 42, \"DayOfWeek\": 4, \"Date\": \"2015-08-27\", \"Open\": 1.0, \"Promo\": 0, \"StateHoliday\": \"0\", \"SchoolHoliday\": 0, \"StoreType\": \"a\", \"Assortment\": \"c\", \"CompetitionDistance\": 290.0, \"CompetitionOpenSinceMonth\": NaN, \"CompetitionOpenSinceYear\": NaN, \"Promo2\": 1, \"Promo2SinceWeek\": 40.0, \"Promo2SinceYear\": 2011.0, \"PromoInterval\": \"Jan,Apr,Jul,Oct\"}, {\"Store\": 20, \"DayOfWeek\": 3, \"Date\": \"2015-08-26\", \"Open\": 1.0, \"Promo\": 0, \"StateHoliday\": \"0\", \"SchoolHoliday\": 1, \"StoreType\": \"d\", \"Assortment\": \"a\", \"CompetitionDistance\": 2340.0, \"CompetitionOpenSinceMonth\": 5.0, \"CompetitionOpenSinceYear\": 2009.0, \"Promo2\": 1, \"Promo2SinceWeek\": 40.0, \"Promo2SinceYear\": 2014.0, \"PromoInterval\": \"Jan,Apr,Jul,Oct\"}, {\"Store\": 32, \"DayOfWeek\": 3, \"Date\": \"2015-08-26\", \"Open\": 1.0, \"Promo\": 0, \"StateHoliday\": \"0\", \"SchoolHoliday\": 1, \"StoreType\": \"a\", \"Assortment\": \"a\", \"CompetitionDistance\": 2910.0, \"CompetitionOpenSinceMonth\": NaN, \"CompetitionOpenSinceYear\": NaN, \"Promo2\": 1, \"Promo2SinceWeek\": 45.0, \"Promo2SinceYear\": 2009.0, \"PromoInterval\": \"Feb,May,Aug,Nov\"}, {\"Store\": 42, \"DayOfWeek\": 3, \"Date\": \"2015-08-26\", \"Open\": 1.0, \"Promo\": 0, \"StateHoliday\": \"0\", \"SchoolHoliday\": 0, \"StoreType\": \"a\", \"Assortment\": \"c\", \"CompetitionDistance\": 290.0, \"CompetitionOpenSinceMonth\": NaN, \"CompetitionOpenSinceYear\": NaN, \"Promo2\": 1, \"Promo2SinceWeek\": 40.0, \"Promo2SinceYear\": 2011.0, \"PromoInterval\": \"Jan,Apr,Jul,Oct\"}, {\"Store\": 20, \"DayOfWeek\": 2, \"Date\": \"2015-08-25\", \"Open\": 1.0, \"Promo\": 0, \"StateHoliday\": \"0\", \"SchoolHoliday\": 1, \"StoreType\": \"d\", \"Assortment\": \"a\", \"CompetitionDistance\": 2340.0, \"CompetitionOpenSinceMonth\": 5.0, \"CompetitionOpenSinceYear\": 2009.0, \"Promo2\": 1, \"Promo2SinceWeek\": 40.0, \"Promo2SinceYear\": 2014.0, \"PromoInterval\": \"Jan,Apr,Jul,Oct\"}, {\"Store\": 32, \"DayOfWeek\": 2, \"Date\": \"2015-08-25\", \"Open\": 1.0, \"Promo\": 0, \"StateHoliday\": \"0\", \"SchoolHoliday\": 1, \"StoreType\": \"a\", \"Assortment\": \"a\", \"CompetitionDistance\": 2910.0, \"CompetitionOpenSinceMonth\": NaN, \"CompetitionOpenSinceYear\": NaN, \"Promo2\": 1, \"Promo2SinceWeek\": 45.0, \"Promo2SinceYear\": 2009.0, \"PromoInterval\": \"Feb,May,Aug,Nov\"}, {\"Store\": 42, \"DayOfWeek\": 2, \"Date\": \"2015-08-25\", \"Open\": 1.0, \"Promo\": 0, \"StateHoliday\": \"0\", \"SchoolHoliday\": 0, \"StoreType\": \"a\", \"Assortment\": \"c\", \"CompetitionDistance\": 290.0, \"CompetitionOpenSinceMonth\": NaN, \"CompetitionOpenSinceYear\": NaN, \"Promo2\": 1, \"Promo2SinceWeek\": 40.0, \"Promo2SinceYear\": 2011.0, \"PromoInterval\": \"Jan,Apr,Jul,Oct\"}, {\"Store\": 20, \"DayOfWeek\": 1, \"Date\": \"2015-08-24\", \"Open\": 1.0, \"Promo\": 0, \"StateHoliday\": \"0\", \"SchoolHoliday\": 1, \"StoreType\": \"d\", \"Assortment\": \"a\", \"CompetitionDistance\": 2340.0, \"CompetitionOpenSinceMonth\": 5.0, \"CompetitionOpenSinceYear\": 2009.0, \"Promo2\": 1, \"Promo2SinceWeek\": 40.0, \"Promo2SinceYear\": 2014.0, \"PromoInterval\": \"Jan,Apr,Jul,Oct\"}, {\"Store\": 32, \"DayOfWeek\": 1, \"Date\": \"2015-08-24\", \"Open\": 1.0, \"Promo\": 0, \"StateHoliday\": \"0\", \"SchoolHoliday\": 1, \"StoreType\": \"a\", \"Assortment\": \"a\", \"CompetitionDistance\": 2910.0, \"CompetitionOpenSinceMonth\": NaN, \"CompetitionOpenSinceYear\": NaN, \"Promo2\": 1, \"Promo2SinceWeek\": 45.0, \"Promo2SinceYear\": 2009.0, \"PromoInterval\": \"Feb,May,Aug,Nov\"}, {\"Store\": 42, \"DayOfWeek\": 1, \"Date\": \"2015-08-24\", \"Open\": 1.0, \"Promo\": 0, \"StateHoliday\": \"0\", \"SchoolHoliday\": 0, \"StoreType\": \"a\", \"Assortment\": \"c\", \"CompetitionDistance\": 290.0, \"CompetitionOpenSinceMonth\": NaN, \"CompetitionOpenSinceYear\": NaN, \"Promo2\": 1, \"Promo2SinceWeek\": 40.0, \"Promo2SinceYear\": 2011.0, \"PromoInterval\": \"Jan,Apr,Jul,Oct\"}, {\"Store\": 20, \"DayOfWeek\": 6, \"Date\": \"2015-08-22\", \"Open\": 1.0, \"Promo\": 0, \"StateHoliday\": \"0\", \"SchoolHoliday\": 0, \"StoreType\": \"d\", \"Assortment\": \"a\", \"CompetitionDistance\": 2340.0, \"CompetitionOpenSinceMonth\": 5.0, \"CompetitionOpenSinceYear\": 2009.0, \"Promo2\": 1, \"Promo2SinceWeek\": 40.0, \"Promo2SinceYear\": 2014.0, \"PromoInterval\": \"Jan,Apr,Jul,Oct\"}, {\"Store\": 32, \"DayOfWeek\": 6, \"Date\": \"2015-08-22\", \"Open\": 1.0, \"Promo\": 0, \"StateHoliday\": \"0\", \"SchoolHoliday\": 0, \"StoreType\": \"a\", \"Assortment\": \"a\", \"CompetitionDistance\": 2910.0, \"CompetitionOpenSinceMonth\": NaN, \"CompetitionOpenSinceYear\": NaN, \"Promo2\": 1, \"Promo2SinceWeek\": 45.0, \"Promo2SinceYear\": 2009.0, \"PromoInterval\": \"Feb,May,Aug,Nov\"}, {\"Store\": 42, \"DayOfWeek\": 6, \"Date\": \"2015-08-22\", \"Open\": 1.0, \"Promo\": 0, \"StateHoliday\": \"0\", \"SchoolHoliday\": 0, \"StoreType\": \"a\", \"Assortment\": \"c\", \"CompetitionDistance\": 290.0, \"CompetitionOpenSinceMonth\": NaN, \"CompetitionOpenSinceYear\": NaN, \"Promo2\": 1, \"Promo2SinceWeek\": 40.0, \"Promo2SinceYear\": 2011.0, \"PromoInterval\": \"Jan,Apr,Jul,Oct\"}, {\"Store\": 20, \"DayOfWeek\": 5, \"Date\": \"2015-08-21\", \"Open\": 1.0, \"Promo\": 1, \"StateHoliday\": \"0\", \"SchoolHoliday\": 1, \"StoreType\": \"d\", \"Assortment\": \"a\", \"CompetitionDistance\": 2340.0, \"CompetitionOpenSinceMonth\": 5.0, \"CompetitionOpenSinceYear\": 2009.0, \"Promo2\": 1, \"Promo2SinceWeek\": 40.0, \"Promo2SinceYear\": 2014.0, \"PromoInterval\": \"Jan,Apr,Jul,Oct\"}, {\"Store\": 32, \"DayOfWeek\": 5, \"Date\": \"2015-08-21\", \"Open\": 1.0, \"Promo\": 1, \"StateHoliday\": \"0\", \"SchoolHoliday\": 1, \"StoreType\": \"a\", \"Assortment\": \"a\", \"CompetitionDistance\": 2910.0, \"CompetitionOpenSinceMonth\": NaN, \"CompetitionOpenSinceYear\": NaN, \"Promo2\": 1, \"Promo2SinceWeek\": 45.0, \"Promo2SinceYear\": 2009.0, \"PromoInterval\": \"Feb,May,Aug,Nov\"}, {\"Store\": 42, \"DayOfWeek\": 5, \"Date\": \"2015-08-21\", \"Open\": 1.0, \"Promo\": 1, \"StateHoliday\": \"0\", \"SchoolHoliday\": 0, \"StoreType\": \"a\", \"Assortment\": \"c\", \"CompetitionDistance\": 290.0, \"CompetitionOpenSinceMonth\": NaN, \"CompetitionOpenSinceYear\": NaN, \"Promo2\": 1, \"Promo2SinceWeek\": 40.0, \"Promo2SinceYear\": 2011.0, \"PromoInterval\": \"Jan,Apr,Jul,Oct\"}, {\"Store\": 20, \"DayOfWeek\": 4, \"Date\": \"2015-08-20\", \"Open\": 1.0, \"Promo\": 1, \"StateHoliday\": \"0\", \"SchoolHoliday\": 1, \"StoreType\": \"d\", \"Assortment\": \"a\", \"CompetitionDistance\": 2340.0, \"CompetitionOpenSinceMonth\": 5.0, \"CompetitionOpenSinceYear\": 2009.0, \"Promo2\": 1, \"Promo2SinceWeek\": 40.0, \"Promo2SinceYear\": 2014.0, \"PromoInterval\": \"Jan,Apr,Jul,Oct\"}, {\"Store\": 32, \"DayOfWeek\": 4, \"Date\": \"2015-08-20\", \"Open\": 1.0, \"Promo\": 1, \"StateHoliday\": \"0\", \"SchoolHoliday\": 1, \"StoreType\": \"a\", \"Assortment\": \"a\", \"CompetitionDistance\": 2910.0, \"CompetitionOpenSinceMonth\": NaN, \"CompetitionOpenSinceYear\": NaN, \"Promo2\": 1, \"Promo2SinceWeek\": 45.0, \"Promo2SinceYear\": 2009.0, \"PromoInterval\": \"Feb,May,Aug,Nov\"}, {\"Store\": 42, \"DayOfWeek\": 4, \"Date\": \"2015-08-20\", \"Open\": 1.0, \"Promo\": 1, \"StateHoliday\": \"0\", \"SchoolHoliday\": 0, \"StoreType\": \"a\", \"Assortment\": \"c\", \"CompetitionDistance\": 290.0, \"CompetitionOpenSinceMonth\": NaN, \"CompetitionOpenSinceYear\": NaN, \"Promo2\": 1, \"Promo2SinceWeek\": 40.0, \"Promo2SinceYear\": 2011.0, \"PromoInterval\": \"Jan,Apr,Jul,Oct\"}, {\"Store\": 20, \"DayOfWeek\": 3, \"Date\": \"2015-08-19\", \"Open\": 1.0, \"Promo\": 1, \"StateHoliday\": \"0\", \"SchoolHoliday\": 1, \"StoreType\": \"d\", \"Assortment\": \"a\", \"CompetitionDistance\": 2340.0, \"CompetitionOpenSinceMonth\": 5.0, \"CompetitionOpenSinceYear\": 2009.0, \"Promo2\": 1, \"Promo2SinceWeek\": 40.0, \"Promo2SinceYear\": 2014.0, \"PromoInterval\": \"Jan,Apr,Jul,Oct\"}, {\"Store\": 32, \"DayOfWeek\": 3, \"Date\": \"2015-08-19\", \"Open\": 1.0, \"Promo\": 1, \"StateHoliday\": \"0\", \"SchoolHoliday\": 1, \"StoreType\": \"a\", \"Assortment\": \"a\", \"CompetitionDistance\": 2910.0, \"CompetitionOpenSinceMonth\": NaN, \"CompetitionOpenSinceYear\": NaN, \"Promo2\": 1, \"Promo2SinceWeek\": 45.0, \"Promo2SinceYear\": 2009.0, \"PromoInterval\": \"Feb,May,Aug,Nov\"}, {\"Store\": 42, \"DayOfWeek\": 3, \"Date\": \"2015-08-19\", \"Open\": 1.0, \"Promo\": 1, \"StateHoliday\": \"0\", \"SchoolHoliday\": 0, \"StoreType\": \"a\", \"Assortment\": \"c\", \"CompetitionDistance\": 290.0, \"CompetitionOpenSinceMonth\": NaN, \"CompetitionOpenSinceYear\": NaN, \"Promo2\": 1, \"Promo2SinceWeek\": 40.0, \"Promo2SinceYear\": 2011.0, \"PromoInterval\": \"Jan,Apr,Jul,Oct\"}, {\"Store\": 20, \"DayOfWeek\": 2, \"Date\": \"2015-08-18\", \"Open\": 1.0, \"Promo\": 1, \"StateHoliday\": \"0\", \"SchoolHoliday\": 1, \"StoreType\": \"d\", \"Assortment\": \"a\", \"CompetitionDistance\": 2340.0, \"CompetitionOpenSinceMonth\": 5.0, \"CompetitionOpenSinceYear\": 2009.0, \"Promo2\": 1, \"Promo2SinceWeek\": 40.0, \"Promo2SinceYear\": 2014.0, \"PromoInterval\": \"Jan,Apr,Jul,Oct\"}, {\"Store\": 32, \"DayOfWeek\": 2, \"Date\": \"2015-08-18\", \"Open\": 1.0, \"Promo\": 1, \"StateHoliday\": \"0\", \"SchoolHoliday\": 1, \"StoreType\": \"a\", \"Assortment\": \"a\", \"CompetitionDistance\": 2910.0, \"CompetitionOpenSinceMonth\": NaN, \"CompetitionOpenSinceYear\": NaN, \"Promo2\": 1, \"Promo2SinceWeek\": 45.0, \"Promo2SinceYear\": 2009.0, \"PromoInterval\": \"Feb,May,Aug,Nov\"}, {\"Store\": 42, \"DayOfWeek\": 2, \"Date\": \"2015-08-18\", \"Open\": 1.0, \"Promo\": 1, \"StateHoliday\": \"0\", \"SchoolHoliday\": 0, \"StoreType\": \"a\", \"Assortment\": \"c\", \"CompetitionDistance\": 290.0, \"CompetitionOpenSinceMonth\": NaN, \"CompetitionOpenSinceYear\": NaN, \"Promo2\": 1, \"Promo2SinceWeek\": 40.0, \"Promo2SinceYear\": 2011.0, \"PromoInterval\": \"Jan,Apr,Jul,Oct\"}, {\"Store\": 20, \"DayOfWeek\": 1, \"Date\": \"2015-08-17\", \"Open\": 1.0, \"Promo\": 1, \"StateHoliday\": \"0\", \"SchoolHoliday\": 1, \"StoreType\": \"d\", \"Assortment\": \"a\", \"CompetitionDistance\": 2340.0, \"CompetitionOpenSinceMonth\": 5.0, \"CompetitionOpenSinceYear\": 2009.0, \"Promo2\": 1, \"Promo2SinceWeek\": 40.0, \"Promo2SinceYear\": 2014.0, \"PromoInterval\": \"Jan,Apr,Jul,Oct\"}, {\"Store\": 32, \"DayOfWeek\": 1, \"Date\": \"2015-08-17\", \"Open\": 1.0, \"Promo\": 1, \"StateHoliday\": \"0\", \"SchoolHoliday\": 1, \"StoreType\": \"a\", \"Assortment\": \"a\", \"CompetitionDistance\": 2910.0, \"CompetitionOpenSinceMonth\": NaN, \"CompetitionOpenSinceYear\": NaN, \"Promo2\": 1, \"Promo2SinceWeek\": 45.0, \"Promo2SinceYear\": 2009.0, \"PromoInterval\": \"Feb,May,Aug,Nov\"}, {\"Store\": 42, \"DayOfWeek\": 1, \"Date\": \"2015-08-17\", \"Open\": 1.0, \"Promo\": 1, \"StateHoliday\": \"0\", \"SchoolHoliday\": 0, \"StoreType\": \"a\", \"Assortment\": \"c\", \"CompetitionDistance\": 290.0, \"CompetitionOpenSinceMonth\": NaN, \"CompetitionOpenSinceYear\": NaN, \"Promo2\": 1, \"Promo2SinceWeek\": 40.0, \"Promo2SinceYear\": 2011.0, \"PromoInterval\": \"Jan,Apr,Jul,Oct\"}, {\"Store\": 42, \"DayOfWeek\": 6, \"Date\": \"2015-08-15\", \"Open\": 1.0, \"Promo\": 0, \"StateHoliday\": \"0\", \"SchoolHoliday\": 0, \"StoreType\": \"a\", \"Assortment\": \"c\", \"CompetitionDistance\": 290.0, \"CompetitionOpenSinceMonth\": NaN, \"CompetitionOpenSinceYear\": NaN, \"Promo2\": 1, \"Promo2SinceWeek\": 40.0, \"Promo2SinceYear\": 2011.0, \"PromoInterval\": \"Jan,Apr,Jul,Oct\"}, {\"Store\": 20, \"DayOfWeek\": 5, \"Date\": \"2015-08-14\", \"Open\": 1.0, \"Promo\": 0, \"StateHoliday\": \"0\", \"SchoolHoliday\": 1, \"StoreType\": \"d\", \"Assortment\": \"a\", \"CompetitionDistance\": 2340.0, \"CompetitionOpenSinceMonth\": 5.0, \"CompetitionOpenSinceYear\": 2009.0, \"Promo2\": 1, \"Promo2SinceWeek\": 40.0, \"Promo2SinceYear\": 2014.0, \"PromoInterval\": \"Jan,Apr,Jul,Oct\"}, {\"Store\": 32, \"DayOfWeek\": 5, \"Date\": \"2015-08-14\", \"Open\": 1.0, \"Promo\": 0, \"StateHoliday\": \"0\", \"SchoolHoliday\": 1, \"StoreType\": \"a\", \"Assortment\": \"a\", \"CompetitionDistance\": 2910.0, \"CompetitionOpenSinceMonth\": NaN, \"CompetitionOpenSinceYear\": NaN, \"Promo2\": 1, \"Promo2SinceWeek\": 45.0, \"Promo2SinceYear\": 2009.0, \"PromoInterval\": \"Feb,May,Aug,Nov\"}, {\"Store\": 42, \"DayOfWeek\": 5, \"Date\": \"2015-08-14\", \"Open\": 1.0, \"Promo\": 0, \"StateHoliday\": \"0\", \"SchoolHoliday\": 0, \"StoreType\": \"a\", \"Assortment\": \"c\", \"CompetitionDistance\": 290.0, \"CompetitionOpenSinceMonth\": NaN, \"CompetitionOpenSinceYear\": NaN, \"Promo2\": 1, \"Promo2SinceWeek\": 40.0, \"Promo2SinceYear\": 2011.0, \"PromoInterval\": \"Jan,Apr,Jul,Oct\"}, {\"Store\": 20, \"DayOfWeek\": 4, \"Date\": \"2015-08-13\", \"Open\": 1.0, \"Promo\": 0, \"StateHoliday\": \"0\", \"SchoolHoliday\": 1, \"StoreType\": \"d\", \"Assortment\": \"a\", \"CompetitionDistance\": 2340.0, \"CompetitionOpenSinceMonth\": 5.0, \"CompetitionOpenSinceYear\": 2009.0, \"Promo2\": 1, \"Promo2SinceWeek\": 40.0, \"Promo2SinceYear\": 2014.0, \"PromoInterval\": \"Jan,Apr,Jul,Oct\"}, {\"Store\": 32, \"DayOfWeek\": 4, \"Date\": \"2015-08-13\", \"Open\": 1.0, \"Promo\": 0, \"StateHoliday\": \"0\", \"SchoolHoliday\": 1, \"StoreType\": \"a\", \"Assortment\": \"a\", \"CompetitionDistance\": 2910.0, \"CompetitionOpenSinceMonth\": NaN, \"CompetitionOpenSinceYear\": NaN, \"Promo2\": 1, \"Promo2SinceWeek\": 45.0, \"Promo2SinceYear\": 2009.0, \"PromoInterval\": \"Feb,May,Aug,Nov\"}, {\"Store\": 42, \"DayOfWeek\": 4, \"Date\": \"2015-08-13\", \"Open\": 1.0, \"Promo\": 0, \"StateHoliday\": \"0\", \"SchoolHoliday\": 0, \"StoreType\": \"a\", \"Assortment\": \"c\", \"CompetitionDistance\": 290.0, \"CompetitionOpenSinceMonth\": NaN, \"CompetitionOpenSinceYear\": NaN, \"Promo2\": 1, \"Promo2SinceWeek\": 40.0, \"Promo2SinceYear\": 2011.0, \"PromoInterval\": \"Jan,Apr,Jul,Oct\"}, {\"Store\": 20, \"DayOfWeek\": 3, \"Date\": \"2015-08-12\", \"Open\": 1.0, \"Promo\": 0, \"StateHoliday\": \"0\", \"SchoolHoliday\": 1, \"StoreType\": \"d\", \"Assortment\": \"a\", \"CompetitionDistance\": 2340.0, \"CompetitionOpenSinceMonth\": 5.0, \"CompetitionOpenSinceYear\": 2009.0, \"Promo2\": 1, \"Promo2SinceWeek\": 40.0, \"Promo2SinceYear\": 2014.0, \"PromoInterval\": \"Jan,Apr,Jul,Oct\"}, {\"Store\": 32, \"DayOfWeek\": 3, \"Date\": \"2015-08-12\", \"Open\": 1.0, \"Promo\": 0, \"StateHoliday\": \"0\", \"SchoolHoliday\": 1, \"StoreType\": \"a\", \"Assortment\": \"a\", \"CompetitionDistance\": 2910.0, \"CompetitionOpenSinceMonth\": NaN, \"CompetitionOpenSinceYear\": NaN, \"Promo2\": 1, \"Promo2SinceWeek\": 45.0, \"Promo2SinceYear\": 2009.0, \"PromoInterval\": \"Feb,May,Aug,Nov\"}, {\"Store\": 42, \"DayOfWeek\": 3, \"Date\": \"2015-08-12\", \"Open\": 1.0, \"Promo\": 0, \"StateHoliday\": \"0\", \"SchoolHoliday\": 0, \"StoreType\": \"a\", \"Assortment\": \"c\", \"CompetitionDistance\": 290.0, \"CompetitionOpenSinceMonth\": NaN, \"CompetitionOpenSinceYear\": NaN, \"Promo2\": 1, \"Promo2SinceWeek\": 40.0, \"Promo2SinceYear\": 2011.0, \"PromoInterval\": \"Jan,Apr,Jul,Oct\"}, {\"Store\": 20, \"DayOfWeek\": 2, \"Date\": \"2015-08-11\", \"Open\": 1.0, \"Promo\": 0, \"StateHoliday\": \"0\", \"SchoolHoliday\": 1, \"StoreType\": \"d\", \"Assortment\": \"a\", \"CompetitionDistance\": 2340.0, \"CompetitionOpenSinceMonth\": 5.0, \"CompetitionOpenSinceYear\": 2009.0, \"Promo2\": 1, \"Promo2SinceWeek\": 40.0, \"Promo2SinceYear\": 2014.0, \"PromoInterval\": \"Jan,Apr,Jul,Oct\"}, {\"Store\": 32, \"DayOfWeek\": 2, \"Date\": \"2015-08-11\", \"Open\": 1.0, \"Promo\": 0, \"StateHoliday\": \"0\", \"SchoolHoliday\": 1, \"StoreType\": \"a\", \"Assortment\": \"a\", \"CompetitionDistance\": 2910.0, \"CompetitionOpenSinceMonth\": NaN, \"CompetitionOpenSinceYear\": NaN, \"Promo2\": 1, \"Promo2SinceWeek\": 45.0, \"Promo2SinceYear\": 2009.0, \"PromoInterval\": \"Feb,May,Aug,Nov\"}, {\"Store\": 42, \"DayOfWeek\": 2, \"Date\": \"2015-08-11\", \"Open\": 1.0, \"Promo\": 0, \"StateHoliday\": \"0\", \"SchoolHoliday\": 1, \"StoreType\": \"a\", \"Assortment\": \"c\", \"CompetitionDistance\": 290.0, \"CompetitionOpenSinceMonth\": NaN, \"CompetitionOpenSinceYear\": NaN, \"Promo2\": 1, \"Promo2SinceWeek\": 40.0, \"Promo2SinceYear\": 2011.0, \"PromoInterval\": \"Jan,Apr,Jul,Oct\"}, {\"Store\": 20, \"DayOfWeek\": 1, \"Date\": \"2015-08-10\", \"Open\": 1.0, \"Promo\": 0, \"StateHoliday\": \"0\", \"SchoolHoliday\": 1, \"StoreType\": \"d\", \"Assortment\": \"a\", \"CompetitionDistance\": 2340.0, \"CompetitionOpenSinceMonth\": 5.0, \"CompetitionOpenSinceYear\": 2009.0, \"Promo2\": 1, \"Promo2SinceWeek\": 40.0, \"Promo2SinceYear\": 2014.0, \"PromoInterval\": \"Jan,Apr,Jul,Oct\"}, {\"Store\": 32, \"DayOfWeek\": 1, \"Date\": \"2015-08-10\", \"Open\": 1.0, \"Promo\": 0, \"StateHoliday\": \"0\", \"SchoolHoliday\": 1, \"StoreType\": \"a\", \"Assortment\": \"a\", \"CompetitionDistance\": 2910.0, \"CompetitionOpenSinceMonth\": NaN, \"CompetitionOpenSinceYear\": NaN, \"Promo2\": 1, \"Promo2SinceWeek\": 45.0, \"Promo2SinceYear\": 2009.0, \"PromoInterval\": \"Feb,May,Aug,Nov\"}, {\"Store\": 42, \"DayOfWeek\": 1, \"Date\": \"2015-08-10\", \"Open\": 1.0, \"Promo\": 0, \"StateHoliday\": \"0\", \"SchoolHoliday\": 1, \"StoreType\": \"a\", \"Assortment\": \"c\", \"CompetitionDistance\": 290.0, \"CompetitionOpenSinceMonth\": NaN, \"CompetitionOpenSinceYear\": NaN, \"Promo2\": 1, \"Promo2SinceWeek\": 40.0, \"Promo2SinceYear\": 2011.0, \"PromoInterval\": \"Jan,Apr,Jul,Oct\"}, {\"Store\": 20, \"DayOfWeek\": 6, \"Date\": \"2015-08-08\", \"Open\": 1.0, \"Promo\": 0, \"StateHoliday\": \"0\", \"SchoolHoliday\": 0, \"StoreType\": \"d\", \"Assortment\": \"a\", \"CompetitionDistance\": 2340.0, \"CompetitionOpenSinceMonth\": 5.0, \"CompetitionOpenSinceYear\": 2009.0, \"Promo2\": 1, \"Promo2SinceWeek\": 40.0, \"Promo2SinceYear\": 2014.0, \"PromoInterval\": \"Jan,Apr,Jul,Oct\"}, {\"Store\": 42, \"DayOfWeek\": 6, \"Date\": \"2015-08-08\", \"Open\": 1.0, \"Promo\": 0, \"StateHoliday\": \"0\", \"SchoolHoliday\": 0, \"StoreType\": \"a\", \"Assortment\": \"c\", \"CompetitionDistance\": 290.0, \"CompetitionOpenSinceMonth\": NaN, \"CompetitionOpenSinceYear\": NaN, \"Promo2\": 1, \"Promo2SinceWeek\": 40.0, \"Promo2SinceYear\": 2011.0, \"PromoInterval\": \"Jan,Apr,Jul,Oct\"}, {\"Store\": 20, \"DayOfWeek\": 5, \"Date\": \"2015-08-07\", \"Open\": 1.0, \"Promo\": 1, \"StateHoliday\": \"0\", \"SchoolHoliday\": 1, \"StoreType\": \"d\", \"Assortment\": \"a\", \"CompetitionDistance\": 2340.0, \"CompetitionOpenSinceMonth\": 5.0, \"CompetitionOpenSinceYear\": 2009.0, \"Promo2\": 1, \"Promo2SinceWeek\": 40.0, \"Promo2SinceYear\": 2014.0, \"PromoInterval\": \"Jan,Apr,Jul,Oct\"}, {\"Store\": 32, \"DayOfWeek\": 5, \"Date\": \"2015-08-07\", \"Open\": 1.0, \"Promo\": 1, \"StateHoliday\": \"0\", \"SchoolHoliday\": 1, \"StoreType\": \"a\", \"Assortment\": \"a\", \"CompetitionDistance\": 2910.0, \"CompetitionOpenSinceMonth\": NaN, \"CompetitionOpenSinceYear\": NaN, \"Promo2\": 1, \"Promo2SinceWeek\": 45.0, \"Promo2SinceYear\": 2009.0, \"PromoInterval\": \"Feb,May,Aug,Nov\"}, {\"Store\": 42, \"DayOfWeek\": 5, \"Date\": \"2015-08-07\", \"Open\": 1.0, \"Promo\": 1, \"StateHoliday\": \"0\", \"SchoolHoliday\": 1, \"StoreType\": \"a\", \"Assortment\": \"c\", \"CompetitionDistance\": 290.0, \"CompetitionOpenSinceMonth\": NaN, \"CompetitionOpenSinceYear\": NaN, \"Promo2\": 1, \"Promo2SinceWeek\": 40.0, \"Promo2SinceYear\": 2011.0, \"PromoInterval\": \"Jan,Apr,Jul,Oct\"}, {\"Store\": 20, \"DayOfWeek\": 4, \"Date\": \"2015-08-06\", \"Open\": 1.0, \"Promo\": 1, \"StateHoliday\": \"0\", \"SchoolHoliday\": 1, \"StoreType\": \"d\", \"Assortment\": \"a\", \"CompetitionDistance\": 2340.0, \"CompetitionOpenSinceMonth\": 5.0, \"CompetitionOpenSinceYear\": 2009.0, \"Promo2\": 1, \"Promo2SinceWeek\": 40.0, \"Promo2SinceYear\": 2014.0, \"PromoInterval\": \"Jan,Apr,Jul,Oct\"}, {\"Store\": 32, \"DayOfWeek\": 4, \"Date\": \"2015-08-06\", \"Open\": 1.0, \"Promo\": 1, \"StateHoliday\": \"0\", \"SchoolHoliday\": 1, \"StoreType\": \"a\", \"Assortment\": \"a\", \"CompetitionDistance\": 2910.0, \"CompetitionOpenSinceMonth\": NaN, \"CompetitionOpenSinceYear\": NaN, \"Promo2\": 1, \"Promo2SinceWeek\": 45.0, \"Promo2SinceYear\": 2009.0, \"PromoInterval\": \"Feb,May,Aug,Nov\"}, {\"Store\": 42, \"DayOfWeek\": 4, \"Date\": \"2015-08-06\", \"Open\": 1.0, \"Promo\": 1, \"StateHoliday\": \"0\", \"SchoolHoliday\": 1, \"StoreType\": \"a\", \"Assortment\": \"c\", \"CompetitionDistance\": 290.0, \"CompetitionOpenSinceMonth\": NaN, \"CompetitionOpenSinceYear\": NaN, \"Promo2\": 1, \"Promo2SinceWeek\": 40.0, \"Promo2SinceYear\": 2011.0, \"PromoInterval\": \"Jan,Apr,Jul,Oct\"}, {\"Store\": 20, \"DayOfWeek\": 3, \"Date\": \"2015-08-05\", \"Open\": 1.0, \"Promo\": 1, \"StateHoliday\": \"0\", \"SchoolHoliday\": 1, \"StoreType\": \"d\", \"Assortment\": \"a\", \"CompetitionDistance\": 2340.0, \"CompetitionOpenSinceMonth\": 5.0, \"CompetitionOpenSinceYear\": 2009.0, \"Promo2\": 1, \"Promo2SinceWeek\": 40.0, \"Promo2SinceYear\": 2014.0, \"PromoInterval\": \"Jan,Apr,Jul,Oct\"}, {\"Store\": 32, \"DayOfWeek\": 3, \"Date\": \"2015-08-05\", \"Open\": 1.0, \"Promo\": 1, \"StateHoliday\": \"0\", \"SchoolHoliday\": 1, \"StoreType\": \"a\", \"Assortment\": \"a\", \"CompetitionDistance\": 2910.0, \"CompetitionOpenSinceMonth\": NaN, \"CompetitionOpenSinceYear\": NaN, \"Promo2\": 1, \"Promo2SinceWeek\": 45.0, \"Promo2SinceYear\": 2009.0, \"PromoInterval\": \"Feb,May,Aug,Nov\"}, {\"Store\": 42, \"DayOfWeek\": 3, \"Date\": \"2015-08-05\", \"Open\": 1.0, \"Promo\": 1, \"StateHoliday\": \"0\", \"SchoolHoliday\": 1, \"StoreType\": \"a\", \"Assortment\": \"c\", \"CompetitionDistance\": 290.0, \"CompetitionOpenSinceMonth\": NaN, \"CompetitionOpenSinceYear\": NaN, \"Promo2\": 1, \"Promo2SinceWeek\": 40.0, \"Promo2SinceYear\": 2011.0, \"PromoInterval\": \"Jan,Apr,Jul,Oct\"}, {\"Store\": 20, \"DayOfWeek\": 2, \"Date\": \"2015-08-04\", \"Open\": 1.0, \"Promo\": 1, \"StateHoliday\": \"0\", \"SchoolHoliday\": 1, \"StoreType\": \"d\", \"Assortment\": \"a\", \"CompetitionDistance\": 2340.0, \"CompetitionOpenSinceMonth\": 5.0, \"CompetitionOpenSinceYear\": 2009.0, \"Promo2\": 1, \"Promo2SinceWeek\": 40.0, \"Promo2SinceYear\": 2014.0, \"PromoInterval\": \"Jan,Apr,Jul,Oct\"}, {\"Store\": 32, \"DayOfWeek\": 2, \"Date\": \"2015-08-04\", \"Open\": 1.0, \"Promo\": 1, \"StateHoliday\": \"0\", \"SchoolHoliday\": 1, \"StoreType\": \"a\", \"Assortment\": \"a\", \"CompetitionDistance\": 2910.0, \"CompetitionOpenSinceMonth\": NaN, \"CompetitionOpenSinceYear\": NaN, \"Promo2\": 1, \"Promo2SinceWeek\": 45.0, \"Promo2SinceYear\": 2009.0, \"PromoInterval\": \"Feb,May,Aug,Nov\"}, {\"Store\": 42, \"DayOfWeek\": 2, \"Date\": \"2015-08-04\", \"Open\": 1.0, \"Promo\": 1, \"StateHoliday\": \"0\", \"SchoolHoliday\": 1, \"StoreType\": \"a\", \"Assortment\": \"c\", \"CompetitionDistance\": 290.0, \"CompetitionOpenSinceMonth\": NaN, \"CompetitionOpenSinceYear\": NaN, \"Promo2\": 1, \"Promo2SinceWeek\": 40.0, \"Promo2SinceYear\": 2011.0, \"PromoInterval\": \"Jan,Apr,Jul,Oct\"}, {\"Store\": 20, \"DayOfWeek\": 1, \"Date\": \"2015-08-03\", \"Open\": 1.0, \"Promo\": 1, \"StateHoliday\": \"0\", \"SchoolHoliday\": 1, \"StoreType\": \"d\", \"Assortment\": \"a\", \"CompetitionDistance\": 2340.0, \"CompetitionOpenSinceMonth\": 5.0, \"CompetitionOpenSinceYear\": 2009.0, \"Promo2\": 1, \"Promo2SinceWeek\": 40.0, \"Promo2SinceYear\": 2014.0, \"PromoInterval\": \"Jan,Apr,Jul,Oct\"}, {\"Store\": 32, \"DayOfWeek\": 1, \"Date\": \"2015-08-03\", \"Open\": 1.0, \"Promo\": 1, \"StateHoliday\": \"0\", \"SchoolHoliday\": 1, \"StoreType\": \"a\", \"Assortment\": \"a\", \"CompetitionDistance\": 2910.0, \"CompetitionOpenSinceMonth\": NaN, \"CompetitionOpenSinceYear\": NaN, \"Promo2\": 1, \"Promo2SinceWeek\": 45.0, \"Promo2SinceYear\": 2009.0, \"PromoInterval\": \"Feb,May,Aug,Nov\"}, {\"Store\": 42, \"DayOfWeek\": 1, \"Date\": \"2015-08-03\", \"Open\": 1.0, \"Promo\": 1, \"StateHoliday\": \"0\", \"SchoolHoliday\": 1, \"StoreType\": \"a\", \"Assortment\": \"c\", \"CompetitionDistance\": 290.0, \"CompetitionOpenSinceMonth\": NaN, \"CompetitionOpenSinceYear\": NaN, \"Promo2\": 1, \"Promo2SinceWeek\": 40.0, \"Promo2SinceYear\": 2011.0, \"PromoInterval\": \"Jan,Apr,Jul,Oct\"}, {\"Store\": 20, \"DayOfWeek\": 6, \"Date\": \"2015-08-01\", \"Open\": 1.0, \"Promo\": 0, \"StateHoliday\": \"0\", \"SchoolHoliday\": 0, \"StoreType\": \"d\", \"Assortment\": \"a\", \"CompetitionDistance\": 2340.0, \"CompetitionOpenSinceMonth\": 5.0, \"CompetitionOpenSinceYear\": 2009.0, \"Promo2\": 1, \"Promo2SinceWeek\": 40.0, \"Promo2SinceYear\": 2014.0, \"PromoInterval\": \"Jan,Apr,Jul,Oct\"}, {\"Store\": 32, \"DayOfWeek\": 6, \"Date\": \"2015-08-01\", \"Open\": 1.0, \"Promo\": 0, \"StateHoliday\": \"0\", \"SchoolHoliday\": 0, \"StoreType\": \"a\", \"Assortment\": \"a\", \"CompetitionDistance\": 2910.0, \"CompetitionOpenSinceMonth\": NaN, \"CompetitionOpenSinceYear\": NaN, \"Promo2\": 1, \"Promo2SinceWeek\": 45.0, \"Promo2SinceYear\": 2009.0, \"PromoInterval\": \"Feb,May,Aug,Nov\"}, {\"Store\": 42, \"DayOfWeek\": 6, \"Date\": \"2015-08-01\", \"Open\": 1.0, \"Promo\": 0, \"StateHoliday\": \"0\", \"SchoolHoliday\": 0, \"StoreType\": \"a\", \"Assortment\": \"c\", \"CompetitionDistance\": 290.0, \"CompetitionOpenSinceMonth\": NaN, \"CompetitionOpenSinceYear\": NaN, \"Promo2\": 1, \"Promo2SinceWeek\": 40.0, \"Promo2SinceYear\": 2011.0, \"PromoInterval\": \"Jan,Apr,Jul,Oct\"}]'"
      ]
     },
     "execution_count": 46,
     "metadata": {},
     "output_type": "execute_result"
    }
   ],
   "source": [
    "data"
   ]
  },
  {
   "cell_type": "code",
   "execution_count": null,
   "metadata": {},
   "outputs": [],
   "source": []
  }
 ],
 "metadata": {
  "colab": {
   "collapsed_sections": [],
   "name": "boruta_ds_producao.ipynb",
   "provenance": []
  },
  "kernelspec": {
   "display_name": "Python 3 (ipykernel)",
   "language": "python",
   "name": "python3"
  },
  "language_info": {
   "codemirror_mode": {
    "name": "ipython",
    "version": 3
   },
   "file_extension": ".py",
   "mimetype": "text/x-python",
   "name": "python",
   "nbconvert_exporter": "python",
   "pygments_lexer": "ipython3",
   "version": "3.8.10"
  },
  "varInspector": {
   "cols": {
    "lenName": 16,
    "lenType": 16,
    "lenVar": 40
   },
   "kernels_config": {
    "python": {
     "delete_cmd_postfix": "",
     "delete_cmd_prefix": "del ",
     "library": "var_list.py",
     "varRefreshCmd": "print(var_dic_list())"
    },
    "r": {
     "delete_cmd_postfix": ") ",
     "delete_cmd_prefix": "rm(",
     "library": "var_list.r",
     "varRefreshCmd": "cat(var_dic_list()) "
    }
   },
   "types_to_exclude": [
    "module",
    "function",
    "builtin_function_or_method",
    "instance",
    "_Feature"
   ],
   "window_display": false
  }
 },
 "nbformat": 4,
 "nbformat_minor": 1
}
