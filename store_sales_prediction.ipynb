{
 "cells": [
  {
   "cell_type": "markdown",
   "id": "3c6822d6",
   "metadata": {},
   "source": [
    "# 0.0 Imports"
   ]
  },
  {
   "cell_type": "code",
   "execution_count": 2,
   "id": "2c182614",
   "metadata": {
    "ExecuteTime": {
     "end_time": "2022-03-31T19:58:40.107382Z",
     "start_time": "2022-03-31T19:57:45.002592Z"
    }
   },
   "outputs": [
    {
     "name": "stdout",
     "output_type": "stream",
     "text": [
      "Collecting xgboost\n",
      "  Downloading xgboost-1.5.2-py3-none-manylinux2014_x86_64.whl (173.6 MB)\n",
      "\u001b[K     |████████████████████████████████| 173.6 MB 5.2 kB/s eta 0:00:01    |███▌                            | 18.9 MB 4.6 MB/s eta 0:00:34     |████▎                           | 23.4 MB 1.8 MB/s eta 0:01:23     |██████▋                         | 35.6 MB 4.9 MB/s eta 0:00:29     |█████████▎                      | 50.4 MB 5.2 MB/s eta 0:00:24     |███████████▌                    | 62.5 MB 5.1 MB/s eta 0:00:22     |████████████████▊               | 90.4 MB 5.2 MB/s eta 0:00:16     |███████████████████             | 103.4 MB 4.4 MB/s eta 0:00:16     |████████████████████████        | 129.9 MB 5.3 MB/s eta 0:00:09     |████████████████████████▊       | 134.4 MB 5.8 MB/s eta 0:00:07     |█████████████████████████▊      | 139.3 MB 7.4 MB/s eta 0:00:05     |██████████████████████████████▋ | 166.2 MB 5.1 MB/s eta 0:00:02\n",
      "\u001b[?25hRequirement already satisfied: numpy in /home/alex/.local/lib/python3.8/site-packages (from xgboost) (1.22.3)\n",
      "Requirement already satisfied: scipy in /home/alex/.local/lib/python3.8/site-packages (from xgboost) (1.8.0)\n",
      "Installing collected packages: xgboost\n",
      "Successfully installed xgboost-1.5.2\n",
      "Note: you may need to restart the kernel to use updated packages.\n"
     ]
    }
   ],
   "source": [
    "pip install xgboost"
   ]
  },
  {
   "cell_type": "code",
   "execution_count": 3,
   "id": "0dc3a69e",
   "metadata": {
    "ExecuteTime": {
     "end_time": "2022-03-31T20:04:36.660733Z",
     "start_time": "2022-03-31T20:04:33.832518Z"
    }
   },
   "outputs": [
    {
     "name": "stderr",
     "output_type": "stream",
     "text": [
      "/home/alex/.local/lib/python3.8/site-packages/xgboost/compat.py:36: FutureWarning: pandas.Int64Index is deprecated and will be removed from pandas in a future version. Use pandas.Index with the appropriate dtype instead.\n",
      "  from pandas import MultiIndex, Int64Index\n"
     ]
    }
   ],
   "source": [
    "import math\n",
    "import datetime\n",
    "import inflection\n",
    "\n",
    "import numpy as np\n",
    "import pandas as pd\n",
    "import xgboost as xgb\n",
    "import seaborn as sns\n",
    "import matplotlib.pyplot as plt\n",
    "\n",
    "\n",
    "from scipy import stats as ss\n",
    "from boruta import BorutaPy\n",
    "from tabulate import tabulate\n",
    "from matplotlib import gridspec\n",
    "from IPython.display import Image\n",
    "from sklearn.ensemble import RandomForestRegressor\n",
    "from sklearn.linear_model import LinearRegression, Lasso\n",
    "from sklearn.preprocessing import RobustScaler, MinMaxScaler, LabelEncoder\n",
    "from sklearn.metrics import mean_absolute_error, mean_squared_error ,mean_absolute_percentage_error"
   ]
  },
  {
   "cell_type": "markdown",
   "id": "58ac2b53",
   "metadata": {},
   "source": [
    "## 0.1 Helper Functions"
   ]
  },
  {
   "cell_type": "code",
   "execution_count": 4,
   "id": "654abec8",
   "metadata": {
    "ExecuteTime": {
     "end_time": "2022-03-30T17:41:02.956810Z",
     "start_time": "2022-03-30T17:41:02.947370Z"
    }
   },
   "outputs": [],
   "source": [
    "#V de Cramer\n",
    "def cramer_v(x, y):\n",
    "    cm = pd.crosstab( x, y).values\n",
    "    n = cm.sum()\n",
    "    r, k = cm.shape\n",
    "    \n",
    "    chi2 = ss.chi2_contingency( cm )[0]\n",
    "    chi2corr = max(0, chi2 - (k-1)*(r-1)/(n-1))\n",
    "    kcorr = k - (k-1)**2/(n-1)\n",
    "    rcorr = r - (r-1)**2/(n-1)\n",
    "    \n",
    "    return np.sqrt((chi2corr/n)/(min(kcorr-1, rcorr-1))) \n",
    "\n",
    "\n",
    "def ml_error(model_name, y, yhat):\n",
    "    mae = mean_absolute_error( y, yhat )\n",
    "    mape = mean_absolute_percentage_error( y, yhat)\n",
    "    rmse = np.sqrt(mean_squared_error(y, yhat))\n",
    "    \n",
    "    return pd.DataFrame({'Model Name': model_name,\n",
    "                         'MAE': mae,\n",
    "                         'MAPE': mape,\n",
    "                         'RMSE': rmse }, index=[0] )\n",
    "\n",
    "\n",
    "def cross_validation(x_training, kfold, model_name, model, verbose=False):\n",
    "    mae_list = []\n",
    "    mape_list = []\n",
    "    rmse_list = []\n",
    "    for k in reversed( range( 1, kfold+1) ):\n",
    "        if verbose:\n",
    "            print( f\"\\nKFold Number: {k}\" )\n",
    "        # start and end date for validation\n",
    "        validation_start_date = x_training['date'].max() - datetime.timedelta( days=k*6*7)\n",
    "        validation_end_date = x_training['date'].max() - datetime.timedelta( days=(k-1)*6*7)\n",
    "\n",
    "        #filtering dataset\n",
    "        training = x_training[x_training['date'] < validation_start_date]\n",
    "        validation = x_training[(x_training['date'] >= validation_start_date) & (x_training['date'] <= validation_end_date)]\n",
    "\n",
    "        # training and validation dataset\n",
    "        xtraining = training.drop( ['date', 'sales'], axis=1 )\n",
    "        ytraining = training['sales']\n",
    "\n",
    "        #validation\n",
    "        xvalidation = validation.drop( ['date', 'sales'], axis=1 )\n",
    "        yvalidation = validation['sales']\n",
    "\n",
    "        #model\n",
    "        m = model.fit(xtraining, ytraining)\n",
    "\n",
    "        #prediction\n",
    "        yhat = m.predict( xvalidation )\n",
    "\n",
    "        #performance\n",
    "        m_result = ml_error( model_name, np.expm1(yvalidation), np.expm1(yhat))\n",
    "\n",
    "        # store performance of each kfold iteration\n",
    "        mae_list.append(m_result['MAE'])\n",
    "        mape_list.append(m_result['MAPE'])\n",
    "        rmse_list.append(m_result['RMSE'])\n",
    "\n",
    "    return pd.DataFrame({'Model Name': model_name,\n",
    "                         'MAE CV': np.round(np.mean(mae_list), 2).astype( str ) + ' +/- ' + np.round(np.std(mae_list), 2).astype( str ),\n",
    "                         'MAPE CV': np.round(np.mean(mape_list), 2).astype( str ) + ' +/- ' + np.round(np.std(mape_list), 2).astype( str ),\n",
    "                         'RMSE CV': np.round(np.mean(rmse_list), 2).astype( str ) + ' +/- ' + np.round(np.std(rmse_list), 2).astype( str ) }, index=[0])\n",
    "\n",
    "\n",
    "plt.rcParams['figure.figsize'] = (18,10)\n",
    "plt.style.use( 'bmh' )\n",
    "plt.rcParams['font.size'] = 15"
   ]
  },
  {
   "cell_type": "markdown",
   "id": "9d78c95a",
   "metadata": {
    "heading_collapsed": true,
    "hide_input": true
   },
   "source": [
    "## 0.2 Loading Data"
   ]
  },
  {
   "cell_type": "code",
   "execution_count": null,
   "id": "f37ad37b",
   "metadata": {
    "ExecuteTime": {
     "end_time": "2022-03-23T20:56:23.110949Z",
     "start_time": "2022-03-23T20:56:21.836445Z"
    },
    "hidden": true
   },
   "outputs": [],
   "source": [
    "df_sales_raw = pd.read_csv( 'datasets/train.csv', low_memory=False )\n",
    "df_store_raw = pd.read_csv( 'datasets/store.csv', low_memory=False )\n",
    "                           \n",
    "#merge\n",
    "df_raw = pd.merge( df_sales_raw, df_store_raw, how='left', on='Store')"
   ]
  },
  {
   "cell_type": "markdown",
   "id": "615f68e3",
   "metadata": {
    "ExecuteTime": {
     "end_time": "2022-03-21T18:45:23.014368Z",
     "start_time": "2022-03-21T18:45:22.448394Z"
    },
    "heading_collapsed": true
   },
   "source": [
    "# 1.0 Descrição dos Dados"
   ]
  },
  {
   "cell_type": "markdown",
   "id": "7fce6b51",
   "metadata": {
    "heading_collapsed": true,
    "hidden": true
   },
   "source": [
    "## 1.1 Rename Columns"
   ]
  },
  {
   "cell_type": "code",
   "execution_count": null,
   "id": "7efa5e42",
   "metadata": {
    "ExecuteTime": {
     "end_time": "2022-03-23T20:56:30.163383Z",
     "start_time": "2022-03-23T20:56:30.143662Z"
    },
    "hidden": true
   },
   "outputs": [],
   "source": [
    "df1 = df_raw.copy()\n",
    "\n",
    "cols_old = ['Store', 'DayOfWeek', 'Date', 'Sales', 'Customers', 'Open', 'Promo', \n",
    "            'StateHoliday', 'SchoolHoliday', 'StoreType', 'Assortment', \n",
    "            'CompetitionDistance', 'CompetitionOpenSinceMonth', 'CompetitionOpenSinceYear',\n",
    "            'Promo2', 'Promo2SinceWeek', 'Promo2SinceYear', 'PromoInterval']\n",
    "\n",
    "snakecase = lambda x: inflection.underscore( x )\n",
    "\n",
    "cols_new = list(map( snakecase, cols_old))\n",
    "\n",
    "# rename\n",
    "df1.columns = cols_new"
   ]
  },
  {
   "cell_type": "markdown",
   "id": "46d49de0",
   "metadata": {
    "heading_collapsed": true,
    "hidden": true
   },
   "source": [
    "## 1.2 Data Dimension"
   ]
  },
  {
   "cell_type": "code",
   "execution_count": null,
   "id": "25c5973b",
   "metadata": {
    "ExecuteTime": {
     "end_time": "2022-03-23T20:56:33.471015Z",
     "start_time": "2022-03-23T20:56:33.463060Z"
    },
    "hidden": true
   },
   "outputs": [],
   "source": [
    "print(f'Number of Rows{df1.shape[0]}')\n",
    "print(f'Number of Cols{df1.shape[1]}')"
   ]
  },
  {
   "cell_type": "markdown",
   "id": "097d315e",
   "metadata": {
    "heading_collapsed": true,
    "hidden": true
   },
   "source": [
    "## 1.3 Data Types"
   ]
  },
  {
   "cell_type": "code",
   "execution_count": null,
   "id": "20af268a",
   "metadata": {
    "ExecuteTime": {
     "end_time": "2022-03-23T20:56:36.596947Z",
     "start_time": "2022-03-23T20:56:36.408996Z"
    },
    "hidden": true
   },
   "outputs": [],
   "source": [
    "df1['date'] = pd.to_datetime( df1['date'])\n",
    "df1.dtypes"
   ]
  },
  {
   "cell_type": "markdown",
   "id": "0370220a",
   "metadata": {
    "heading_collapsed": true,
    "hidden": true
   },
   "source": [
    "## 1.4 Check NA"
   ]
  },
  {
   "cell_type": "code",
   "execution_count": null,
   "id": "34276ee6",
   "metadata": {
    "ExecuteTime": {
     "end_time": "2022-03-23T20:56:40.273595Z",
     "start_time": "2022-03-23T20:56:39.419456Z"
    },
    "hidden": true
   },
   "outputs": [],
   "source": [
    "df1.isna().sum()"
   ]
  },
  {
   "cell_type": "markdown",
   "id": "2d5b0413",
   "metadata": {
    "heading_collapsed": true,
    "hidden": true
   },
   "source": [
    "## 1.5 Fillout NA"
   ]
  },
  {
   "cell_type": "code",
   "execution_count": null,
   "id": "0fd8e125",
   "metadata": {
    "ExecuteTime": {
     "end_time": "2022-03-23T20:56:43.120883Z",
     "start_time": "2022-03-23T20:56:43.102525Z"
    },
    "hidden": true
   },
   "outputs": [],
   "source": [
    "df1['competition_distance'].max()"
   ]
  },
  {
   "cell_type": "code",
   "execution_count": null,
   "id": "a98309ee",
   "metadata": {
    "ExecuteTime": {
     "end_time": "2022-03-23T20:59:20.059373Z",
     "start_time": "2022-03-23T20:56:46.059722Z"
    },
    "hidden": true
   },
   "outputs": [],
   "source": [
    "# competition_distance    \n",
    "df1['competition_distance'] = df1['competition_distance'].apply( lambda x: 200000.0 if math.isnan( x ) else x)\n",
    "\n",
    "# competition_open_since_month\n",
    "df1['competition_open_since_month'] = df1.apply( lambda x: x['date'].month if math.isnan( x['competition_open_since_month'] ) else x['competition_open_since_month'], axis=1)\n",
    "\n",
    "# competition_open_since_year    \n",
    "df1['competition_open_since_year'] = df1.apply( lambda x: x['date'].year if math.isnan( x['competition_open_since_year'] ) else x['competition_open_since_year'], axis=1)\n",
    "\n",
    "# promo2_since_week              \n",
    "df1['promo2_since_week'] = df1.apply( lambda x: x['date'].week if math.isnan( x['promo2_since_week'] ) else x['promo2_since_week'], axis=1)\n",
    "\n",
    "# promo2_since_year              \n",
    "df1['promo2_since_year'] = df1.apply( lambda x: x['date'].year if math.isnan( x['promo2_since_year'] ) else x['promo2_since_year'], axis=1)\n",
    "\n",
    "# promo_interval \n",
    "month_map = {1: 'Jan', 2: 'Feb', 3: 'Mar', 4: 'Apr', 5: 'May', 6: 'Jun', 7: 'Jul', 8: 'Aug', 9: 'Sep', 10: 'Oct', 11: 'Nov', 12: 'Dec' }\n",
    "df1['promo_interval'].fillna(0, inplace=True)\n",
    "df1['month_map'] = df1['date'].dt.month.map( month_map )\n",
    "df1['is_promo'] = df1[['promo_interval', 'month_map']].apply( lambda x: 0 if x['promo_interval'] == 0 else 1 if x['month_map'] in x['promo_interval'].split( ',' ) else 0, axis=1 )\n",
    "\n",
    "df1.isna().sum()"
   ]
  },
  {
   "cell_type": "markdown",
   "id": "2e96b883",
   "metadata": {
    "heading_collapsed": true,
    "hidden": true
   },
   "source": [
    "## 1.6 Change Types"
   ]
  },
  {
   "cell_type": "code",
   "execution_count": null,
   "id": "b5ac3884",
   "metadata": {
    "ExecuteTime": {
     "end_time": "2022-03-23T20:59:23.231953Z",
     "start_time": "2022-03-23T20:59:23.156158Z"
    },
    "hidden": true
   },
   "outputs": [],
   "source": [
    "df1['competition_open_since_month'] = df1['competition_open_since_month'].astype( int )\n",
    "df1['competition_open_since_year'] = df1['competition_open_since_year'].astype( int )\n",
    "\n",
    "df1['promo2_since_week'] = df1['promo2_since_week'].astype( int )\n",
    "df1['promo2_since_year'] = df1['promo2_since_year'].astype( int )\n",
    "\n",
    "df1.dtypes"
   ]
  },
  {
   "cell_type": "code",
   "execution_count": null,
   "id": "70a5fa10",
   "metadata": {
    "ExecuteTime": {
     "end_time": "2022-03-23T20:59:46.949388Z",
     "start_time": "2022-03-23T20:59:26.244262Z"
    },
    "hidden": true
   },
   "outputs": [],
   "source": [
    "#df1.to_csv('df1.csv', index_label=False )"
   ]
  },
  {
   "cell_type": "markdown",
   "id": "1f166b43",
   "metadata": {
    "heading_collapsed": true,
    "hidden": true
   },
   "source": [
    "## 1.7 Descriptive Statistical"
   ]
  },
  {
   "cell_type": "code",
   "execution_count": null,
   "id": "8e4a4c74",
   "metadata": {
    "ExecuteTime": {
     "end_time": "2022-03-24T14:51:58.816111Z",
     "start_time": "2022-03-24T14:51:55.755799Z"
    },
    "hidden": true
   },
   "outputs": [],
   "source": [
    "df2 = pd.read_csv( 'df1.csv', low_memory=False )"
   ]
  },
  {
   "cell_type": "code",
   "execution_count": null,
   "id": "6d5ea673",
   "metadata": {
    "ExecuteTime": {
     "end_time": "2022-03-24T14:51:59.639905Z",
     "start_time": "2022-03-24T14:51:59.632610Z"
    },
    "hidden": true
   },
   "outputs": [],
   "source": [
    "num_attributes = df2.select_dtypes( include = ['int64', 'float64'])\n",
    "cat_attributes = df2.select_dtypes( exclude = ['int64', 'float64', 'datetime64[ns]'])"
   ]
  },
  {
   "cell_type": "markdown",
   "id": "f1bc5d9a",
   "metadata": {
    "heading_collapsed": true,
    "hidden": true
   },
   "source": [
    "### 1.7.1 Numerical Attributes"
   ]
  },
  {
   "cell_type": "code",
   "execution_count": null,
   "id": "740f5f51",
   "metadata": {
    "ExecuteTime": {
     "end_time": "2022-03-24T14:52:05.083605Z",
     "start_time": "2022-03-24T14:52:00.921523Z"
    },
    "hidden": true
   },
   "outputs": [],
   "source": [
    "# Central tendency - mean, median\n",
    "ct1 = pd.DataFrame( num_attributes.apply( np.mean )).T\n",
    "ct2 = pd.DataFrame( num_attributes.apply( np.median )).T\n",
    "\n",
    "# dispersion - std, min, max, range, skew, kurtosis\n",
    "d1 = pd.DataFrame( num_attributes.apply( np.std )).T\n",
    "d2 = pd.DataFrame( num_attributes.apply( min )).T\n",
    "d3 = pd.DataFrame( num_attributes.apply( max )).T\n",
    "d4 = pd.DataFrame( num_attributes.apply( lambda x: x.max() - x.min() )).T\n",
    "d5 = pd.DataFrame( num_attributes.apply( lambda x: x.skew() )).T\n",
    "d6 = pd.DataFrame( num_attributes.apply( lambda x: x.kurtosis() )).T\n",
    "\n",
    "#concat\n",
    "m = pd.concat( [d2, d3, d4, ct1, ct2, d1, d5, d6] ).T.reset_index()\n",
    "m.columns = ['attributes', 'min', 'max', 'range', 'mean', 'median', 'std', 'skew', 'kurtosis'] "
   ]
  },
  {
   "cell_type": "code",
   "execution_count": null,
   "id": "f2964803",
   "metadata": {
    "ExecuteTime": {
     "end_time": "2022-03-24T14:52:12.829823Z",
     "start_time": "2022-03-24T14:52:06.430299Z"
    },
    "hidden": true
   },
   "outputs": [],
   "source": [
    "sns.distplot( df2['competition_distance'] )"
   ]
  },
  {
   "cell_type": "markdown",
   "id": "9a77e059",
   "metadata": {
    "heading_collapsed": true,
    "hidden": true
   },
   "source": [
    "### 1.7.2 Categorical Attributes"
   ]
  },
  {
   "cell_type": "code",
   "execution_count": null,
   "id": "a3f5f0f1",
   "metadata": {
    "ExecuteTime": {
     "end_time": "2022-03-24T14:52:20.059988Z",
     "start_time": "2022-03-24T14:52:19.685485Z"
    },
    "hidden": true
   },
   "outputs": [],
   "source": [
    "cat_attributes.apply( lambda x: x.unique().shape[0])"
   ]
  },
  {
   "cell_type": "code",
   "execution_count": null,
   "id": "e5e59d63",
   "metadata": {
    "ExecuteTime": {
     "end_time": "2022-03-24T14:52:21.479860Z",
     "start_time": "2022-03-24T14:52:20.703065Z"
    },
    "hidden": true
   },
   "outputs": [],
   "source": [
    "aux1 = df2[(df2['state_holiday'] !='0') & (df2['sales']>0)]\n",
    "\n",
    "plt.subplot( 1, 3, 1)\n",
    "sns.boxplot( x= 'state_holiday', y= 'sales', data=aux1)\n",
    "\n",
    "plt.subplot( 1, 3, 2)\n",
    "sns.boxplot( x= 'store_type', y= 'sales', data=aux1)\n",
    "\n",
    "plt.subplot( 1, 3, 3)\n",
    "sns.boxplot( x= 'assortment', y= 'sales', data=aux1)"
   ]
  },
  {
   "cell_type": "markdown",
   "id": "eb0dde60",
   "metadata": {
    "heading_collapsed": true
   },
   "source": [
    "# 2.0 Feature Engineering"
   ]
  },
  {
   "cell_type": "markdown",
   "id": "49f35a4e",
   "metadata": {
    "heading_collapsed": true,
    "hidden": true
   },
   "source": [
    "## 2.1 Mapa Mental de Hipóteses"
   ]
  },
  {
   "cell_type": "code",
   "execution_count": null,
   "id": "9ee306f1",
   "metadata": {
    "ExecuteTime": {
     "end_time": "2022-03-24T14:52:36.091714Z",
     "start_time": "2022-03-24T14:52:36.076329Z"
    },
    "hidden": true
   },
   "outputs": [],
   "source": [
    "Image( 'img/MindMapHypothesis.png' )"
   ]
  },
  {
   "cell_type": "markdown",
   "id": "2915d7b1",
   "metadata": {
    "heading_collapsed": true,
    "hidden": true
   },
   "source": [
    "## 2.2 Criação da Hipóteses"
   ]
  },
  {
   "cell_type": "markdown",
   "id": "76d40c96",
   "metadata": {
    "heading_collapsed": true,
    "hidden": true
   },
   "source": [
    "### 2.2.1 Hipóteses Loja\n",
    "\n",
    "    -1 Lojas com maior quadro de funcionários deveriam vender mais\n",
    "    \n",
    "    -2 Lojas com maior estoque deveriam vender mais\n",
    "    \n",
    "    -3 Lojas com maior porte deveriam vender mais\n",
    "    \n",
    "    -4 Lojas com maior sortimento deveriam vender mais\n",
    "    \n",
    "    -5 Lojas com competidores mais próximos deveriam vender menos\n",
    "    \n",
    "    -6 Lojas com competidores à mais tempo deveriam vender mais"
   ]
  },
  {
   "cell_type": "markdown",
   "id": "f4970d0a",
   "metadata": {
    "heading_collapsed": true,
    "hidden": true
   },
   "source": [
    "### 2.2.1 Hipóteses Produto\n",
    "\n",
    "    -1 Lojas que investem mais em marketing deveriam vender mais\n",
    "    \n",
    "    -2 Lojas que expoe mais os produtos nas vitrines deveriam vender mais\n",
    "    \n",
    "    -3 Lojas que tem preços menores nos produtos deveriam vender mais\n",
    "    \n",
    "    -4 Lojas que possuem preços menores por mais tempo deveriam vender mais \n",
    "    \n",
    "    -5 Lojas com descontos maiores deveriam vender mais\n",
    "    \n",
    "    -6 Lojas com promoções ativas por mais tempo deveriam vender mais\n",
    "    \n",
    "    -7 Lojas com mais dias de promoção deveriam vender mais\n",
    "    \n",
    "    -8 Lojas com mais promoções consecutivas deveriam vender mais"
   ]
  },
  {
   "cell_type": "markdown",
   "id": "97c11c9d",
   "metadata": {
    "heading_collapsed": true,
    "hidden": true
   },
   "source": [
    "### 2.2.1 Hipóteses Tempo\n",
    "\n",
    "    -1 Lojas abertas durante o feriado de natal deveriam vender mais\n",
    "    \n",
    "    -2 Lojas deveriam vender mais ao longo dos anos\n",
    "    \n",
    "    -3 Lojas deveriam vender mais no segundo semestre do ano\n",
    "    \n",
    "    -4 Lojas deveriam vender mais depois do dia 10 do mês\n",
    "    \n",
    "    -5 Lojas deveriam vender menos aos finais de semana\n",
    "    \n",
    "    -6 Lojas deveriam vender menos durante os feriados escolares"
   ]
  },
  {
   "cell_type": "markdown",
   "id": "d401fccc",
   "metadata": {
    "heading_collapsed": true,
    "hidden": true
   },
   "source": [
    "## 2.3 Lista Final de Hipótesis\n",
    "\n",
    "    -1 Lojas com maior sortimento deveriam vender mais\n",
    "     \n",
    "    -2 Lojas com competidores mais próximos deveriam vender menos\n",
    "    \n",
    "    -3 Lojas com competidores à mais tempo deveriam vender mais\n",
    "     \n",
    "    -4 Lojas com promoções ativas por mais tempo deveriam vender mais\n",
    "\n",
    "    -5 Lojas com mais dias de promoção deveriam vender mais\n",
    "\n",
    "    -6 Lojas com mais promoções consecutivas deveriam vender mais\n",
    "      \n",
    "    -7 Lojas abertas durante o feriado de natal deveriam vender mais\n",
    "   \n",
    "    -8 Lojas deveriam vender mais ao longo dos anos\n",
    "    \n",
    "    -9 Lojas deveriam vender mais no segundo semestre do ano\n",
    "    \n",
    "    -10 Lojas deveriam vender mais depois do dia 10 do mês\n",
    "    \n",
    "    -11 Lojas deveriam vender menos aos finais de semana\n",
    "    \n",
    "    -12 Lojas deveriam vender menos durante os feriados escolares    "
   ]
  },
  {
   "cell_type": "markdown",
   "id": "3dbc528b",
   "metadata": {
    "heading_collapsed": true,
    "hidden": true
   },
   "source": [
    "## 2.2 Criação da Hipóteses"
   ]
  },
  {
   "cell_type": "code",
   "execution_count": null,
   "id": "e2be333e",
   "metadata": {
    "ExecuteTime": {
     "end_time": "2022-03-24T14:52:45.919452Z",
     "start_time": "2022-03-24T14:52:45.895493Z"
    },
    "hidden": true
   },
   "outputs": [],
   "source": [
    "df2.head().T"
   ]
  },
  {
   "cell_type": "code",
   "execution_count": null,
   "id": "f7d3fb2e",
   "metadata": {
    "ExecuteTime": {
     "end_time": "2022-03-24T14:56:22.641650Z",
     "start_time": "2022-03-24T14:56:22.461194Z"
    },
    "hidden": true
   },
   "outputs": [],
   "source": [
    "df2['date'] = pd.to_datetime( df2['date'])\n",
    "df2.dtypes"
   ]
  },
  {
   "cell_type": "code",
   "execution_count": null,
   "id": "5a140c14",
   "metadata": {
    "ExecuteTime": {
     "end_time": "2022-03-24T14:59:07.014906Z",
     "start_time": "2022-03-24T14:56:30.493961Z"
    },
    "hidden": true
   },
   "outputs": [],
   "source": [
    "# year\n",
    "df2['year'] = df2['date'].dt.year\n",
    "\n",
    "#month\n",
    "df2['month'] = df2['date'].dt.month\n",
    "\n",
    "#day\n",
    "df2['day'] = df2['date'].dt.day\n",
    "\n",
    "#week of year\n",
    "df2['week_of_year'] = df2['date'].dt.weekofyear\n",
    "\n",
    "#year week\n",
    "df2['year_week'] = df2['date'].dt.strftime( '%Y-%W' )\n",
    "\n",
    "#competition since\n",
    "df2['competition_since'] = df2.apply(lambda x: datetime.datetime( year=x['competition_open_since_year'], month=x['competition_open_since_month'], day=1), axis=1)\n",
    "df2['competition_since_month'] = ((df2['date'] - df2['competition_since'])/30).apply(lambda x: x.days).astype( int )\n",
    "df2['competition_time_month'] = ((df2['date'] - df2['competition_since'])/30).apply(lambda x: x.days).astype( int )\n",
    "\n",
    "#promo since\n",
    "df2['promo_since'] = df2['promo2_since_year'].astype(str) + '-' + df2['promo2_since_week'].astype(str)\n",
    "df2['promo_since'] = df2['promo_since'].apply(lambda x: datetime.datetime.strptime( x + '-1', '%Y-%W-%w' ) - datetime.timedelta( days=7 ))\n",
    "df2['promo_time_week'] = ( ( df2['date'] - df2['promo_since'] )/7 ).apply(lambda x: x.days ).astype( int )\n",
    "\n",
    "#assortment / a=basic, b=extra, c=extended\n",
    "df2['assortment'] = df2['assortment'].apply(lambda x: 'basic' if x == 'a' else 'extra' if x == 'b' else 'extended')\n",
    "\n",
    "#state holiday / a=public holiday, b=easter holiday, c=christmas\n",
    "df2['state_holiday'] = df2['state_holiday'].apply(lambda x: 'public_holiday' if x == 'a' else 'easter_holiday' if x == 'b' else 'christmas' if x =='c' else 'regular_day')\n"
   ]
  },
  {
   "cell_type": "code",
   "execution_count": null,
   "id": "16c393ff",
   "metadata": {
    "ExecuteTime": {
     "end_time": "2022-03-24T14:59:15.672249Z",
     "start_time": "2022-03-24T14:59:15.646077Z"
    },
    "hidden": true
   },
   "outputs": [],
   "source": [
    "df2.head()"
   ]
  },
  {
   "cell_type": "code",
   "execution_count": null,
   "id": "5278c87e",
   "metadata": {
    "ExecuteTime": {
     "end_time": "2022-03-24T15:00:10.110705Z",
     "start_time": "2022-03-24T14:59:22.409690Z"
    },
    "hidden": true
   },
   "outputs": [],
   "source": [
    "df2.to_csv('df2.csv', index_label=False)"
   ]
  },
  {
   "cell_type": "markdown",
   "id": "5c7c3074",
   "metadata": {
    "heading_collapsed": true
   },
   "source": [
    "# 3.0 Filtragem de Variáveis"
   ]
  },
  {
   "cell_type": "code",
   "execution_count": null,
   "id": "0407a520",
   "metadata": {
    "ExecuteTime": {
     "end_time": "2022-03-24T15:00:48.951026Z",
     "start_time": "2022-03-24T15:00:43.857242Z"
    },
    "hidden": true
   },
   "outputs": [],
   "source": [
    "df3 = pd.read_csv( 'df2.csv', low_memory=False )"
   ]
  },
  {
   "cell_type": "markdown",
   "id": "a9ba0012",
   "metadata": {
    "ExecuteTime": {
     "end_time": "2022-03-22T16:01:57.333553Z",
     "start_time": "2022-03-22T16:01:57.329718Z"
    },
    "hidden": true
   },
   "source": [
    "## 3.1 Filtragem das Linhas"
   ]
  },
  {
   "cell_type": "code",
   "execution_count": null,
   "id": "b7f444a0",
   "metadata": {
    "ExecuteTime": {
     "end_time": "2022-03-24T15:01:44.632130Z",
     "start_time": "2022-03-24T15:01:44.363125Z"
    },
    "hidden": true
   },
   "outputs": [],
   "source": [
    "df3 = df3[(df3['open'] != 0) & (df3['sales'] > 0)]"
   ]
  },
  {
   "cell_type": "markdown",
   "id": "2a10241f",
   "metadata": {
    "hidden": true
   },
   "source": [
    "## 3.2 Seleção das Colunas"
   ]
  },
  {
   "cell_type": "code",
   "execution_count": null,
   "id": "00d51b89",
   "metadata": {
    "ExecuteTime": {
     "end_time": "2022-03-24T15:01:47.249863Z",
     "start_time": "2022-03-24T15:01:47.120888Z"
    },
    "hidden": true
   },
   "outputs": [],
   "source": [
    "df3 = df3.drop( columns = ['customers', 'open', 'promo_interval', 'month_map'] )"
   ]
  },
  {
   "cell_type": "markdown",
   "id": "79a23c65",
   "metadata": {
    "heading_collapsed": true
   },
   "source": [
    "# 4.0 Análise Exploratória dos Dados"
   ]
  },
  {
   "cell_type": "markdown",
   "id": "da7f0aed",
   "metadata": {
    "heading_collapsed": true,
    "hidden": true
   },
   "source": [
    "## 4.1 Análise Univariada"
   ]
  },
  {
   "cell_type": "markdown",
   "id": "f001a7de",
   "metadata": {
    "heading_collapsed": true,
    "hidden": true
   },
   "source": [
    "### 4.1.1 Response Variable"
   ]
  },
  {
   "cell_type": "code",
   "execution_count": null,
   "id": "0038b008",
   "metadata": {
    "ExecuteTime": {
     "end_time": "2022-03-24T15:01:56.295386Z",
     "start_time": "2022-03-24T15:01:50.665557Z"
    },
    "hidden": true
   },
   "outputs": [],
   "source": [
    "sns.distplot(df3['sales'])"
   ]
  },
  {
   "cell_type": "markdown",
   "id": "bcae5101",
   "metadata": {
    "heading_collapsed": true,
    "hidden": true
   },
   "source": [
    "### 4.1.2 Numerical Variable"
   ]
  },
  {
   "cell_type": "code",
   "execution_count": null,
   "id": "f19fb8c7",
   "metadata": {
    "ExecuteTime": {
     "end_time": "2022-03-24T15:26:21.000306Z",
     "start_time": "2022-03-24T15:26:16.293564Z"
    },
    "hidden": true
   },
   "outputs": [],
   "source": [
    "num_attributes.hist(bins=25);"
   ]
  },
  {
   "cell_type": "markdown",
   "id": "8181fb76",
   "metadata": {
    "heading_collapsed": true,
    "hidden": true
   },
   "source": [
    "### 4.1.3 Categorical Variable"
   ]
  },
  {
   "cell_type": "code",
   "execution_count": null,
   "id": "3b840308",
   "metadata": {
    "ExecuteTime": {
     "end_time": "2022-03-24T15:02:37.300306Z",
     "start_time": "2022-03-24T15:02:37.285008Z"
    },
    "hidden": true
   },
   "outputs": [],
   "source": [
    "cat_attributes.head()"
   ]
  },
  {
   "cell_type": "code",
   "execution_count": null,
   "id": "460ad06e",
   "metadata": {
    "ExecuteTime": {
     "end_time": "2022-03-24T15:02:53.260304Z",
     "start_time": "2022-03-24T15:02:39.725905Z"
    },
    "hidden": true
   },
   "outputs": [],
   "source": [
    "# state holiday\n",
    "plt.subplot(3,2,1)\n",
    "a = df3[df3['state_holiday'] != 'regular_day']\n",
    "sns.countplot(a['state_holiday'])\n",
    "\n",
    "plt.subplot(3,2,2)\n",
    "sns.kdeplot(df3[df3['state_holiday'] == 'public_holiday']['sales'], label = 'public_holiday', shade=True)\n",
    "sns.kdeplot(df3[df3['state_holiday'] == 'easter_holiday']['sales'], label = 'easter_holiday', shade=True)\n",
    "sns.kdeplot(df3[df3['state_holiday'] == 'christmas']['sales'], label = 'christmas', shade=True)\n",
    "\n",
    "# store type\n",
    "plt.subplot(3,2,3)\n",
    "sns.countplot(df3['store_type'])\n",
    "\n",
    "plt.subplot(3,2,4)\n",
    "sns.kdeplot(df3[df3['store_type'] == 'a']['sales'], label = 'a', shade=True)\n",
    "sns.kdeplot(df3[df3['store_type'] == 'b']['sales'], label = 'b', shade=True)\n",
    "sns.kdeplot(df3[df3['store_type'] == 'c']['sales'], label = 'c', shade=True)\n",
    "sns.kdeplot(df3[df3['store_type'] == 'd']['sales'], label = 'd', shade=True)\n",
    "\n",
    "#assortment\n",
    "plt.subplot(3,2,5)\n",
    "sns.countplot(df3['assortment'])\n",
    "\n",
    "plt.subplot(3,2,6)\n",
    "sns.kdeplot(df3[df3['assortment'] == 'extended']['sales'], label = 'extended', shade=True)\n",
    "sns.kdeplot(df3[df3['assortment'] == 'basic']['sales'], label = 'basic', shade=True)\n",
    "sns.kdeplot(df3[df3['assortment'] == 'extra']['sales'], label = 'extra', shade=True)\n",
    "\n"
   ]
  },
  {
   "cell_type": "markdown",
   "id": "3feb3e00",
   "metadata": {
    "heading_collapsed": true,
    "hidden": true
   },
   "source": [
    "## 4.2 Análise Bivariada"
   ]
  },
  {
   "cell_type": "markdown",
   "id": "0c838e83",
   "metadata": {
    "heading_collapsed": true,
    "hidden": true
   },
   "source": [
    "### H1.Lojas com maior sortimento deveriam vender mais\n",
    "**Falsa** Lojas com maior sortimento na verdade vendem menos"
   ]
  },
  {
   "cell_type": "code",
   "execution_count": null,
   "id": "c51294bb",
   "metadata": {
    "ExecuteTime": {
     "end_time": "2022-03-24T15:03:10.375691Z",
     "start_time": "2022-03-24T15:03:09.085747Z"
    },
    "hidden": true
   },
   "outputs": [],
   "source": [
    "aux1 = df3[['assortment', 'sales']].groupby( 'assortment' ).sum().reset_index()\n",
    "sns.barplot( x='assortment', y='sales', data = aux1);\n",
    "\n",
    "aux2 = df3[['year_week', 'assortment', 'sales']].groupby( ['year_week','assortment'] ).sum().reset_index()\n",
    "aux2.pivot( index='year_week',columns='assortment', values='sales').plot()\n",
    "\n",
    "aux3 = aux2[aux2['assortment'] == 'extra']\n",
    "aux3.pivot( index='year_week',columns='assortment', values='sales').plot()"
   ]
  },
  {
   "cell_type": "markdown",
   "id": "3fa77c3a",
   "metadata": {
    "heading_collapsed": true,
    "hidden": true
   },
   "source": [
    "### H2.Lojas com competidores mais próximos deveriam vender menos\n",
    "**Falsa** Lojas com competidores mais próximos vendem mais"
   ]
  },
  {
   "cell_type": "code",
   "execution_count": null,
   "id": "f1cb7184",
   "metadata": {
    "ExecuteTime": {
     "end_time": "2022-03-24T15:03:21.893487Z",
     "start_time": "2022-03-24T15:03:20.791352Z"
    },
    "hidden": true
   },
   "outputs": [],
   "source": [
    "aux1 = df3[['competition_distance', 'sales']].groupby('competition_distance').sum().reset_index()\n",
    "\n",
    "plt.subplot(1,3,1)\n",
    "sns.scatterplot(x= 'competition_distance', y='sales', data=aux1);\n",
    "\n",
    "plt.subplot(1,3,2)\n",
    "bins = list(np.arange(0, 20000, 1000))\n",
    "aux1['competition_distance_binned'] = pd.cut( aux1['competition_distance'], bins=bins)\n",
    "aux2 = aux1[['competition_distance_binned', 'sales']].groupby('competition_distance_binned').sum().reset_index()\n",
    "sns.barplot( x='competition_distance_binned', y='sales', data=aux2);\n",
    "\n",
    "plt.subplot(1,3,3)\n",
    "sns.heatmap( aux1.corr(method='pearson'), annot=True);"
   ]
  },
  {
   "cell_type": "markdown",
   "id": "92d3062f",
   "metadata": {
    "heading_collapsed": true,
    "hidden": true
   },
   "source": [
    "### H3.Lojas com competidores à mais tempo deveriam vender mais\n",
    "**Falsa** Lojas com competidores a mais tempo vendem menos"
   ]
  },
  {
   "cell_type": "code",
   "execution_count": null,
   "id": "8662d768",
   "metadata": {
    "ExecuteTime": {
     "end_time": "2022-03-24T15:22:42.435170Z",
     "start_time": "2022-03-24T15:22:38.574158Z"
    },
    "hidden": true
   },
   "outputs": [],
   "source": [
    "plt.subplot(1, 3, 1)\n",
    "aux1 = df3[['competition_time_month', 'sales']].groupby('competition_time_month').sum().reset_index()\n",
    "aux2 = aux1 [( aux1['competition_time_month'] < 120 ) & ( aux1['competition_time_month'] !=0 )]\n",
    "sns.barplot(x='competition_time_month', y='sales', data=aux2);\n",
    "plt.xticks( rotation=90);\n",
    "\n",
    "plt.subplot(1, 3, 2)\n",
    "sns.regplot(x='competition_time_month', y='sales', data=aux2);\n",
    "\n",
    "plt.subplot(1, 3, 3)\n",
    "sns.heatmap( aux1.corr( method='pearson'), annot=True)"
   ]
  },
  {
   "cell_type": "markdown",
   "id": "e4bc3d71",
   "metadata": {
    "heading_collapsed": true,
    "hidden": true
   },
   "source": [
    "### H4.Lojas com promoções ativas por mais tempo deveriam vender mais\n",
    "**Falsa** Lojas com promoções ativas por mais tempo vendem menos, depois de um certo tempo de promoção"
   ]
  },
  {
   "cell_type": "code",
   "execution_count": null,
   "id": "9339cb4b",
   "metadata": {
    "ExecuteTime": {
     "end_time": "2022-03-24T18:16:21.167891Z",
     "start_time": "2022-03-24T18:16:10.160550Z"
    },
    "hidden": true
   },
   "outputs": [],
   "source": [
    "aux1 = df3[['promo_time_week', 'sales']].groupby('promo_time_week').sum().reset_index()\n",
    "\n",
    "grid = gridspec.GridSpec(2, 3)\n",
    "\n",
    "plt.subplot( grid[0, 0] )\n",
    "aux2 = aux1[aux1['promo_time_week'] > 0] # promo extended\n",
    "sns.barplot(x='promo_time_week', y='sales', data=aux2);\n",
    "plt.xticks( rotation=90 );\n",
    "\n",
    "plt.subplot( grid[0, 1] )\n",
    "sns.regplot(x='promo_time_week', y='sales', data=aux2);\n",
    "\n",
    "plt.subplot( grid[1, 0] )\n",
    "aux3 = aux1[aux1['promo_time_week'] < 0] # promo regular\n",
    "sns.barplot(x='promo_time_week', y='sales', data=aux3);\n",
    "plt.xticks( rotation=90 );\n",
    "\n",
    "plt.subplot( grid[1, 1] )\n",
    "sns.regplot(x='promo_time_week', y='sales', data=aux3);\n",
    "\n",
    "plt.subplot( grid[:, 2] )\n",
    "sns.heatmap( aux1.corr( method='pearson'), annot=True);"
   ]
  },
  {
   "cell_type": "markdown",
   "id": "496753aa",
   "metadata": {
    "heading_collapsed": true,
    "hidden": true
   },
   "source": [
    "### <s> H5.Lojas com mais dias de promoção deveriam vender mais </s>"
   ]
  },
  {
   "cell_type": "code",
   "execution_count": null,
   "id": "e28dcb8b",
   "metadata": {
    "hidden": true
   },
   "outputs": [],
   "source": []
  },
  {
   "cell_type": "markdown",
   "id": "875795d3",
   "metadata": {
    "ExecuteTime": {
     "end_time": "2022-03-24T15:31:50.669090Z",
     "start_time": "2022-03-24T15:31:50.662686Z"
    },
    "heading_collapsed": true,
    "hidden": true
   },
   "source": [
    "### H6.Lojas com mais promoções consecutivas deveriam vender mais\n",
    "**Falsa** Lojas com mais promoções consecutivas vendem menos"
   ]
  },
  {
   "cell_type": "code",
   "execution_count": null,
   "id": "117c1784",
   "metadata": {
    "ExecuteTime": {
     "end_time": "2022-03-24T17:15:51.042844Z",
     "start_time": "2022-03-24T17:15:50.857182Z"
    },
    "hidden": true
   },
   "outputs": [],
   "source": [
    "df3[['promo', 'promo2', 'sales']].groupby(['promo', 'promo2']).sum().reset_index()"
   ]
  },
  {
   "cell_type": "code",
   "execution_count": null,
   "id": "1a19d4f8",
   "metadata": {
    "ExecuteTime": {
     "end_time": "2022-03-24T17:23:44.736722Z",
     "start_time": "2022-03-24T17:23:44.099635Z"
    },
    "hidden": true
   },
   "outputs": [],
   "source": [
    "aux1 = df3[(df3['promo'] == 1) & (df3['promo2'] == 1)][['year_week', 'sales']].groupby( 'year_week').sum().reset_index()\n",
    "ax = aux1.plot()\n",
    "\n",
    "aux2 = df3[(df3['promo'] == 1) & (df3['promo2'] == 0)][['year_week', 'sales']].groupby( 'year_week').sum().reset_index()\n",
    "aux2.plot( ax=ax )\n",
    "\n",
    "ax.legend( labels=['Regular e Extended', 'Extended'])"
   ]
  },
  {
   "cell_type": "markdown",
   "id": "118aaff0",
   "metadata": {
    "heading_collapsed": true,
    "hidden": true
   },
   "source": [
    "### H7.Lojas abertas durante o feriado de natal deveriam vender mais\n",
    "**Falsa** Lojas abertas durante o Natal vendem menos"
   ]
  },
  {
   "cell_type": "code",
   "execution_count": null,
   "id": "2865f843",
   "metadata": {
    "ExecuteTime": {
     "end_time": "2022-03-24T18:08:53.413922Z",
     "start_time": "2022-03-24T18:08:52.700962Z"
    },
    "hidden": true
   },
   "outputs": [],
   "source": [
    "aux = df3[df3['state_holiday'] != 'regular_day']\n",
    "\n",
    "plt.subplot( 1, 2, 1 )\n",
    "aux1 = aux[['state_holiday', 'sales']].groupby('state_holiday').sum().reset_index()\n",
    "sns.barplot( x='state_holiday', y='sales', data=aux1);\n",
    "\n",
    "plt.subplot( 1, 2, 2 )\n",
    "aux2 = aux[['year', 'state_holiday', 'sales']].groupby(['year', 'state_holiday']).sum().reset_index()\n",
    "sns.barplot( x='year', y='sales', hue='state_holiday', data=aux2)"
   ]
  },
  {
   "cell_type": "markdown",
   "id": "7ff25a4b",
   "metadata": {
    "heading_collapsed": true,
    "hidden": true
   },
   "source": [
    "### H8.Lojas deveriam vender mais ao longo dos anos\n",
    "**Falsa** Lojas vendem menos ao longo dos anos"
   ]
  },
  {
   "cell_type": "code",
   "execution_count": null,
   "id": "c57ba7b4",
   "metadata": {
    "ExecuteTime": {
     "end_time": "2022-03-24T18:15:58.815797Z",
     "start_time": "2022-03-24T18:15:57.844110Z"
    },
    "hidden": true
   },
   "outputs": [],
   "source": [
    "aux1 = df3[['year', 'sales']].groupby( 'year' ).sum().reset_index()\n",
    "\n",
    "plt.subplot( 1, 3, 1 )\n",
    "sns.barplot(x='year', y='sales', data=aux1);\n",
    "\n",
    "plt.subplot( 1, 3, 2 )\n",
    "sns.regplot(x='year', y='sales', data=aux1);\n",
    "\n",
    "plt.subplot( 1, 3, 3 )\n",
    "sns.heatmap(aux1.corr(method='pearson'), annot=True);"
   ]
  },
  {
   "cell_type": "markdown",
   "id": "cd19e90c",
   "metadata": {
    "heading_collapsed": true,
    "hidden": true
   },
   "source": [
    "### H9. Lojas deveriam vender mais no segundo semestre do ano\n",
    "**Falsa** Lojas vendme menos no segundo semestre do ano "
   ]
  },
  {
   "cell_type": "code",
   "execution_count": null,
   "id": "30201756",
   "metadata": {
    "ExecuteTime": {
     "end_time": "2022-03-24T18:23:56.743961Z",
     "start_time": "2022-03-24T18:23:55.139353Z"
    },
    "hidden": true
   },
   "outputs": [],
   "source": [
    "aux1 = df3[['month', 'sales']].groupby( 'month' ).sum().reset_index()\n",
    "\n",
    "plt.subplot( 1, 3, 1 )\n",
    "sns.barplot(x='month', y='sales', data=aux1);\n",
    "\n",
    "plt.subplot( 1, 3, 2 )\n",
    "sns.regplot(x='month', y='sales', data=aux1);\n",
    "\n",
    "plt.subplot( 1, 3, 3 )\n",
    "sns.heatmap(aux1.corr(method='pearson'), annot=True);"
   ]
  },
  {
   "cell_type": "markdown",
   "id": "3610b4af",
   "metadata": {
    "ExecuteTime": {
     "end_time": "2022-03-24T15:32:52.342401Z",
     "start_time": "2022-03-24T15:32:52.338499Z"
    },
    "heading_collapsed": true,
    "hidden": true
   },
   "source": [
    "### H10.Lojas deveriam vender mais depois do dia 10 do mês\n",
    "**Verdadeira** As lojas vendem mais depois do dia 10 de cada mês"
   ]
  },
  {
   "cell_type": "code",
   "execution_count": null,
   "id": "7f9d4a59",
   "metadata": {
    "ExecuteTime": {
     "end_time": "2022-03-24T18:32:15.968885Z",
     "start_time": "2022-03-24T18:32:14.368206Z"
    },
    "hidden": true
   },
   "outputs": [],
   "source": [
    "aux1 = df3[['day', 'sales']].groupby( 'day' ).sum().reset_index()\n",
    "\n",
    "plt.subplot( 2, 2, 1 )\n",
    "sns.barplot(x='day', y='sales', data=aux1);\n",
    "\n",
    "plt.subplot( 2, 2, 2 )\n",
    "sns.regplot(x='day', y='sales', data=aux1);\n",
    "\n",
    "plt.subplot( 2, 2, 3 )\n",
    "sns.heatmap(aux1.corr(method='pearson'), annot=True);\n",
    "\n",
    "plt.subplot( 2, 2, 4 )\n",
    "aux1['before_after'] = aux1['day'].apply(lambda x: 'before_10_days' if x<= 10 else 'after_10_days')\n",
    "aux2 = aux1[['before_after', 'sales']].groupby( 'before_after' ).sum().reset_index()\n",
    "sns.barplot(x='before_after', y='sales', data=aux2);"
   ]
  },
  {
   "cell_type": "markdown",
   "id": "39226492",
   "metadata": {
    "heading_collapsed": true,
    "hidden": true
   },
   "source": [
    "### H11.Lojas deveriam vender menos aos finais de semana\n",
    "**Verdadeira** Lojas vendem menos no final de semana"
   ]
  },
  {
   "cell_type": "code",
   "execution_count": null,
   "id": "1b1e596c",
   "metadata": {
    "ExecuteTime": {
     "end_time": "2022-03-24T18:38:24.958991Z",
     "start_time": "2022-03-24T18:38:24.002835Z"
    },
    "hidden": true
   },
   "outputs": [],
   "source": [
    "aux1 = df3[['day_of_week', 'sales']].groupby( 'day_of_week' ).sum().reset_index()\n",
    "\n",
    "plt.subplot( 1, 3, 1 )\n",
    "sns.barplot(x='day_of_week', y='sales', data=aux1);\n",
    "\n",
    "plt.subplot( 1, 3, 2 )\n",
    "sns.regplot(x='day_of_week', y='sales', data=aux1);\n",
    "\n",
    "plt.subplot( 1, 3, 3 )\n",
    "sns.heatmap(aux1.corr(method='pearson'), annot=True);"
   ]
  },
  {
   "cell_type": "markdown",
   "id": "06640dc1",
   "metadata": {
    "heading_collapsed": true,
    "hidden": true
   },
   "source": [
    "### H12.Lojas deveriam vender menos durante os feriados escolares  \n",
    "**Verdadeira** Lojas vendem menos durante os feriados escolares, exceto em Julho e Agosto"
   ]
  },
  {
   "cell_type": "code",
   "execution_count": null,
   "id": "d2fadf01",
   "metadata": {
    "ExecuteTime": {
     "end_time": "2022-03-24T19:07:45.430126Z",
     "start_time": "2022-03-24T19:07:44.649999Z"
    },
    "hidden": true
   },
   "outputs": [],
   "source": [
    "aux1 = df3[['school_holiday', 'sales']].groupby('school_holiday').sum().reset_index()\n",
    "\n",
    "plt.subplot(2,1,1)\n",
    "sns.barplot( x='school_holiday', y='sales', data=aux1);\n",
    "\n",
    "aux2 = df3[['month', 'school_holiday', 'sales']].groupby(['month', 'school_holiday']).sum().reset_index()\n",
    "\n",
    "plt.subplot(2,1,2)\n",
    "sns.barplot( x='month', y='sales', hue='school_holiday', data=aux2);"
   ]
  },
  {
   "cell_type": "markdown",
   "id": "826d9bc8",
   "metadata": {
    "heading_collapsed": true,
    "hidden": true
   },
   "source": [
    "### Resumo das Hipótesis"
   ]
  },
  {
   "cell_type": "code",
   "execution_count": null,
   "id": "c9ed8eaa",
   "metadata": {
    "ExecuteTime": {
     "end_time": "2022-03-24T19:52:53.042246Z",
     "start_time": "2022-03-24T19:52:53.007344Z"
    },
    "hidden": true
   },
   "outputs": [],
   "source": [
    "tab = [['Hipóteses', 'Conclusão', 'Relevância'],\n",
    "       ['H1', 'Falsa', 'Baixa'],\n",
    "       ['H2', 'Falsa', 'Média'],\n",
    "       ['H3', 'Falsa', 'Média'],\n",
    "       ['H4', 'Falsa', 'Baixa'],\n",
    "       ['H5', '-----', '-----'],\n",
    "       ['H6', 'Falsa', 'Baixa'],\n",
    "       ['H7', 'Falsa', 'Média'],\n",
    "       ['H8', 'Falsa', 'Alta'],\n",
    "       ['H9', 'Falsa', 'Alta'],\n",
    "       ['H10', 'Verdadeira', 'Alta'],\n",
    "       ['H11', 'Verdadeira', 'Alta'],\n",
    "       ['H12', 'Verdadeira', 'Baixa'],\n",
    "      ]\n",
    "print( tabulate( tab, headers='firstrow'))"
   ]
  },
  {
   "cell_type": "markdown",
   "id": "2b351b88",
   "metadata": {
    "heading_collapsed": true,
    "hidden": true
   },
   "source": [
    "## 4.3 Análise Multivariada"
   ]
  },
  {
   "cell_type": "markdown",
   "id": "a368f091",
   "metadata": {
    "ExecuteTime": {
     "end_time": "2022-03-24T20:05:58.282203Z",
     "start_time": "2022-03-24T20:05:58.276728Z"
    },
    "heading_collapsed": true,
    "hidden": true
   },
   "source": [
    "### 4.3.1 Numerical Attributes"
   ]
  },
  {
   "cell_type": "code",
   "execution_count": null,
   "id": "eedd9a86",
   "metadata": {
    "ExecuteTime": {
     "end_time": "2022-03-24T20:07:35.671879Z",
     "start_time": "2022-03-24T20:07:30.587153Z"
    },
    "hidden": true
   },
   "outputs": [],
   "source": [
    "correlation = num_attributes.corr( method = 'pearson' )\n",
    "sns.heatmap(correlation, annot=True);"
   ]
  },
  {
   "cell_type": "markdown",
   "id": "e169f30c",
   "metadata": {
    "heading_collapsed": true,
    "hidden": true
   },
   "source": [
    "### 4.3.1 Numerical Attributes"
   ]
  },
  {
   "cell_type": "code",
   "execution_count": null,
   "id": "4609ac96",
   "metadata": {
    "ExecuteTime": {
     "end_time": "2022-03-24T20:26:45.834493Z",
     "start_time": "2022-03-24T20:26:45.547072Z"
    },
    "hidden": true
   },
   "outputs": [],
   "source": [
    "df3['competition_since'] = pd.to_datetime( df3['competition_since'])\n",
    "df3['promo_since'] = pd.to_datetime( df3['promo_since'])"
   ]
  },
  {
   "cell_type": "code",
   "execution_count": null,
   "id": "6324a9aa",
   "metadata": {
    "ExecuteTime": {
     "end_time": "2022-03-24T20:26:49.403373Z",
     "start_time": "2022-03-24T20:26:49.399030Z"
    },
    "hidden": true
   },
   "outputs": [],
   "source": [
    "# "
   ]
  },
  {
   "cell_type": "code",
   "execution_count": null,
   "id": "935bc61d",
   "metadata": {
    "ExecuteTime": {
     "end_time": "2022-03-24T21:01:39.259439Z",
     "start_time": "2022-03-24T21:01:36.726082Z"
    },
    "hidden": true,
    "hide_input": false
   },
   "outputs": [],
   "source": [
    "# Only categorical data\n",
    "a = df3.select_dtypes( include= 'object' )\n",
    "\n",
    "# Calculated cramer_v\n",
    "a1 = cramer_v(a['state_holiday'], a['state_holiday'])\n",
    "a2 = cramer_v(a['state_holiday'], a['store_type'])\n",
    "a3 = cramer_v(a['state_holiday'], a['assortment'])\n",
    "\n",
    "a4 = cramer_v(a['store_type'], a['state_holiday'])\n",
    "a5 = cramer_v(a['store_type'], a['store_type'])\n",
    "a6 = cramer_v(a['store_type'], a['assortment'])\n",
    "\n",
    "a7 = cramer_v(a['assortment'], a['state_holiday'])\n",
    "a8 = cramer_v(a['assortment'], a['store_type'])\n",
    "a9 = cramer_v(a['assortment'], a['assortment'])\n",
    "\n",
    "# Final dataset\n",
    "d = pd.DataFrame( {'state_holiday': [a1, a2, a3],\n",
    "               'store_type':    [a4, a5, a6],\n",
    "               'assortment':    [a7, a8, a9]\n",
    "              })\n",
    "\n",
    "d = d.set_index( d.columns )\n",
    "\n",
    "sns.heatmap(d, annot=True)"
   ]
  },
  {
   "cell_type": "markdown",
   "id": "96d418e9",
   "metadata": {
    "heading_collapsed": true
   },
   "source": [
    "# 5.0 Preparação dos Dados"
   ]
  },
  {
   "cell_type": "code",
   "execution_count": null,
   "id": "86567a2e",
   "metadata": {
    "ExecuteTime": {
     "end_time": "2022-03-24T21:57:28.851893Z",
     "start_time": "2022-03-24T21:56:54.712464Z"
    },
    "hidden": true
   },
   "outputs": [],
   "source": [
    "#df3.to_csv('df3.csv', index_label=False )"
   ]
  },
  {
   "cell_type": "code",
   "execution_count": null,
   "id": "75c83b2a",
   "metadata": {
    "ExecuteTime": {
     "end_time": "2022-03-29T17:49:14.478289Z",
     "start_time": "2022-03-29T17:49:08.856432Z"
    },
    "hidden": true
   },
   "outputs": [],
   "source": [
    "df4 = pd.read_csv( 'df3.csv', low_memory=False )"
   ]
  },
  {
   "cell_type": "markdown",
   "id": "3f5a6c51",
   "metadata": {
    "heading_collapsed": true,
    "hidden": true
   },
   "source": [
    "## 5.1 Normalização"
   ]
  },
  {
   "cell_type": "markdown",
   "id": "cfee37a0",
   "metadata": {
    "hidden": true
   },
   "source": [
    "Na seção 4.1.2 Numerical Variable, não há nada que possa ser normalizado"
   ]
  },
  {
   "cell_type": "markdown",
   "id": "1a2e84d6",
   "metadata": {
    "heading_collapsed": true,
    "hidden": true
   },
   "source": [
    "## 5.2 Rescaling"
   ]
  },
  {
   "cell_type": "code",
   "execution_count": null,
   "id": "1affde6c",
   "metadata": {
    "ExecuteTime": {
     "end_time": "2022-03-29T17:49:21.479398Z",
     "start_time": "2022-03-29T17:49:21.101478Z"
    },
    "hidden": true
   },
   "outputs": [],
   "source": [
    "rs = RobustScaler()\n",
    "mms= MinMaxScaler()\n",
    "\n",
    "# competition distance\n",
    "df4['competition_distance'] = rs.fit_transform(df4[['competition_distance']].values)\n",
    "\n",
    "# year\n",
    "df4['year'] = mms.fit_transform(df4[['year']].values)\n",
    "\n",
    "# competition time month\n",
    "df4['competition_time_month'] = rs.fit_transform(df4[['competition_time_month']].values)\n",
    "\n",
    "#promo time week\n",
    "df4['promo_time_week'] = mms.fit_transform(df4[['promo_time_week']].values)\n"
   ]
  },
  {
   "cell_type": "markdown",
   "id": "4f9acf07",
   "metadata": {
    "heading_collapsed": true,
    "hidden": true
   },
   "source": [
    "## 5.3 Transformação"
   ]
  },
  {
   "cell_type": "markdown",
   "id": "a2c59567",
   "metadata": {
    "heading_collapsed": true,
    "hidden": true
   },
   "source": [
    "### 5.3.1 Encoding"
   ]
  },
  {
   "cell_type": "code",
   "execution_count": null,
   "id": "cd09f65e",
   "metadata": {
    "ExecuteTime": {
     "end_time": "2022-03-29T17:49:31.603215Z",
     "start_time": "2022-03-29T17:49:30.814454Z"
    },
    "hidden": true
   },
   "outputs": [],
   "source": [
    "#state_holiday - onehot encoding\n",
    "df4 = pd.get_dummies( df4, prefix=['state_holiday'], columns=['state_holiday'])\n",
    "\n",
    "#store_type - label encoding\n",
    "le = LabelEncoder()\n",
    "df4['store_type'] = le.fit_transform(df4['store_type'])\n",
    "\n",
    "#assortment - ordinal encoding\n",
    "assortment_dict = {'basic': 1, 'extra': 2, 'extended': 3}\n",
    "df4['assortment'] = df4['assortment'].map( assortment_dict )"
   ]
  },
  {
   "cell_type": "markdown",
   "id": "7213c493",
   "metadata": {
    "ExecuteTime": {
     "end_time": "2022-03-25T12:50:52.436908Z",
     "start_time": "2022-03-25T12:50:52.208950Z"
    },
    "heading_collapsed": true,
    "hidden": true
   },
   "source": [
    "### 5.3.2 Response Variable Transformation"
   ]
  },
  {
   "cell_type": "code",
   "execution_count": null,
   "id": "0c969f4e",
   "metadata": {
    "ExecuteTime": {
     "end_time": "2022-03-29T17:49:38.898414Z",
     "start_time": "2022-03-29T17:49:38.808490Z"
    },
    "hidden": true
   },
   "outputs": [],
   "source": [
    "df4['sales'] = np.log1p(df4['sales'])"
   ]
  },
  {
   "cell_type": "code",
   "execution_count": null,
   "id": "62ddb8c1",
   "metadata": {
    "ExecuteTime": {
     "end_time": "2022-03-29T17:49:46.364987Z",
     "start_time": "2022-03-29T17:49:39.612785Z"
    },
    "hidden": true
   },
   "outputs": [],
   "source": [
    "sns.distplot(df4['sales'])"
   ]
  },
  {
   "cell_type": "markdown",
   "id": "71d33091",
   "metadata": {
    "heading_collapsed": true,
    "hidden": true
   },
   "source": [
    "### 5.3.3 Nature Transformation"
   ]
  },
  {
   "cell_type": "code",
   "execution_count": null,
   "id": "e0648b07",
   "metadata": {
    "ExecuteTime": {
     "end_time": "2022-03-29T17:50:25.642467Z",
     "start_time": "2022-03-29T17:49:56.219151Z"
    },
    "hidden": true
   },
   "outputs": [],
   "source": [
    "# day\n",
    "df4['day_sin'] = df4['day'].apply( lambda x: np.sin( x * (2 * np.pi/30)))\n",
    "df4['day_cos'] = df4['day'].apply( lambda x: np.cos( x * (2 * np.pi/30)))\n",
    "\n",
    "# day of week\n",
    "df4['day_of_week_sin'] = df4['day_of_week'].apply( lambda x: np.sin( x * (2 * np.pi/7)))\n",
    "df4['day_of_week_cos'] = df4['day_of_week'].apply( lambda x: np.cos( x * (2 * np.pi/7)))\n",
    "\n",
    "# month\n",
    "df4['month_sin'] = df4['month'].apply( lambda x: np.sin( x * (2 * np.pi/12)))\n",
    "df4['month_cos'] = df4['month'].apply( lambda x: np.cos( x * (2 * np.pi/12)))\n",
    "\n",
    "# week of year\n",
    "df4['week_of_year_sin'] = df4['week_of_year'].apply( lambda x: np.sin( x * (2 * np.pi/52)))\n",
    "df4['week_of_year_cos'] = df4['week_of_year'].apply( lambda x: np.cos( x * (2 * np.pi/52)))"
   ]
  },
  {
   "cell_type": "markdown",
   "id": "7a90135e",
   "metadata": {},
   "source": [
    "# 6.0 Feature Selection"
   ]
  },
  {
   "cell_type": "code",
   "execution_count": null,
   "id": "b249c3d5",
   "metadata": {
    "ExecuteTime": {
     "end_time": "2022-03-25T13:44:44.619150Z",
     "start_time": "2022-03-25T13:44:13.218509Z"
    }
   },
   "outputs": [],
   "source": [
    "#df4.to_csv('df4.csv', index_label=False )"
   ]
  },
  {
   "cell_type": "code",
   "execution_count": 5,
   "id": "b6689596",
   "metadata": {
    "ExecuteTime": {
     "end_time": "2022-03-30T17:41:17.067420Z",
     "start_time": "2022-03-30T17:41:08.223570Z"
    }
   },
   "outputs": [],
   "source": [
    "df5 = pd.read_csv( 'df4.csv', low_memory=False )"
   ]
  },
  {
   "cell_type": "markdown",
   "id": "fce3446f",
   "metadata": {},
   "source": [
    "## 6.1 Split dataframe into trainig and test dataset"
   ]
  },
  {
   "cell_type": "code",
   "execution_count": 6,
   "id": "9497012b",
   "metadata": {
    "ExecuteTime": {
     "end_time": "2022-03-30T17:41:17.715928Z",
     "start_time": "2022-03-30T17:41:17.584380Z"
    }
   },
   "outputs": [],
   "source": [
    "df5['date'] = pd.to_datetime( df5['date'])\n",
    "df5[['store', 'date']].groupby( 'store' ).max().reset_index()['date'][0] - datetime.timedelta( days=6*7 )\n",
    "cols_drop = ['week_of_year', 'day', 'month', 'day_of_week', 'promo_since', 'competition_since','year_week']\n",
    "df5 = df5.drop( cols_drop, axis=1)\n",
    "df5[['store', 'date']].groupby( 'store' ).min().reset_index()"
   ]
  },
  {
   "cell_type": "code",
   "execution_count": 8,
   "id": "1ddb9c4c",
   "metadata": {
    "ExecuteTime": {
     "end_time": "2022-03-30T17:41:18.789023Z",
     "start_time": "2022-03-30T17:41:18.724282Z"
    }
   },
   "outputs": [
    {
     "data": {
      "text/plain": [
       "Timestamp('2015-06-19 00:00:00')"
      ]
     },
     "execution_count": 8,
     "metadata": {},
     "output_type": "execute_result"
    }
   ],
   "source": [
    "df5[['store', 'date']].groupby( 'store' ).max().reset_index()['date'][0] - datetime.timedelta( days=6*7 )"
   ]
  },
  {
   "cell_type": "code",
   "execution_count": 9,
   "id": "c170e0db",
   "metadata": {
    "ExecuteTime": {
     "end_time": "2022-03-30T17:41:19.391806Z",
     "start_time": "2022-03-30T17:41:19.189107Z"
    }
   },
   "outputs": [
    {
     "name": "stdout",
     "output_type": "stream",
     "text": [
      "Training Min Date: 2013-01-01 00:00:00\n",
      "Training Max Date: 2015-06-18 00:00:00\n",
      "\n",
      "Test Min Date: 2015-06-19 00:00:00\n",
      "Test Max Date: 2015-07-31 00:00:00\n"
     ]
    }
   ],
   "source": [
    "# training dataset\n",
    "X_train = df5[df5['date'] < '2015-06-19']\n",
    "Y_train = X_train['sales']\n",
    "\n",
    "# test dataset\n",
    "X_test = df5[df5['date'] >= '2015-06-19']\n",
    "Y_test = X_test['sales']\n",
    "\n",
    "print( f\"Training Min Date: { X_train['date'].min()}\")\n",
    "print( f\"Training Max Date: { X_train['date'].max()}\")\n",
    "\n",
    "print( f\"\\nTest Min Date: { X_test['date'].min()}\")\n",
    "print( f\"Test Max Date: { X_test['date'].max()}\")"
   ]
  },
  {
   "cell_type": "markdown",
   "id": "4b96a034",
   "metadata": {},
   "source": [
    "## 6.2 Boruta as Feature Selector"
   ]
  },
  {
   "cell_type": "code",
   "execution_count": null,
   "id": "9b32e1dc",
   "metadata": {
    "ExecuteTime": {
     "start_time": "2022-03-29T18:59:15.218Z"
    }
   },
   "outputs": [],
   "source": [
    "# training and test dataset for Boruta\n",
    "X_train_n = X_train.drop(['date', 'sales'], axis=1).values\n",
    "Y_train_n = Y_train.values.ravel()\n",
    "\n",
    "\n",
    "# define RandomForest Regressor\n",
    "rf = RandomForestRegressor( n_jobs=-1 )\n",
    "\n",
    "# define boruta\n",
    "boruta = BorutaPy( rf, n_estimators='auto', verbose=2, random_state=42 ).fit( X_train_n, Y_train_n)"
   ]
  },
  {
   "cell_type": "markdown",
   "id": "47aa8ac1",
   "metadata": {},
   "source": [
    "### 6.2.1 Best Features from Boruta"
   ]
  },
  {
   "cell_type": "code",
   "execution_count": null,
   "id": "e05e4af4",
   "metadata": {},
   "outputs": [],
   "source": [
    "cols_selected = boruta.support_.tolist()\n",
    "\n",
    "# best features\n",
    "X_train_fs = X_train.drop( ['date', 'sales'], axis=1 )\n",
    "cols_selected_boruta = X_train_fs.iloc[:, cols_selected].columns.to_list()\n",
    "\n",
    "cols_not_selected_boruta = list(np.setdiff1d(X_train_fs.columns, cols_selected_boruta))"
   ]
  },
  {
   "cell_type": "markdown",
   "id": "fd92a047",
   "metadata": {},
   "source": [
    "## 6.3 Manual Feature Selection\n",
    "##### **A seleção das colunas foi realizada pelo Boruta usando o Google Colabs**"
   ]
  },
  {
   "cell_type": "code",
   "execution_count": 13,
   "id": "7ce84899",
   "metadata": {
    "ExecuteTime": {
     "end_time": "2022-03-30T17:43:49.336372Z",
     "start_time": "2022-03-30T17:43:49.327199Z"
    }
   },
   "outputs": [],
   "source": [
    "cols_selected_boruta = [\n",
    "  'store',\n",
    " 'promo',\n",
    " 'store_type',\n",
    " 'assortment',\n",
    " 'competition_distance',\n",
    " 'competition_open_since_month',\n",
    " 'competition_open_since_year',\n",
    " 'promo2',\n",
    " 'promo2_since_week',\n",
    " 'promo2_since_year',\n",
    " 'competition_since_month',\n",
    " 'competition_time_month',\n",
    " 'promo_time_week',\n",
    " 'day_sin',\n",
    " 'day_cos',\n",
    " 'day_of_week_sin',\n",
    " 'day_of_week_cos',\n",
    " 'month_sin',\n",
    " 'month_cos',\n",
    " 'week_of_year_sin',\n",
    " 'week_of_year_cos']\n",
    "\n",
    "# columns to add\n",
    "feat_to_add = [ 'date', 'sales']\n",
    "\n",
    "cols_selected_boruta_full = cols_selected_boruta.copy()\n",
    "\n",
    "# final features\n",
    "cols_selected_boruta_full.extend( feat_to_add )"
   ]
  },
  {
   "cell_type": "markdown",
   "id": "71367fd7",
   "metadata": {},
   "source": [
    "# 7.0 Machine Learning Modelling "
   ]
  },
  {
   "cell_type": "code",
   "execution_count": 14,
   "id": "3d25403e",
   "metadata": {
    "ExecuteTime": {
     "end_time": "2022-03-30T17:43:59.431715Z",
     "start_time": "2022-03-30T17:43:59.361588Z"
    }
   },
   "outputs": [],
   "source": [
    "x_train = X_train[ cols_selected_boruta ]\n",
    "x_test = X_test[ cols_selected_boruta ]\n",
    "x_training = X_train[cols_selected_boruta_full]"
   ]
  },
  {
   "cell_type": "markdown",
   "id": "0dd73c7f",
   "metadata": {},
   "source": [
    "## 7.1 Average Model"
   ]
  },
  {
   "cell_type": "code",
   "execution_count": 26,
   "id": "ff6f09d6",
   "metadata": {
    "ExecuteTime": {
     "end_time": "2022-03-30T18:21:07.624276Z",
     "start_time": "2022-03-30T18:21:07.575869Z"
    }
   },
   "outputs": [
    {
     "data": {
      "text/html": [
       "<div>\n",
       "<style scoped>\n",
       "    .dataframe tbody tr th:only-of-type {\n",
       "        vertical-align: middle;\n",
       "    }\n",
       "\n",
       "    .dataframe tbody tr th {\n",
       "        vertical-align: top;\n",
       "    }\n",
       "\n",
       "    .dataframe thead th {\n",
       "        text-align: right;\n",
       "    }\n",
       "</style>\n",
       "<table border=\"1\" class=\"dataframe\">\n",
       "  <thead>\n",
       "    <tr style=\"text-align: right;\">\n",
       "      <th></th>\n",
       "      <th>Model Name</th>\n",
       "      <th>MAE</th>\n",
       "      <th>MAPE</th>\n",
       "      <th>RMSE</th>\n",
       "    </tr>\n",
       "  </thead>\n",
       "  <tbody>\n",
       "    <tr>\n",
       "      <th>0</th>\n",
       "      <td>Average Model</td>\n",
       "      <td>1354.800353</td>\n",
       "      <td>0.455051</td>\n",
       "      <td>1835.135542</td>\n",
       "    </tr>\n",
       "  </tbody>\n",
       "</table>\n",
       "</div>"
      ],
      "text/plain": [
       "      Model Name          MAE      MAPE         RMSE\n",
       "0  Average Model  1354.800353  0.455051  1835.135542"
      ]
     },
     "execution_count": 26,
     "metadata": {},
     "output_type": "execute_result"
    }
   ],
   "source": [
    "aux1 = x_test.copy()\n",
    "aux1['sales'] = y_test.copy()\n",
    "\n",
    "# prediction\n",
    "aux2 = aux1[['store', 'sales']].groupby( 'store' ).mean().reset_index().rename( columns={'sales': 'predictions'})\n",
    "aux1 = pd.merge( aux1, aux2, how='left', on='store')\n",
    "yhat_baseline = aux1['predictions']\n",
    "\n",
    "#performance\n",
    "baseline_result = ml_error('Average Model', np.expm1(y_test), np.expm1(yhat_baseline))\n",
    "baseline_result"
   ]
  },
  {
   "cell_type": "markdown",
   "id": "f22f4698",
   "metadata": {},
   "source": [
    "## 7.2 Linear Regression Model"
   ]
  },
  {
   "cell_type": "code",
   "execution_count": 29,
   "id": "0d463b11",
   "metadata": {
    "ExecuteTime": {
     "end_time": "2022-03-30T18:28:09.344606Z",
     "start_time": "2022-03-30T18:28:08.078718Z"
    }
   },
   "outputs": [
    {
     "data": {
      "text/html": [
       "<div>\n",
       "<style scoped>\n",
       "    .dataframe tbody tr th:only-of-type {\n",
       "        vertical-align: middle;\n",
       "    }\n",
       "\n",
       "    .dataframe tbody tr th {\n",
       "        vertical-align: top;\n",
       "    }\n",
       "\n",
       "    .dataframe thead th {\n",
       "        text-align: right;\n",
       "    }\n",
       "</style>\n",
       "<table border=\"1\" class=\"dataframe\">\n",
       "  <thead>\n",
       "    <tr style=\"text-align: right;\">\n",
       "      <th></th>\n",
       "      <th>Model Name</th>\n",
       "      <th>MAE</th>\n",
       "      <th>MAPE</th>\n",
       "      <th>RMSE</th>\n",
       "    </tr>\n",
       "  </thead>\n",
       "  <tbody>\n",
       "    <tr>\n",
       "      <th>0</th>\n",
       "      <td>Linear Regression</td>\n",
       "      <td>1867.072608</td>\n",
       "      <td>0.292689</td>\n",
       "      <td>2671.050063</td>\n",
       "    </tr>\n",
       "  </tbody>\n",
       "</table>\n",
       "</div>"
      ],
      "text/plain": [
       "          Model Name          MAE      MAPE         RMSE\n",
       "0  Linear Regression  1867.072608  0.292689  2671.050063"
      ]
     },
     "execution_count": 29,
     "metadata": {},
     "output_type": "execute_result"
    }
   ],
   "source": [
    "#model\n",
    "lr = LinearRegression().fit( x_train, y_train)\n",
    "\n",
    "#prediction\n",
    "yhat_lr = lr.predict( x_test )\n",
    "\n",
    "#performance\n",
    "lr_result = ml_error( 'Linear Regression', np.expm1( y_test ), np.expm1( yhat_lr))\n",
    "lr_result"
   ]
  },
  {
   "cell_type": "markdown",
   "id": "a722feb4",
   "metadata": {},
   "source": [
    "### 7.2.1 Linear Regression Model - Cross Validation"
   ]
  },
  {
   "cell_type": "code",
   "execution_count": null,
   "id": "f5caf24e",
   "metadata": {},
   "outputs": [],
   "source": [
    "lr = LinearRegression()\n",
    "lr_result_cv = cross_validation( x_training, 5, 'Linear Regression', lr)\n",
    "lr_result_cv"
   ]
  },
  {
   "cell_type": "markdown",
   "id": "bf5f4158",
   "metadata": {},
   "source": [
    "## 7.3 Linear Regression Regularized Model - Lasso"
   ]
  },
  {
   "cell_type": "code",
   "execution_count": 32,
   "id": "01b00495",
   "metadata": {
    "ExecuteTime": {
     "end_time": "2022-03-30T18:36:18.584558Z",
     "start_time": "2022-03-30T18:34:14.232326Z"
    }
   },
   "outputs": [
    {
     "data": {
      "text/html": [
       "<div>\n",
       "<style scoped>\n",
       "    .dataframe tbody tr th:only-of-type {\n",
       "        vertical-align: middle;\n",
       "    }\n",
       "\n",
       "    .dataframe tbody tr th {\n",
       "        vertical-align: top;\n",
       "    }\n",
       "\n",
       "    .dataframe thead th {\n",
       "        text-align: right;\n",
       "    }\n",
       "</style>\n",
       "<table border=\"1\" class=\"dataframe\">\n",
       "  <thead>\n",
       "    <tr style=\"text-align: right;\">\n",
       "      <th></th>\n",
       "      <th>Model Name</th>\n",
       "      <th>MAE</th>\n",
       "      <th>MAPE</th>\n",
       "      <th>RMSE</th>\n",
       "    </tr>\n",
       "  </thead>\n",
       "  <tbody>\n",
       "    <tr>\n",
       "      <th>0</th>\n",
       "      <td>Linear Regression - Lasso</td>\n",
       "      <td>1869.372232</td>\n",
       "      <td>0.292653</td>\n",
       "      <td>2677.110638</td>\n",
       "    </tr>\n",
       "  </tbody>\n",
       "</table>\n",
       "</div>"
      ],
      "text/plain": [
       "                  Model Name          MAE      MAPE         RMSE\n",
       "0  Linear Regression - Lasso  1869.372232  0.292653  2677.110638"
      ]
     },
     "execution_count": 32,
     "metadata": {},
     "output_type": "execute_result"
    }
   ],
   "source": [
    "#model\n",
    "lrr = Lasso( alpha=0.001 ).fit( x_train, y_train)\n",
    "\n",
    "#prediction\n",
    "yhat_lrr = lrr.predict( x_test )\n",
    "\n",
    "#performance\n",
    "lrr_result = ml_error( 'Linear Regression - Lasso', np.expm1( y_test ), np.expm1( yhat_lrr))\n",
    "lrr_result"
   ]
  },
  {
   "cell_type": "markdown",
   "id": "d3e2e1d8",
   "metadata": {},
   "source": [
    "### 7.3.1 Linear Regression Regularized Model - Cross Validation"
   ]
  },
  {
   "cell_type": "code",
   "execution_count": null,
   "id": "0c96c542",
   "metadata": {},
   "outputs": [],
   "source": [
    "lrr = Lasso( alpha=0.01 )\n",
    "lrr_result_cv = cross_validation( x_training, 5, 'Lasso', lrr)\n",
    "lrr_result_cv"
   ]
  },
  {
   "cell_type": "markdown",
   "id": "85e8ec48",
   "metadata": {
    "ExecuteTime": {
     "end_time": "2022-03-30T18:40:42.787239Z",
     "start_time": "2022-03-30T18:40:42.783883Z"
    }
   },
   "source": [
    "## 7.4 Random Forest Regressor"
   ]
  },
  {
   "cell_type": "code",
   "execution_count": null,
   "id": "5076f146",
   "metadata": {
    "ExecuteTime": {
     "start_time": "2022-03-30T18:43:47.584Z"
    }
   },
   "outputs": [],
   "source": [
    "# #model\n",
    "# rf = RandomForestRegressor( n_estimators=100, n_jobs=-1, random_state=42 ).fit( x_train, y_train)\n",
    "\n",
    "# #prediction\n",
    "# yhat_rf = rf.predict( x_test )\n",
    "\n",
    "# #performance\n",
    "# rf_result = ml_error( 'Random Forest Regressor', np.expm1( y_test ), np.expm1( yhat_rf))\n",
    "# rf_result"
   ]
  },
  {
   "cell_type": "markdown",
   "id": "c0a3239c",
   "metadata": {
    "ExecuteTime": {
     "end_time": "2022-03-31T20:12:29.774514Z",
     "start_time": "2022-03-31T20:12:29.765899Z"
    }
   },
   "source": [
    "### 7.4.1 Random Forest Regressor Model - Cross Validation"
   ]
  },
  {
   "cell_type": "code",
   "execution_count": null,
   "id": "090f2a1d",
   "metadata": {},
   "outputs": [],
   "source": [
    "rf = RandomForestRegressor( n_estimators=100, n_jobs=-1, random_state=42 )\n",
    "rf_result_cv = cross_validation( x_training, 5, 'Random Forest Regressor', rf, verbose=True)\n",
    "rf_result_cv"
   ]
  },
  {
   "cell_type": "markdown",
   "id": "dca214ca",
   "metadata": {},
   "source": [
    "## 7.5 XGBoost Regressor"
   ]
  },
  {
   "cell_type": "code",
   "execution_count": null,
   "id": "779a4a5c",
   "metadata": {},
   "outputs": [],
   "source": [
    "# model_xgb = xgb.XGBRegressor( objective='reg:squarederror',\n",
    "#                               n_estimators=100, \n",
    "#                               eta=0.01,\n",
    "#                               max_depth=10,\n",
    "#                               subsample=0.7,\n",
    "#                               colsample_bytree=0.9 ).fit( x_train, y_train)\n",
    "\n",
    "# #prediction\n",
    "# yhat_xgb = model_xgb.predict( x_test )\n",
    "\n",
    "# #performance\n",
    "# xgb_result = ml_error( 'XGBoost Regressor', np.expm1( y_test ), np.expm1( yhat_xgb))\n",
    "# xgb_result"
   ]
  },
  {
   "cell_type": "markdown",
   "id": "88b7d96c",
   "metadata": {},
   "source": [
    "### 7.5.1 XGBoost Regressor Model - Cross Validation"
   ]
  },
  {
   "cell_type": "code",
   "execution_count": null,
   "id": "6fae533a",
   "metadata": {},
   "outputs": [],
   "source": [
    "model_xgb = xgb.XGBRegressor( objective='reg:squarederror',\n",
    "                              n_estimators=100, \n",
    "                              eta=0.01,\n",
    "                              max_depth=10,\n",
    "                              subsample=0.7,\n",
    "                              colsample_bytree=0.9 )\n",
    "xgb_result_cv = cross_validation( x_training, 5, 'XGBoost Regressor', model_xgb, verbose=True)\n",
    "xgb_result_cv"
   ]
  },
  {
   "cell_type": "markdown",
   "id": "5517fec1",
   "metadata": {
    "ExecuteTime": {
     "end_time": "2022-03-30T21:42:41.999931Z",
     "start_time": "2022-03-30T21:42:41.870146Z"
    }
   },
   "source": [
    "## 7.6 Compare Model's Performance"
   ]
  },
  {
   "cell_type": "markdown",
   "id": "ad2089dc",
   "metadata": {},
   "source": [
    "### 7.6.1 Singe Performance"
   ]
  },
  {
   "cell_type": "code",
   "execution_count": null,
   "id": "2981c193",
   "metadata": {},
   "outputs": [],
   "source": [
    "modelling_result = pd.concat( [baseline_result, lr_result, lrr_result, rf_result, xgb_result] )\n",
    "modelling_result.sort_values( 'RMSE' )"
   ]
  },
  {
   "cell_type": "markdown",
   "id": "15eaf6a1",
   "metadata": {},
   "source": [
    "### 7.6.2 Real Performance - Cross Validation'"
   ]
  },
  {
   "cell_type": "code",
   "execution_count": null,
   "id": "13bd2a43",
   "metadata": {},
   "outputs": [],
   "source": [
    "modelling_result_cv = pd.concat( [lr_result_cv, lrr_result_cv, rf_result_cv, xgb_result_cv] )\n",
    "modelling_result_cv"
   ]
  },
  {
   "cell_type": "code",
   "execution_count": null,
   "id": "345bfe35",
   "metadata": {},
   "outputs": [],
   "source": []
  },
  {
   "cell_type": "code",
   "execution_count": null,
   "id": "84240c42",
   "metadata": {},
   "outputs": [],
   "source": []
  },
  {
   "cell_type": "code",
   "execution_count": null,
   "id": "77fbaab3",
   "metadata": {},
   "outputs": [],
   "source": []
  },
  {
   "cell_type": "code",
   "execution_count": null,
   "id": "7a964060",
   "metadata": {},
   "outputs": [],
   "source": []
  },
  {
   "cell_type": "code",
   "execution_count": null,
   "id": "c24f98cf",
   "metadata": {},
   "outputs": [],
   "source": []
  },
  {
   "cell_type": "code",
   "execution_count": null,
   "id": "80353195",
   "metadata": {},
   "outputs": [],
   "source": []
  },
  {
   "cell_type": "code",
   "execution_count": null,
   "id": "3ffb1943",
   "metadata": {},
   "outputs": [],
   "source": []
  },
  {
   "cell_type": "code",
   "execution_count": null,
   "id": "cb73f4a2",
   "metadata": {},
   "outputs": [],
   "source": []
  },
  {
   "cell_type": "code",
   "execution_count": null,
   "id": "1f033b9f",
   "metadata": {},
   "outputs": [],
   "source": []
  },
  {
   "cell_type": "code",
   "execution_count": null,
   "id": "2037073f",
   "metadata": {},
   "outputs": [],
   "source": []
  }
 ],
 "metadata": {
  "kernelspec": {
   "display_name": "Python 3 (ipykernel)",
   "language": "python",
   "name": "python3"
  },
  "language_info": {
   "codemirror_mode": {
    "name": "ipython",
    "version": 3
   },
   "file_extension": ".py",
   "mimetype": "text/x-python",
   "name": "python",
   "nbconvert_exporter": "python",
   "pygments_lexer": "ipython3",
   "version": "3.8.10"
  },
  "varInspector": {
   "cols": {
    "lenName": 16,
    "lenType": 16,
    "lenVar": 40
   },
   "kernels_config": {
    "python": {
     "delete_cmd_postfix": "",
     "delete_cmd_prefix": "del ",
     "library": "var_list.py",
     "varRefreshCmd": "print(var_dic_list())"
    },
    "r": {
     "delete_cmd_postfix": ") ",
     "delete_cmd_prefix": "rm(",
     "library": "var_list.r",
     "varRefreshCmd": "cat(var_dic_list()) "
    }
   },
   "types_to_exclude": [
    "module",
    "function",
    "builtin_function_or_method",
    "instance",
    "_Feature"
   ],
   "window_display": false
  }
 },
 "nbformat": 4,
 "nbformat_minor": 5
}
