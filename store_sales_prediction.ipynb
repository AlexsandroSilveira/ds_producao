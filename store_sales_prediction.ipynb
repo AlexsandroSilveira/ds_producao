{
 "cells": [
  {
   "cell_type": "markdown",
   "id": "3c6822d6",
   "metadata": {},
   "source": [
    "# 0.0 Imports"
   ]
  },
  {
   "cell_type": "code",
   "execution_count": null,
   "id": "2c182614",
   "metadata": {
    "ExecuteTime": {
     "end_time": "2022-03-24T22:25:37.574508Z",
     "start_time": "2022-03-24T22:25:19.096484Z"
    }
   },
   "outputs": [],
   "source": [
    "pip install sklearn"
   ]
  },
  {
   "cell_type": "code",
   "execution_count": 15,
   "id": "0dc3a69e",
   "metadata": {
    "ExecuteTime": {
     "end_time": "2022-03-25T13:07:48.083759Z",
     "start_time": "2022-03-25T13:07:48.077610Z"
    }
   },
   "outputs": [],
   "source": [
    "import math\n",
    "import datetime\n",
    "import inflection\n",
    "\n",
    "import numpy as np\n",
    "import pandas as pd\n",
    "import seaborn as sns\n",
    "import matplotlib.pyplot as plt\n",
    "\n",
    "\n",
    "from scipy import stats as ss\n",
    "from tabulate import tabulate\n",
    "from matplotlib import gridspec\n",
    "from IPython.display import Image\n",
    "from sklearn.preprocessing import RobustScaler, MinMaxScaler, LabelEncoder"
   ]
  },
  {
   "cell_type": "markdown",
   "id": "58ac2b53",
   "metadata": {},
   "source": [
    "## 0.1 Helper Functions"
   ]
  },
  {
   "cell_type": "code",
   "execution_count": 2,
   "id": "654abec8",
   "metadata": {
    "ExecuteTime": {
     "end_time": "2022-03-25T12:18:58.485326Z",
     "start_time": "2022-03-25T12:18:58.467485Z"
    }
   },
   "outputs": [],
   "source": [
    "#V de Cramer\n",
    "def cramer_v(x, y):\n",
    "    cm = pd.crosstab( x, y).values\n",
    "    n = cm.sum()\n",
    "    r, k = cm.shape\n",
    "    \n",
    "    chi2 = ss.chi2_contingency( cm )[0]\n",
    "    chi2corr = max(0, chi2 - (k-1)*(r-1)/(n-1))\n",
    "    kcorr = k - (k-1)**2/(n-1)\n",
    "    rcorr = r - (r-1)**2/(n-1)\n",
    "\n",
    "    \n",
    "    return np.sqrt((chi2corr/n)/(min(kcorr-1, rcorr-1))) \n",
    "\n",
    "\n",
    "plt.rcParams['figure.figsize'] = (18,10)\n",
    "plt.style.use( 'bmh' )\n",
    "plt.rcParams['font.size'] = 15"
   ]
  },
  {
   "cell_type": "markdown",
   "id": "9d78c95a",
   "metadata": {
    "heading_collapsed": true
   },
   "source": [
    "## 0.2 Loading Data"
   ]
  },
  {
   "cell_type": "code",
   "execution_count": null,
   "id": "f37ad37b",
   "metadata": {
    "ExecuteTime": {
     "end_time": "2022-03-23T20:56:23.110949Z",
     "start_time": "2022-03-23T20:56:21.836445Z"
    },
    "hidden": true
   },
   "outputs": [],
   "source": [
    "df_sales_raw = pd.read_csv( 'datasets/train.csv', low_memory=False )\n",
    "df_store_raw = pd.read_csv( 'datasets/store.csv', low_memory=False )\n",
    "                           \n",
    "#merge\n",
    "df_raw = pd.merge( df_sales_raw, df_store_raw, how='left', on='Store')"
   ]
  },
  {
   "cell_type": "markdown",
   "id": "615f68e3",
   "metadata": {
    "ExecuteTime": {
     "end_time": "2022-03-21T18:45:23.014368Z",
     "start_time": "2022-03-21T18:45:22.448394Z"
    },
    "heading_collapsed": true
   },
   "source": [
    "# 1.0 Descrição dos Dados"
   ]
  },
  {
   "cell_type": "markdown",
   "id": "7fce6b51",
   "metadata": {
    "heading_collapsed": true,
    "hidden": true
   },
   "source": [
    "## 1.1 Rename Columns"
   ]
  },
  {
   "cell_type": "code",
   "execution_count": null,
   "id": "7efa5e42",
   "metadata": {
    "ExecuteTime": {
     "end_time": "2022-03-23T20:56:30.163383Z",
     "start_time": "2022-03-23T20:56:30.143662Z"
    },
    "hidden": true
   },
   "outputs": [],
   "source": [
    "df1 = df_raw.copy()\n",
    "\n",
    "cols_old = ['Store', 'DayOfWeek', 'Date', 'Sales', 'Customers', 'Open', 'Promo', \n",
    "            'StateHoliday', 'SchoolHoliday', 'StoreType', 'Assortment', \n",
    "            'CompetitionDistance', 'CompetitionOpenSinceMonth', 'CompetitionOpenSinceYear',\n",
    "            'Promo2', 'Promo2SinceWeek', 'Promo2SinceYear', 'PromoInterval']\n",
    "\n",
    "snakecase = lambda x: inflection.underscore( x )\n",
    "\n",
    "cols_new = list(map( snakecase, cols_old))\n",
    "\n",
    "# rename\n",
    "df1.columns = cols_new"
   ]
  },
  {
   "cell_type": "markdown",
   "id": "46d49de0",
   "metadata": {
    "heading_collapsed": true,
    "hidden": true
   },
   "source": [
    "## 1.2 Data Dimension"
   ]
  },
  {
   "cell_type": "code",
   "execution_count": null,
   "id": "25c5973b",
   "metadata": {
    "ExecuteTime": {
     "end_time": "2022-03-23T20:56:33.471015Z",
     "start_time": "2022-03-23T20:56:33.463060Z"
    },
    "hidden": true
   },
   "outputs": [],
   "source": [
    "print(f'Number of Rows{df1.shape[0]}')\n",
    "print(f'Number of Cols{df1.shape[1]}')"
   ]
  },
  {
   "cell_type": "markdown",
   "id": "097d315e",
   "metadata": {
    "heading_collapsed": true,
    "hidden": true
   },
   "source": [
    "## 1.3 Data Types"
   ]
  },
  {
   "cell_type": "code",
   "execution_count": null,
   "id": "20af268a",
   "metadata": {
    "ExecuteTime": {
     "end_time": "2022-03-23T20:56:36.596947Z",
     "start_time": "2022-03-23T20:56:36.408996Z"
    },
    "hidden": true
   },
   "outputs": [],
   "source": [
    "df1['date'] = pd.to_datetime( df1['date'])\n",
    "df1.dtypes"
   ]
  },
  {
   "cell_type": "markdown",
   "id": "0370220a",
   "metadata": {
    "heading_collapsed": true,
    "hidden": true
   },
   "source": [
    "## 1.4 Check NA"
   ]
  },
  {
   "cell_type": "code",
   "execution_count": null,
   "id": "34276ee6",
   "metadata": {
    "ExecuteTime": {
     "end_time": "2022-03-23T20:56:40.273595Z",
     "start_time": "2022-03-23T20:56:39.419456Z"
    },
    "hidden": true
   },
   "outputs": [],
   "source": [
    "df1.isna().sum()"
   ]
  },
  {
   "cell_type": "markdown",
   "id": "2d5b0413",
   "metadata": {
    "heading_collapsed": true,
    "hidden": true
   },
   "source": [
    "## 1.5 Fillout NA"
   ]
  },
  {
   "cell_type": "code",
   "execution_count": null,
   "id": "0fd8e125",
   "metadata": {
    "ExecuteTime": {
     "end_time": "2022-03-23T20:56:43.120883Z",
     "start_time": "2022-03-23T20:56:43.102525Z"
    },
    "hidden": true
   },
   "outputs": [],
   "source": [
    "df1['competition_distance'].max()"
   ]
  },
  {
   "cell_type": "code",
   "execution_count": null,
   "id": "a98309ee",
   "metadata": {
    "ExecuteTime": {
     "end_time": "2022-03-23T20:59:20.059373Z",
     "start_time": "2022-03-23T20:56:46.059722Z"
    },
    "hidden": true
   },
   "outputs": [],
   "source": [
    "# competition_distance    \n",
    "df1['competition_distance'] = df1['competition_distance'].apply( lambda x: 200000.0 if math.isnan( x ) else x)\n",
    "\n",
    "# competition_open_since_month\n",
    "df1['competition_open_since_month'] = df1.apply( lambda x: x['date'].month if math.isnan( x['competition_open_since_month'] ) else x['competition_open_since_month'], axis=1)\n",
    "\n",
    "# competition_open_since_year    \n",
    "df1['competition_open_since_year'] = df1.apply( lambda x: x['date'].year if math.isnan( x['competition_open_since_year'] ) else x['competition_open_since_year'], axis=1)\n",
    "\n",
    "# promo2_since_week              \n",
    "df1['promo2_since_week'] = df1.apply( lambda x: x['date'].week if math.isnan( x['promo2_since_week'] ) else x['promo2_since_week'], axis=1)\n",
    "\n",
    "# promo2_since_year              \n",
    "df1['promo2_since_year'] = df1.apply( lambda x: x['date'].year if math.isnan( x['promo2_since_year'] ) else x['promo2_since_year'], axis=1)\n",
    "\n",
    "# promo_interval \n",
    "month_map = {1: 'Jan', 2: 'Feb', 3: 'Mar', 4: 'Apr', 5: 'May', 6: 'Jun', 7: 'Jul', 8: 'Aug', 9: 'Sep', 10: 'Oct', 11: 'Nov', 12: 'Dec' }\n",
    "df1['promo_interval'].fillna(0, inplace=True)\n",
    "df1['month_map'] = df1['date'].dt.month.map( month_map )\n",
    "df1['is_promo'] = df1[['promo_interval', 'month_map']].apply( lambda x: 0 if x['promo_interval'] == 0 else 1 if x['month_map'] in x['promo_interval'].split( ',' ) else 0, axis=1 )\n",
    "\n",
    "df1.isna().sum()"
   ]
  },
  {
   "cell_type": "markdown",
   "id": "2e96b883",
   "metadata": {
    "heading_collapsed": true,
    "hidden": true
   },
   "source": [
    "## 1.6 Change Types"
   ]
  },
  {
   "cell_type": "code",
   "execution_count": null,
   "id": "b5ac3884",
   "metadata": {
    "ExecuteTime": {
     "end_time": "2022-03-23T20:59:23.231953Z",
     "start_time": "2022-03-23T20:59:23.156158Z"
    },
    "hidden": true
   },
   "outputs": [],
   "source": [
    "df1['competition_open_since_month'] = df1['competition_open_since_month'].astype( int )\n",
    "df1['competition_open_since_year'] = df1['competition_open_since_year'].astype( int )\n",
    "\n",
    "df1['promo2_since_week'] = df1['promo2_since_week'].astype( int )\n",
    "df1['promo2_since_year'] = df1['promo2_since_year'].astype( int )\n",
    "\n",
    "df1.dtypes"
   ]
  },
  {
   "cell_type": "code",
   "execution_count": null,
   "id": "70a5fa10",
   "metadata": {
    "ExecuteTime": {
     "end_time": "2022-03-23T20:59:46.949388Z",
     "start_time": "2022-03-23T20:59:26.244262Z"
    },
    "hidden": true
   },
   "outputs": [],
   "source": [
    "#df1.to_csv('df1.csv', index_label=False )"
   ]
  },
  {
   "cell_type": "markdown",
   "id": "1f166b43",
   "metadata": {
    "heading_collapsed": true,
    "hidden": true
   },
   "source": [
    "## 1.7 Descriptive Statistical"
   ]
  },
  {
   "cell_type": "code",
   "execution_count": null,
   "id": "8e4a4c74",
   "metadata": {
    "ExecuteTime": {
     "end_time": "2022-03-24T14:51:58.816111Z",
     "start_time": "2022-03-24T14:51:55.755799Z"
    },
    "hidden": true
   },
   "outputs": [],
   "source": [
    "df2 = pd.read_csv( 'df1.csv', low_memory=False )"
   ]
  },
  {
   "cell_type": "code",
   "execution_count": null,
   "id": "6d5ea673",
   "metadata": {
    "ExecuteTime": {
     "end_time": "2022-03-24T14:51:59.639905Z",
     "start_time": "2022-03-24T14:51:59.632610Z"
    },
    "hidden": true
   },
   "outputs": [],
   "source": [
    "num_attributes = df2.select_dtypes( include = ['int64', 'float64'])\n",
    "cat_attributes = df2.select_dtypes( exclude = ['int64', 'float64', 'datetime64[ns]'])"
   ]
  },
  {
   "cell_type": "markdown",
   "id": "f1bc5d9a",
   "metadata": {
    "heading_collapsed": true,
    "hidden": true
   },
   "source": [
    "### 1.7.1 Numerical Attributes"
   ]
  },
  {
   "cell_type": "code",
   "execution_count": null,
   "id": "740f5f51",
   "metadata": {
    "ExecuteTime": {
     "end_time": "2022-03-24T14:52:05.083605Z",
     "start_time": "2022-03-24T14:52:00.921523Z"
    },
    "hidden": true
   },
   "outputs": [],
   "source": [
    "# Central tendency - mean, median\n",
    "ct1 = pd.DataFrame( num_attributes.apply( np.mean )).T\n",
    "ct2 = pd.DataFrame( num_attributes.apply( np.median )).T\n",
    "\n",
    "# dispersion - std, min, max, range, skew, kurtosis\n",
    "d1 = pd.DataFrame( num_attributes.apply( np.std )).T\n",
    "d2 = pd.DataFrame( num_attributes.apply( min )).T\n",
    "d3 = pd.DataFrame( num_attributes.apply( max )).T\n",
    "d4 = pd.DataFrame( num_attributes.apply( lambda x: x.max() - x.min() )).T\n",
    "d5 = pd.DataFrame( num_attributes.apply( lambda x: x.skew() )).T\n",
    "d6 = pd.DataFrame( num_attributes.apply( lambda x: x.kurtosis() )).T\n",
    "\n",
    "#concat\n",
    "m = pd.concat( [d2, d3, d4, ct1, ct2, d1, d5, d6] ).T.reset_index()\n",
    "m.columns = ['attributes', 'min', 'max', 'range', 'mean', 'median', 'std', 'skew', 'kurtosis'] "
   ]
  },
  {
   "cell_type": "code",
   "execution_count": null,
   "id": "f2964803",
   "metadata": {
    "ExecuteTime": {
     "end_time": "2022-03-24T14:52:12.829823Z",
     "start_time": "2022-03-24T14:52:06.430299Z"
    },
    "hidden": true
   },
   "outputs": [],
   "source": [
    "sns.distplot( df2['competition_distance'] )"
   ]
  },
  {
   "cell_type": "markdown",
   "id": "9a77e059",
   "metadata": {
    "heading_collapsed": true,
    "hidden": true
   },
   "source": [
    "### 1.7.2 Categorical Attributes"
   ]
  },
  {
   "cell_type": "code",
   "execution_count": null,
   "id": "a3f5f0f1",
   "metadata": {
    "ExecuteTime": {
     "end_time": "2022-03-24T14:52:20.059988Z",
     "start_time": "2022-03-24T14:52:19.685485Z"
    },
    "hidden": true
   },
   "outputs": [],
   "source": [
    "cat_attributes.apply( lambda x: x.unique().shape[0])"
   ]
  },
  {
   "cell_type": "code",
   "execution_count": null,
   "id": "e5e59d63",
   "metadata": {
    "ExecuteTime": {
     "end_time": "2022-03-24T14:52:21.479860Z",
     "start_time": "2022-03-24T14:52:20.703065Z"
    },
    "hidden": true
   },
   "outputs": [],
   "source": [
    "aux1 = df2[(df2['state_holiday'] !='0') & (df2['sales']>0)]\n",
    "\n",
    "plt.subplot( 1, 3, 1)\n",
    "sns.boxplot( x= 'state_holiday', y= 'sales', data=aux1)\n",
    "\n",
    "plt.subplot( 1, 3, 2)\n",
    "sns.boxplot( x= 'store_type', y= 'sales', data=aux1)\n",
    "\n",
    "plt.subplot( 1, 3, 3)\n",
    "sns.boxplot( x= 'assortment', y= 'sales', data=aux1)"
   ]
  },
  {
   "cell_type": "markdown",
   "id": "eb0dde60",
   "metadata": {
    "heading_collapsed": true
   },
   "source": [
    "# 2.0 Feature Engineering"
   ]
  },
  {
   "cell_type": "markdown",
   "id": "49f35a4e",
   "metadata": {
    "heading_collapsed": true,
    "hidden": true
   },
   "source": [
    "## 2.1 Mapa Mental de Hipóteses"
   ]
  },
  {
   "cell_type": "code",
   "execution_count": null,
   "id": "9ee306f1",
   "metadata": {
    "ExecuteTime": {
     "end_time": "2022-03-24T14:52:36.091714Z",
     "start_time": "2022-03-24T14:52:36.076329Z"
    },
    "hidden": true
   },
   "outputs": [],
   "source": [
    "Image( 'img/MindMapHypothesis.png' )"
   ]
  },
  {
   "cell_type": "markdown",
   "id": "2915d7b1",
   "metadata": {
    "heading_collapsed": true,
    "hidden": true
   },
   "source": [
    "## 2.2 Criação da Hipóteses"
   ]
  },
  {
   "cell_type": "markdown",
   "id": "76d40c96",
   "metadata": {
    "heading_collapsed": true,
    "hidden": true
   },
   "source": [
    "### 2.2.1 Hipóteses Loja\n",
    "\n",
    "    -1 Lojas com maior quadro de funcionários deveriam vender mais\n",
    "    \n",
    "    -2 Lojas com maior estoque deveriam vender mais\n",
    "    \n",
    "    -3 Lojas com maior porte deveriam vender mais\n",
    "    \n",
    "    -4 Lojas com maior sortimento deveriam vender mais\n",
    "    \n",
    "    -5 Lojas com competidores mais próximos deveriam vender menos\n",
    "    \n",
    "    -6 Lojas com competidores à mais tempo deveriam vender mais"
   ]
  },
  {
   "cell_type": "markdown",
   "id": "f4970d0a",
   "metadata": {
    "heading_collapsed": true,
    "hidden": true
   },
   "source": [
    "### 2.2.1 Hipóteses Produto\n",
    "\n",
    "    -1 Lojas que investem mais em marketing deveriam vender mais\n",
    "    \n",
    "    -2 Lojas que expoe mais os produtos nas vitrines deveriam vender mais\n",
    "    \n",
    "    -3 Lojas que tem preços menores nos produtos deveriam vender mais\n",
    "    \n",
    "    -4 Lojas que possuem preços menores por mais tempo deveriam vender mais \n",
    "    \n",
    "    -5 Lojas com descontos maiores deveriam vender mais\n",
    "    \n",
    "    -6 Lojas com promoções ativas por mais tempo deveriam vender mais\n",
    "    \n",
    "    -7 Lojas com mais dias de promoção deveriam vender mais\n",
    "    \n",
    "    -8 Lojas com mais promoções consecutivas deveriam vender mais"
   ]
  },
  {
   "cell_type": "markdown",
   "id": "97c11c9d",
   "metadata": {
    "heading_collapsed": true,
    "hidden": true
   },
   "source": [
    "### 2.2.1 Hipóteses Tempo\n",
    "\n",
    "    -1 Lojas abertas durante o feriado de natal deveriam vender mais\n",
    "    \n",
    "    -2 Lojas deveriam vender mais ao longo dos anos\n",
    "    \n",
    "    -3 Lojas deveriam vender mais no segundo semestre do ano\n",
    "    \n",
    "    -4 Lojas deveriam vender mais depois do dia 10 do mês\n",
    "    \n",
    "    -5 Lojas deveriam vender menos aos finais de semana\n",
    "    \n",
    "    -6 Lojas deveriam vender menos durante os feriados escolares"
   ]
  },
  {
   "cell_type": "markdown",
   "id": "d401fccc",
   "metadata": {
    "heading_collapsed": true,
    "hidden": true
   },
   "source": [
    "## 2.3 Lista Final de Hipótesis\n",
    "\n",
    "    -1 Lojas com maior sortimento deveriam vender mais\n",
    "     \n",
    "    -2 Lojas com competidores mais próximos deveriam vender menos\n",
    "    \n",
    "    -3 Lojas com competidores à mais tempo deveriam vender mais\n",
    "     \n",
    "    -4 Lojas com promoções ativas por mais tempo deveriam vender mais\n",
    "\n",
    "    -5 Lojas com mais dias de promoção deveriam vender mais\n",
    "\n",
    "    -6 Lojas com mais promoções consecutivas deveriam vender mais\n",
    "      \n",
    "    -7 Lojas abertas durante o feriado de natal deveriam vender mais\n",
    "   \n",
    "    -8 Lojas deveriam vender mais ao longo dos anos\n",
    "    \n",
    "    -9 Lojas deveriam vender mais no segundo semestre do ano\n",
    "    \n",
    "    -10 Lojas deveriam vender mais depois do dia 10 do mês\n",
    "    \n",
    "    -11 Lojas deveriam vender menos aos finais de semana\n",
    "    \n",
    "    -12 Lojas deveriam vender menos durante os feriados escolares    "
   ]
  },
  {
   "cell_type": "markdown",
   "id": "3dbc528b",
   "metadata": {
    "heading_collapsed": true,
    "hidden": true
   },
   "source": [
    "## 2.2 Criação da Hipóteses"
   ]
  },
  {
   "cell_type": "code",
   "execution_count": null,
   "id": "e2be333e",
   "metadata": {
    "ExecuteTime": {
     "end_time": "2022-03-24T14:52:45.919452Z",
     "start_time": "2022-03-24T14:52:45.895493Z"
    },
    "hidden": true
   },
   "outputs": [],
   "source": [
    "df2.head().T"
   ]
  },
  {
   "cell_type": "code",
   "execution_count": null,
   "id": "f7d3fb2e",
   "metadata": {
    "ExecuteTime": {
     "end_time": "2022-03-24T14:56:22.641650Z",
     "start_time": "2022-03-24T14:56:22.461194Z"
    },
    "hidden": true
   },
   "outputs": [],
   "source": [
    "df2['date'] = pd.to_datetime( df2['date'])\n",
    "df2.dtypes"
   ]
  },
  {
   "cell_type": "code",
   "execution_count": null,
   "id": "5a140c14",
   "metadata": {
    "ExecuteTime": {
     "end_time": "2022-03-24T14:59:07.014906Z",
     "start_time": "2022-03-24T14:56:30.493961Z"
    },
    "hidden": true
   },
   "outputs": [],
   "source": [
    "# year\n",
    "df2['year'] = df2['date'].dt.year\n",
    "\n",
    "#month\n",
    "df2['month'] = df2['date'].dt.month\n",
    "\n",
    "#day\n",
    "df2['day'] = df2['date'].dt.day\n",
    "\n",
    "#week of year\n",
    "df2['week_of_year'] = df2['date'].dt.weekofyear\n",
    "\n",
    "#year week\n",
    "df2['year_week'] = df2['date'].dt.strftime( '%Y-%W' )\n",
    "\n",
    "#competition since\n",
    "df2['competition_since'] = df2.apply(lambda x: datetime.datetime( year=x['competition_open_since_year'], month=x['competition_open_since_month'], day=1), axis=1)\n",
    "df2['competition_since_month'] = ((df2['date'] - df2['competition_since'])/30).apply(lambda x: x.days).astype( int )\n",
    "df2['competition_time_month'] = ((df2['date'] - df2['competition_since'])/30).apply(lambda x: x.days).astype( int )\n",
    "\n",
    "#promo since\n",
    "df2['promo_since'] = df2['promo2_since_year'].astype(str) + '-' + df2['promo2_since_week'].astype(str)\n",
    "df2['promo_since'] = df2['promo_since'].apply(lambda x: datetime.datetime.strptime( x + '-1', '%Y-%W-%w' ) - datetime.timedelta( days=7 ))\n",
    "df2['promo_time_week'] = ( ( df2['date'] - df2['promo_since'] )/7 ).apply(lambda x: x.days ).astype( int )\n",
    "\n",
    "#assortment / a=basic, b=extra, c=extended\n",
    "df2['assortment'] = df2['assortment'].apply(lambda x: 'basic' if x == 'a' else 'extra' if x == 'b' else 'extended')\n",
    "\n",
    "#state holiday / a=public holiday, b=easter holiday, c=christmas\n",
    "df2['state_holiday'] = df2['state_holiday'].apply(lambda x: 'public_holiday' if x == 'a' else 'easter_holiday' if x == 'b' else 'christmas' if x =='c' else 'regular_day')\n"
   ]
  },
  {
   "cell_type": "code",
   "execution_count": null,
   "id": "16c393ff",
   "metadata": {
    "ExecuteTime": {
     "end_time": "2022-03-24T14:59:15.672249Z",
     "start_time": "2022-03-24T14:59:15.646077Z"
    },
    "hidden": true
   },
   "outputs": [],
   "source": [
    "df2.head()"
   ]
  },
  {
   "cell_type": "code",
   "execution_count": null,
   "id": "5278c87e",
   "metadata": {
    "ExecuteTime": {
     "end_time": "2022-03-24T15:00:10.110705Z",
     "start_time": "2022-03-24T14:59:22.409690Z"
    },
    "hidden": true
   },
   "outputs": [],
   "source": [
    "df2.to_csv('df2.csv', index_label=False)"
   ]
  },
  {
   "cell_type": "markdown",
   "id": "5c7c3074",
   "metadata": {
    "heading_collapsed": true
   },
   "source": [
    "# 3.0 Filtragem de Variáveis"
   ]
  },
  {
   "cell_type": "code",
   "execution_count": null,
   "id": "0407a520",
   "metadata": {
    "ExecuteTime": {
     "end_time": "2022-03-24T15:00:48.951026Z",
     "start_time": "2022-03-24T15:00:43.857242Z"
    },
    "hidden": true
   },
   "outputs": [],
   "source": [
    "df3 = pd.read_csv( 'df2.csv', low_memory=False )"
   ]
  },
  {
   "cell_type": "markdown",
   "id": "a9ba0012",
   "metadata": {
    "ExecuteTime": {
     "end_time": "2022-03-22T16:01:57.333553Z",
     "start_time": "2022-03-22T16:01:57.329718Z"
    },
    "hidden": true
   },
   "source": [
    "## 3.1 Filtragem das Linhas"
   ]
  },
  {
   "cell_type": "code",
   "execution_count": null,
   "id": "b7f444a0",
   "metadata": {
    "ExecuteTime": {
     "end_time": "2022-03-24T15:01:44.632130Z",
     "start_time": "2022-03-24T15:01:44.363125Z"
    },
    "hidden": true
   },
   "outputs": [],
   "source": [
    "df3 = df3[(df3['open'] != 0) & (df3['sales'] > 0)]"
   ]
  },
  {
   "cell_type": "markdown",
   "id": "2a10241f",
   "metadata": {
    "hidden": true
   },
   "source": [
    "## 3.2 Seleção das Colunas"
   ]
  },
  {
   "cell_type": "code",
   "execution_count": null,
   "id": "00d51b89",
   "metadata": {
    "ExecuteTime": {
     "end_time": "2022-03-24T15:01:47.249863Z",
     "start_time": "2022-03-24T15:01:47.120888Z"
    },
    "hidden": true
   },
   "outputs": [],
   "source": [
    "df3 = df3.drop( columns = ['customers', 'open', 'promo_interval', 'month_map'] )"
   ]
  },
  {
   "cell_type": "markdown",
   "id": "79a23c65",
   "metadata": {
    "heading_collapsed": true
   },
   "source": [
    "# 4.0 Análise Exploratória dos Dados"
   ]
  },
  {
   "cell_type": "markdown",
   "id": "da7f0aed",
   "metadata": {
    "heading_collapsed": true,
    "hidden": true
   },
   "source": [
    "## 4.1 Análise Univariada"
   ]
  },
  {
   "cell_type": "markdown",
   "id": "f001a7de",
   "metadata": {
    "heading_collapsed": true,
    "hidden": true
   },
   "source": [
    "### 4.1.1 Response Variable"
   ]
  },
  {
   "cell_type": "code",
   "execution_count": null,
   "id": "0038b008",
   "metadata": {
    "ExecuteTime": {
     "end_time": "2022-03-24T15:01:56.295386Z",
     "start_time": "2022-03-24T15:01:50.665557Z"
    },
    "hidden": true
   },
   "outputs": [],
   "source": [
    "sns.distplot(df3['sales'])"
   ]
  },
  {
   "cell_type": "markdown",
   "id": "bcae5101",
   "metadata": {
    "heading_collapsed": true,
    "hidden": true
   },
   "source": [
    "### 4.1.2 Numerical Variable"
   ]
  },
  {
   "cell_type": "code",
   "execution_count": null,
   "id": "f19fb8c7",
   "metadata": {
    "ExecuteTime": {
     "end_time": "2022-03-24T15:26:21.000306Z",
     "start_time": "2022-03-24T15:26:16.293564Z"
    },
    "hidden": true
   },
   "outputs": [],
   "source": [
    "num_attributes.hist(bins=25);"
   ]
  },
  {
   "cell_type": "markdown",
   "id": "8181fb76",
   "metadata": {
    "heading_collapsed": true,
    "hidden": true
   },
   "source": [
    "### 4.1.3 Categorical Variable"
   ]
  },
  {
   "cell_type": "code",
   "execution_count": null,
   "id": "3b840308",
   "metadata": {
    "ExecuteTime": {
     "end_time": "2022-03-24T15:02:37.300306Z",
     "start_time": "2022-03-24T15:02:37.285008Z"
    },
    "hidden": true
   },
   "outputs": [],
   "source": [
    "cat_attributes.head()"
   ]
  },
  {
   "cell_type": "code",
   "execution_count": null,
   "id": "460ad06e",
   "metadata": {
    "ExecuteTime": {
     "end_time": "2022-03-24T15:02:53.260304Z",
     "start_time": "2022-03-24T15:02:39.725905Z"
    },
    "hidden": true
   },
   "outputs": [],
   "source": [
    "# state holiday\n",
    "plt.subplot(3,2,1)\n",
    "a = df3[df3['state_holiday'] != 'regular_day']\n",
    "sns.countplot(a['state_holiday'])\n",
    "\n",
    "plt.subplot(3,2,2)\n",
    "sns.kdeplot(df3[df3['state_holiday'] == 'public_holiday']['sales'], label = 'public_holiday', shade=True)\n",
    "sns.kdeplot(df3[df3['state_holiday'] == 'easter_holiday']['sales'], label = 'easter_holiday', shade=True)\n",
    "sns.kdeplot(df3[df3['state_holiday'] == 'christmas']['sales'], label = 'christmas', shade=True)\n",
    "\n",
    "# store type\n",
    "plt.subplot(3,2,3)\n",
    "sns.countplot(df3['store_type'])\n",
    "\n",
    "plt.subplot(3,2,4)\n",
    "sns.kdeplot(df3[df3['store_type'] == 'a']['sales'], label = 'a', shade=True)\n",
    "sns.kdeplot(df3[df3['store_type'] == 'b']['sales'], label = 'b', shade=True)\n",
    "sns.kdeplot(df3[df3['store_type'] == 'c']['sales'], label = 'c', shade=True)\n",
    "sns.kdeplot(df3[df3['store_type'] == 'd']['sales'], label = 'd', shade=True)\n",
    "\n",
    "#assortment\n",
    "plt.subplot(3,2,5)\n",
    "sns.countplot(df3['assortment'])\n",
    "\n",
    "plt.subplot(3,2,6)\n",
    "sns.kdeplot(df3[df3['assortment'] == 'extended']['sales'], label = 'extended', shade=True)\n",
    "sns.kdeplot(df3[df3['assortment'] == 'basic']['sales'], label = 'basic', shade=True)\n",
    "sns.kdeplot(df3[df3['assortment'] == 'extra']['sales'], label = 'extra', shade=True)\n",
    "\n"
   ]
  },
  {
   "cell_type": "markdown",
   "id": "3feb3e00",
   "metadata": {
    "heading_collapsed": true,
    "hidden": true
   },
   "source": [
    "## 4.2 Análise Bivariada"
   ]
  },
  {
   "cell_type": "markdown",
   "id": "0c838e83",
   "metadata": {
    "heading_collapsed": true,
    "hidden": true
   },
   "source": [
    "### H1.Lojas com maior sortimento deveriam vender mais\n",
    "**Falsa** Lojas com maior sortimento na verdade vendem menos"
   ]
  },
  {
   "cell_type": "code",
   "execution_count": null,
   "id": "c51294bb",
   "metadata": {
    "ExecuteTime": {
     "end_time": "2022-03-24T15:03:10.375691Z",
     "start_time": "2022-03-24T15:03:09.085747Z"
    },
    "hidden": true
   },
   "outputs": [],
   "source": [
    "aux1 = df3[['assortment', 'sales']].groupby( 'assortment' ).sum().reset_index()\n",
    "sns.barplot( x='assortment', y='sales', data = aux1);\n",
    "\n",
    "aux2 = df3[['year_week', 'assortment', 'sales']].groupby( ['year_week','assortment'] ).sum().reset_index()\n",
    "aux2.pivot( index='year_week',columns='assortment', values='sales').plot()\n",
    "\n",
    "aux3 = aux2[aux2['assortment'] == 'extra']\n",
    "aux3.pivot( index='year_week',columns='assortment', values='sales').plot()"
   ]
  },
  {
   "cell_type": "markdown",
   "id": "3fa77c3a",
   "metadata": {
    "heading_collapsed": true,
    "hidden": true
   },
   "source": [
    "### H2.Lojas com competidores mais próximos deveriam vender menos\n",
    "**Falsa** Lojas com competidores mais próximos vendem mais"
   ]
  },
  {
   "cell_type": "code",
   "execution_count": null,
   "id": "f1cb7184",
   "metadata": {
    "ExecuteTime": {
     "end_time": "2022-03-24T15:03:21.893487Z",
     "start_time": "2022-03-24T15:03:20.791352Z"
    },
    "hidden": true
   },
   "outputs": [],
   "source": [
    "aux1 = df3[['competition_distance', 'sales']].groupby('competition_distance').sum().reset_index()\n",
    "\n",
    "plt.subplot(1,3,1)\n",
    "sns.scatterplot(x= 'competition_distance', y='sales', data=aux1);\n",
    "\n",
    "plt.subplot(1,3,2)\n",
    "bins = list(np.arange(0, 20000, 1000))\n",
    "aux1['competition_distance_binned'] = pd.cut( aux1['competition_distance'], bins=bins)\n",
    "aux2 = aux1[['competition_distance_binned', 'sales']].groupby('competition_distance_binned').sum().reset_index()\n",
    "sns.barplot( x='competition_distance_binned', y='sales', data=aux2);\n",
    "\n",
    "plt.subplot(1,3,3)\n",
    "sns.heatmap( aux1.corr(method='pearson'), annot=True);"
   ]
  },
  {
   "cell_type": "markdown",
   "id": "92d3062f",
   "metadata": {
    "heading_collapsed": true,
    "hidden": true
   },
   "source": [
    "### H3.Lojas com competidores à mais tempo deveriam vender mais\n",
    "**Falsa** Lojas com competidores a mais tempo vendem menos"
   ]
  },
  {
   "cell_type": "code",
   "execution_count": null,
   "id": "8662d768",
   "metadata": {
    "ExecuteTime": {
     "end_time": "2022-03-24T15:22:42.435170Z",
     "start_time": "2022-03-24T15:22:38.574158Z"
    },
    "hidden": true
   },
   "outputs": [],
   "source": [
    "plt.subplot(1, 3, 1)\n",
    "aux1 = df3[['competition_time_month', 'sales']].groupby('competition_time_month').sum().reset_index()\n",
    "aux2 = aux1 [( aux1['competition_time_month'] < 120 ) & ( aux1['competition_time_month'] !=0 )]\n",
    "sns.barplot(x='competition_time_month', y='sales', data=aux2);\n",
    "plt.xticks( rotation=90);\n",
    "\n",
    "plt.subplot(1, 3, 2)\n",
    "sns.regplot(x='competition_time_month', y='sales', data=aux2);\n",
    "\n",
    "plt.subplot(1, 3, 3)\n",
    "sns.heatmap( aux1.corr( method='pearson'), annot=True)"
   ]
  },
  {
   "cell_type": "markdown",
   "id": "e4bc3d71",
   "metadata": {
    "heading_collapsed": true,
    "hidden": true
   },
   "source": [
    "### H4.Lojas com promoções ativas por mais tempo deveriam vender mais\n",
    "**Falsa** Lojas com promoções ativas por mais tempo vendem menos, depois de um certo tempo de promoção"
   ]
  },
  {
   "cell_type": "code",
   "execution_count": null,
   "id": "9339cb4b",
   "metadata": {
    "ExecuteTime": {
     "end_time": "2022-03-24T18:16:21.167891Z",
     "start_time": "2022-03-24T18:16:10.160550Z"
    },
    "hidden": true
   },
   "outputs": [],
   "source": [
    "aux1 = df3[['promo_time_week', 'sales']].groupby('promo_time_week').sum().reset_index()\n",
    "\n",
    "grid = gridspec.GridSpec(2, 3)\n",
    "\n",
    "plt.subplot( grid[0, 0] )\n",
    "aux2 = aux1[aux1['promo_time_week'] > 0] # promo extended\n",
    "sns.barplot(x='promo_time_week', y='sales', data=aux2);\n",
    "plt.xticks( rotation=90 );\n",
    "\n",
    "plt.subplot( grid[0, 1] )\n",
    "sns.regplot(x='promo_time_week', y='sales', data=aux2);\n",
    "\n",
    "plt.subplot( grid[1, 0] )\n",
    "aux3 = aux1[aux1['promo_time_week'] < 0] # promo regular\n",
    "sns.barplot(x='promo_time_week', y='sales', data=aux3);\n",
    "plt.xticks( rotation=90 );\n",
    "\n",
    "plt.subplot( grid[1, 1] )\n",
    "sns.regplot(x='promo_time_week', y='sales', data=aux3);\n",
    "\n",
    "plt.subplot( grid[:, 2] )\n",
    "sns.heatmap( aux1.corr( method='pearson'), annot=True);"
   ]
  },
  {
   "cell_type": "markdown",
   "id": "496753aa",
   "metadata": {
    "heading_collapsed": true,
    "hidden": true
   },
   "source": [
    "### <s> H5.Lojas com mais dias de promoção deveriam vender mais </s>"
   ]
  },
  {
   "cell_type": "code",
   "execution_count": null,
   "id": "e28dcb8b",
   "metadata": {
    "hidden": true
   },
   "outputs": [],
   "source": []
  },
  {
   "cell_type": "markdown",
   "id": "875795d3",
   "metadata": {
    "ExecuteTime": {
     "end_time": "2022-03-24T15:31:50.669090Z",
     "start_time": "2022-03-24T15:31:50.662686Z"
    },
    "heading_collapsed": true,
    "hidden": true
   },
   "source": [
    "### H6.Lojas com mais promoções consecutivas deveriam vender mais\n",
    "**Falsa** Lojas com mais promoções consecutivas vendem menos"
   ]
  },
  {
   "cell_type": "code",
   "execution_count": null,
   "id": "117c1784",
   "metadata": {
    "ExecuteTime": {
     "end_time": "2022-03-24T17:15:51.042844Z",
     "start_time": "2022-03-24T17:15:50.857182Z"
    },
    "hidden": true
   },
   "outputs": [],
   "source": [
    "df3[['promo', 'promo2', 'sales']].groupby(['promo', 'promo2']).sum().reset_index()"
   ]
  },
  {
   "cell_type": "code",
   "execution_count": null,
   "id": "1a19d4f8",
   "metadata": {
    "ExecuteTime": {
     "end_time": "2022-03-24T17:23:44.736722Z",
     "start_time": "2022-03-24T17:23:44.099635Z"
    },
    "hidden": true
   },
   "outputs": [],
   "source": [
    "aux1 = df3[(df3['promo'] == 1) & (df3['promo2'] == 1)][['year_week', 'sales']].groupby( 'year_week').sum().reset_index()\n",
    "ax = aux1.plot()\n",
    "\n",
    "aux2 = df3[(df3['promo'] == 1) & (df3['promo2'] == 0)][['year_week', 'sales']].groupby( 'year_week').sum().reset_index()\n",
    "aux2.plot( ax=ax )\n",
    "\n",
    "ax.legend( labels=['Regular e Extended', 'Extended'])"
   ]
  },
  {
   "cell_type": "markdown",
   "id": "118aaff0",
   "metadata": {
    "heading_collapsed": true,
    "hidden": true
   },
   "source": [
    "### H7.Lojas abertas durante o feriado de natal deveriam vender mais\n",
    "**Falsa** Lojas abertas durante o Natal vendem menos"
   ]
  },
  {
   "cell_type": "code",
   "execution_count": null,
   "id": "2865f843",
   "metadata": {
    "ExecuteTime": {
     "end_time": "2022-03-24T18:08:53.413922Z",
     "start_time": "2022-03-24T18:08:52.700962Z"
    },
    "hidden": true
   },
   "outputs": [],
   "source": [
    "aux = df3[df3['state_holiday'] != 'regular_day']\n",
    "\n",
    "plt.subplot( 1, 2, 1 )\n",
    "aux1 = aux[['state_holiday', 'sales']].groupby('state_holiday').sum().reset_index()\n",
    "sns.barplot( x='state_holiday', y='sales', data=aux1);\n",
    "\n",
    "plt.subplot( 1, 2, 2 )\n",
    "aux2 = aux[['year', 'state_holiday', 'sales']].groupby(['year', 'state_holiday']).sum().reset_index()\n",
    "sns.barplot( x='year', y='sales', hue='state_holiday', data=aux2)"
   ]
  },
  {
   "cell_type": "markdown",
   "id": "7ff25a4b",
   "metadata": {
    "heading_collapsed": true,
    "hidden": true
   },
   "source": [
    "### H8.Lojas deveriam vender mais ao longo dos anos\n",
    "**Falsa** Lojas vendem menos ao longo dos anos"
   ]
  },
  {
   "cell_type": "code",
   "execution_count": null,
   "id": "c57ba7b4",
   "metadata": {
    "ExecuteTime": {
     "end_time": "2022-03-24T18:15:58.815797Z",
     "start_time": "2022-03-24T18:15:57.844110Z"
    },
    "hidden": true
   },
   "outputs": [],
   "source": [
    "aux1 = df3[['year', 'sales']].groupby( 'year' ).sum().reset_index()\n",
    "\n",
    "plt.subplot( 1, 3, 1 )\n",
    "sns.barplot(x='year', y='sales', data=aux1);\n",
    "\n",
    "plt.subplot( 1, 3, 2 )\n",
    "sns.regplot(x='year', y='sales', data=aux1);\n",
    "\n",
    "plt.subplot( 1, 3, 3 )\n",
    "sns.heatmap(aux1.corr(method='pearson'), annot=True);"
   ]
  },
  {
   "cell_type": "markdown",
   "id": "cd19e90c",
   "metadata": {
    "heading_collapsed": true,
    "hidden": true
   },
   "source": [
    "### H9. Lojas deveriam vender mais no segundo semestre do ano\n",
    "**Falsa** Lojas vendme menos no segundo semestre do ano "
   ]
  },
  {
   "cell_type": "code",
   "execution_count": null,
   "id": "30201756",
   "metadata": {
    "ExecuteTime": {
     "end_time": "2022-03-24T18:23:56.743961Z",
     "start_time": "2022-03-24T18:23:55.139353Z"
    },
    "hidden": true
   },
   "outputs": [],
   "source": [
    "aux1 = df3[['month', 'sales']].groupby( 'month' ).sum().reset_index()\n",
    "\n",
    "plt.subplot( 1, 3, 1 )\n",
    "sns.barplot(x='month', y='sales', data=aux1);\n",
    "\n",
    "plt.subplot( 1, 3, 2 )\n",
    "sns.regplot(x='month', y='sales', data=aux1);\n",
    "\n",
    "plt.subplot( 1, 3, 3 )\n",
    "sns.heatmap(aux1.corr(method='pearson'), annot=True);"
   ]
  },
  {
   "cell_type": "markdown",
   "id": "3610b4af",
   "metadata": {
    "ExecuteTime": {
     "end_time": "2022-03-24T15:32:52.342401Z",
     "start_time": "2022-03-24T15:32:52.338499Z"
    },
    "heading_collapsed": true,
    "hidden": true
   },
   "source": [
    "### H10.Lojas deveriam vender mais depois do dia 10 do mês\n",
    "**Verdadeira** As lojas vendem mais depois do dia 10 de cada mês"
   ]
  },
  {
   "cell_type": "code",
   "execution_count": null,
   "id": "7f9d4a59",
   "metadata": {
    "ExecuteTime": {
     "end_time": "2022-03-24T18:32:15.968885Z",
     "start_time": "2022-03-24T18:32:14.368206Z"
    },
    "hidden": true
   },
   "outputs": [],
   "source": [
    "aux1 = df3[['day', 'sales']].groupby( 'day' ).sum().reset_index()\n",
    "\n",
    "plt.subplot( 2, 2, 1 )\n",
    "sns.barplot(x='day', y='sales', data=aux1);\n",
    "\n",
    "plt.subplot( 2, 2, 2 )\n",
    "sns.regplot(x='day', y='sales', data=aux1);\n",
    "\n",
    "plt.subplot( 2, 2, 3 )\n",
    "sns.heatmap(aux1.corr(method='pearson'), annot=True);\n",
    "\n",
    "plt.subplot( 2, 2, 4 )\n",
    "aux1['before_after'] = aux1['day'].apply(lambda x: 'before_10_days' if x<= 10 else 'after_10_days')\n",
    "aux2 = aux1[['before_after', 'sales']].groupby( 'before_after' ).sum().reset_index()\n",
    "sns.barplot(x='before_after', y='sales', data=aux2);"
   ]
  },
  {
   "cell_type": "markdown",
   "id": "39226492",
   "metadata": {
    "heading_collapsed": true,
    "hidden": true
   },
   "source": [
    "### H11.Lojas deveriam vender menos aos finais de semana\n",
    "**Verdadeira** Lojas vendem menos no final de semana"
   ]
  },
  {
   "cell_type": "code",
   "execution_count": null,
   "id": "1b1e596c",
   "metadata": {
    "ExecuteTime": {
     "end_time": "2022-03-24T18:38:24.958991Z",
     "start_time": "2022-03-24T18:38:24.002835Z"
    },
    "hidden": true
   },
   "outputs": [],
   "source": [
    "aux1 = df3[['day_of_week', 'sales']].groupby( 'day_of_week' ).sum().reset_index()\n",
    "\n",
    "plt.subplot( 1, 3, 1 )\n",
    "sns.barplot(x='day_of_week', y='sales', data=aux1);\n",
    "\n",
    "plt.subplot( 1, 3, 2 )\n",
    "sns.regplot(x='day_of_week', y='sales', data=aux1);\n",
    "\n",
    "plt.subplot( 1, 3, 3 )\n",
    "sns.heatmap(aux1.corr(method='pearson'), annot=True);"
   ]
  },
  {
   "cell_type": "markdown",
   "id": "06640dc1",
   "metadata": {
    "heading_collapsed": true,
    "hidden": true
   },
   "source": [
    "### H12.Lojas deveriam vender menos durante os feriados escolares  \n",
    "**Verdadeira** Lojas vendem menos durante os feriados escolares, exceto em Julho e Agosto"
   ]
  },
  {
   "cell_type": "code",
   "execution_count": null,
   "id": "d2fadf01",
   "metadata": {
    "ExecuteTime": {
     "end_time": "2022-03-24T19:07:45.430126Z",
     "start_time": "2022-03-24T19:07:44.649999Z"
    },
    "hidden": true
   },
   "outputs": [],
   "source": [
    "aux1 = df3[['school_holiday', 'sales']].groupby('school_holiday').sum().reset_index()\n",
    "\n",
    "plt.subplot(2,1,1)\n",
    "sns.barplot( x='school_holiday', y='sales', data=aux1);\n",
    "\n",
    "aux2 = df3[['month', 'school_holiday', 'sales']].groupby(['month', 'school_holiday']).sum().reset_index()\n",
    "\n",
    "plt.subplot(2,1,2)\n",
    "sns.barplot( x='month', y='sales', hue='school_holiday', data=aux2);"
   ]
  },
  {
   "cell_type": "markdown",
   "id": "826d9bc8",
   "metadata": {
    "heading_collapsed": true,
    "hidden": true
   },
   "source": [
    "### Resumo das Hipótesis"
   ]
  },
  {
   "cell_type": "code",
   "execution_count": null,
   "id": "c9ed8eaa",
   "metadata": {
    "ExecuteTime": {
     "end_time": "2022-03-24T19:52:53.042246Z",
     "start_time": "2022-03-24T19:52:53.007344Z"
    },
    "hidden": true
   },
   "outputs": [],
   "source": [
    "tab = [['Hipóteses', 'Conclusão', 'Relevância'],\n",
    "       ['H1', 'Falsa', 'Baixa'],\n",
    "       ['H2', 'Falsa', 'Média'],\n",
    "       ['H3', 'Falsa', 'Média'],\n",
    "       ['H4', 'Falsa', 'Baixa'],\n",
    "       ['H5', '-----', '-----'],\n",
    "       ['H6', 'Falsa', 'Baixa'],\n",
    "       ['H7', 'Falsa', 'Média'],\n",
    "       ['H8', 'Falsa', 'Alta'],\n",
    "       ['H9', 'Falsa', 'Alta'],\n",
    "       ['H10', 'Verdadeira', 'Alta'],\n",
    "       ['H11', 'Verdadeira', 'Alta'],\n",
    "       ['H12', 'Verdadeira', 'Baixa'],\n",
    "      ]\n",
    "print( tabulate( tab, headers='firstrow'))"
   ]
  },
  {
   "cell_type": "markdown",
   "id": "2b351b88",
   "metadata": {
    "heading_collapsed": true,
    "hidden": true
   },
   "source": [
    "## 4.3 Análise Multivariada"
   ]
  },
  {
   "cell_type": "markdown",
   "id": "a368f091",
   "metadata": {
    "ExecuteTime": {
     "end_time": "2022-03-24T20:05:58.282203Z",
     "start_time": "2022-03-24T20:05:58.276728Z"
    },
    "heading_collapsed": true,
    "hidden": true
   },
   "source": [
    "### 4.3.1 Numerical Attributes"
   ]
  },
  {
   "cell_type": "code",
   "execution_count": null,
   "id": "eedd9a86",
   "metadata": {
    "ExecuteTime": {
     "end_time": "2022-03-24T20:07:35.671879Z",
     "start_time": "2022-03-24T20:07:30.587153Z"
    },
    "hidden": true
   },
   "outputs": [],
   "source": [
    "correlation = num_attributes.corr( method = 'pearson' )\n",
    "sns.heatmap(correlation, annot=True);"
   ]
  },
  {
   "cell_type": "markdown",
   "id": "e169f30c",
   "metadata": {
    "heading_collapsed": true,
    "hidden": true
   },
   "source": [
    "### 4.3.1 Numerical Attributes"
   ]
  },
  {
   "cell_type": "code",
   "execution_count": null,
   "id": "4609ac96",
   "metadata": {
    "ExecuteTime": {
     "end_time": "2022-03-24T20:26:45.834493Z",
     "start_time": "2022-03-24T20:26:45.547072Z"
    },
    "hidden": true
   },
   "outputs": [],
   "source": [
    "df3['competition_since'] = pd.to_datetime( df3['competition_since'])\n",
    "df3['promo_since'] = pd.to_datetime( df3['promo_since'])"
   ]
  },
  {
   "cell_type": "code",
   "execution_count": null,
   "id": "6324a9aa",
   "metadata": {
    "ExecuteTime": {
     "end_time": "2022-03-24T20:26:49.403373Z",
     "start_time": "2022-03-24T20:26:49.399030Z"
    },
    "hidden": true
   },
   "outputs": [],
   "source": [
    "# "
   ]
  },
  {
   "cell_type": "code",
   "execution_count": null,
   "id": "935bc61d",
   "metadata": {
    "ExecuteTime": {
     "end_time": "2022-03-24T21:01:39.259439Z",
     "start_time": "2022-03-24T21:01:36.726082Z"
    },
    "hidden": true,
    "hide_input": false
   },
   "outputs": [],
   "source": [
    "# Only categorical data\n",
    "a = df3.select_dtypes( include= 'object' )\n",
    "\n",
    "# Calculated cramer_v\n",
    "a1 = cramer_v(a['state_holiday'], a['state_holiday'])\n",
    "a2 = cramer_v(a['state_holiday'], a['store_type'])\n",
    "a3 = cramer_v(a['state_holiday'], a['assortment'])\n",
    "\n",
    "a4 = cramer_v(a['store_type'], a['state_holiday'])\n",
    "a5 = cramer_v(a['store_type'], a['store_type'])\n",
    "a6 = cramer_v(a['store_type'], a['assortment'])\n",
    "\n",
    "a7 = cramer_v(a['assortment'], a['state_holiday'])\n",
    "a8 = cramer_v(a['assortment'], a['store_type'])\n",
    "a9 = cramer_v(a['assortment'], a['assortment'])\n",
    "\n",
    "# Final dataset\n",
    "d = pd.DataFrame( {'state_holiday': [a1, a2, a3],\n",
    "               'store_type':    [a4, a5, a6],\n",
    "               'assortment':    [a7, a8, a9]\n",
    "              })\n",
    "\n",
    "d = d.set_index( d.columns )\n",
    "\n",
    "sns.heatmap(d, annot=True)"
   ]
  },
  {
   "cell_type": "markdown",
   "id": "96d418e9",
   "metadata": {},
   "source": [
    "# 5.0 Preparação dos Dados"
   ]
  },
  {
   "cell_type": "code",
   "execution_count": null,
   "id": "86567a2e",
   "metadata": {
    "ExecuteTime": {
     "end_time": "2022-03-24T21:57:28.851893Z",
     "start_time": "2022-03-24T21:56:54.712464Z"
    }
   },
   "outputs": [],
   "source": [
    "#df3.to_csv('df3.csv', index_label=False )"
   ]
  },
  {
   "cell_type": "code",
   "execution_count": 3,
   "id": "75c83b2a",
   "metadata": {
    "ExecuteTime": {
     "end_time": "2022-03-25T12:19:22.504989Z",
     "start_time": "2022-03-25T12:19:18.788341Z"
    }
   },
   "outputs": [],
   "source": [
    "df4 = pd.read_csv( 'df3.csv', low_memory=False )"
   ]
  },
  {
   "cell_type": "markdown",
   "id": "3f5a6c51",
   "metadata": {
    "heading_collapsed": true
   },
   "source": [
    "## 5.1 Normalização"
   ]
  },
  {
   "cell_type": "markdown",
   "id": "cfee37a0",
   "metadata": {
    "hidden": true
   },
   "source": [
    "Na seção 4.1.2 Numerical Variable, não há nada que possa ser normalizado"
   ]
  },
  {
   "cell_type": "markdown",
   "id": "1a2e84d6",
   "metadata": {
    "heading_collapsed": true
   },
   "source": [
    "## 5.2 Rescaling"
   ]
  },
  {
   "cell_type": "code",
   "execution_count": 4,
   "id": "1affde6c",
   "metadata": {
    "ExecuteTime": {
     "end_time": "2022-03-25T12:19:25.213626Z",
     "start_time": "2022-03-25T12:19:24.898265Z"
    },
    "hidden": true
   },
   "outputs": [],
   "source": [
    "rs = RobustScaler()\n",
    "mms= MinMaxScaler()\n",
    "\n",
    "# competition distance\n",
    "df4['competition_distance'] = rs.fit_transform(df4[['competition_distance']].values)\n",
    "\n",
    "# year\n",
    "df4['year'] = mms.fit_transform(df4[['year']].values)\n",
    "\n",
    "# competition time month\n",
    "df4['competition_time_month'] = rs.fit_transform(df4[['competition_time_month']].values)\n",
    "\n",
    "#promo time week\n",
    "df4['promo_time_week'] = mms.fit_transform(df4[['promo_time_week']].values)\n"
   ]
  },
  {
   "cell_type": "markdown",
   "id": "4f9acf07",
   "metadata": {
    "heading_collapsed": true
   },
   "source": [
    "## 5.3 Transformação"
   ]
  },
  {
   "cell_type": "markdown",
   "id": "a2c59567",
   "metadata": {
    "heading_collapsed": true,
    "hidden": true
   },
   "source": [
    "### 5.3.1 Encoding"
   ]
  },
  {
   "cell_type": "code",
   "execution_count": 7,
   "id": "cd09f65e",
   "metadata": {
    "ExecuteTime": {
     "end_time": "2022-03-25T12:45:18.147297Z",
     "start_time": "2022-03-25T12:45:17.439052Z"
    },
    "hidden": true
   },
   "outputs": [],
   "source": [
    "#state_holiday - onehot encoding\n",
    "df4 = pd.get_dummies( df4, prefix=['state_holiday'], columns=['state_holiday'])\n",
    "\n",
    "#store_type - label encoding\n",
    "le = LabelEncoder()\n",
    "df4['store_type'] = le.fit_transform(df4['store_type'])\n",
    "\n",
    "#assortment - ordinal encoding\n",
    "assortment_dict = {'basic': 1, 'extra': 2, 'extended': 3}\n",
    "df4['assortment'] = df4['assortment'].map( assortment_dict )"
   ]
  },
  {
   "cell_type": "markdown",
   "id": "7213c493",
   "metadata": {
    "ExecuteTime": {
     "end_time": "2022-03-25T12:50:52.436908Z",
     "start_time": "2022-03-25T12:50:52.208950Z"
    },
    "heading_collapsed": true,
    "hidden": true
   },
   "source": [
    "### 5.3.2 Response Variable Transformation"
   ]
  },
  {
   "cell_type": "code",
   "execution_count": 17,
   "id": "0c969f4e",
   "metadata": {
    "ExecuteTime": {
     "end_time": "2022-03-25T13:08:33.473151Z",
     "start_time": "2022-03-25T13:08:33.059700Z"
    },
    "hidden": true
   },
   "outputs": [],
   "source": [
    "df4['sales'] = np.log1p(df4['sales'])"
   ]
  },
  {
   "cell_type": "code",
   "execution_count": 22,
   "id": "62ddb8c1",
   "metadata": {
    "ExecuteTime": {
     "end_time": "2022-03-25T13:11:15.350171Z",
     "start_time": "2022-03-25T13:11:09.748717Z"
    },
    "hidden": true
   },
   "outputs": [
    {
     "name": "stderr",
     "output_type": "stream",
     "text": [
      "/home/alex/.local/lib/python3.8/site-packages/seaborn/distributions.py:2619: FutureWarning: `distplot` is a deprecated function and will be removed in a future version. Please adapt your code to use either `displot` (a figure-level function with similar flexibility) or `histplot` (an axes-level function for histograms).\n",
      "  warnings.warn(msg, FutureWarning)\n"
     ]
    },
    {
     "data": {
      "text/plain": [
       "<AxesSubplot:xlabel='sales', ylabel='Density'>"
      ]
     },
     "execution_count": 22,
     "metadata": {},
     "output_type": "execute_result"
    },
    {
     "data": {
      "image/png": "[encoded data removed]",
      "text/plain": [
       "<Figure size 1296x720 with 1 Axes>"
      ]
     },
     "metadata": {
      "needs_background": "light"
     },
     "output_type": "display_data"
    }
   ],
   "source": [
    "sns.distplot(df4['sales'])"
   ]
  },
  {
   "cell_type": "markdown",
   "id": "71d33091",
   "metadata": {
    "heading_collapsed": true,
    "hidden": true
   },
   "source": [
    "### 5.3.3 Nature Transformation"
   ]
  },
  {
   "cell_type": "code",
   "execution_count": 24,
   "id": "e0648b07",
   "metadata": {
    "ExecuteTime": {
     "end_time": "2022-03-25T13:26:20.333012Z",
     "start_time": "2022-03-25T13:25:58.054836Z"
    },
    "hidden": true
   },
   "outputs": [],
   "source": [
    "# day\n",
    "df4['day_sin'] = df4['day'].apply( lambda x: np.sin( x * (2 * np.pi/30)))\n",
    "df4['day_cos'] = df4['day'].apply( lambda x: np.cos( x * (2 * np.pi/30)))\n",
    "\n",
    "# day of week\n",
    "df4['day_of_week_sin'] = df4['day_of_week'].apply( lambda x: np.sin( x * (2 * np.pi/7)))\n",
    "df4['day_of_week_cos'] = df4['day_of_week'].apply( lambda x: np.cos( x * (2 * np.pi/7)))\n",
    "\n",
    "# month\n",
    "df4['month_sin'] = df4['month'].apply( lambda x: np.sin( x * (2 * np.pi/12)))\n",
    "df4['month_cos'] = df4['month'].apply( lambda x: np.cos( x * (2 * np.pi/12)))\n",
    "\n",
    "# week of year\n",
    "df4['week_of_year_sin'] = df4['week_of_year'].apply( lambda x: np.sin( x * (2 * np.pi/52)))\n",
    "df4['week_of_year_cos'] = df4['week_of_year'].apply( lambda x: np.cos( x * (2 * np.pi/52)))"
   ]
  },
  {
   "cell_type": "markdown",
   "id": "7a90135e",
   "metadata": {
    "heading_collapsed": true
   },
   "source": [
    "# 6.0"
   ]
  },
  {
   "cell_type": "code",
   "execution_count": 26,
   "id": "b249c3d5",
   "metadata": {
    "ExecuteTime": {
     "end_time": "2022-03-25T13:44:44.619150Z",
     "start_time": "2022-03-25T13:44:13.218509Z"
    },
    "hidden": true
   },
   "outputs": [],
   "source": [
    "#df4.to_csv('df4.csv', index_label=False )"
   ]
  },
  {
   "cell_type": "code",
   "execution_count": null,
   "id": "b6689596",
   "metadata": {
    "hidden": true
   },
   "outputs": [],
   "source": [
    "df5 = pd.read_csv( 'df4.csv', low_memory=False )"
   ]
  },
  {
   "cell_type": "code",
   "execution_count": null,
   "id": "706a5cc8",
   "metadata": {
    "hidden": true
   },
   "outputs": [],
   "source": []
  },
  {
   "cell_type": "code",
   "execution_count": null,
   "id": "e05e4af4",
   "metadata": {
    "hidden": true
   },
   "outputs": [],
   "source": []
  }
 ],
 "metadata": {
  "kernelspec": {
   "display_name": "Python 3 (ipykernel)",
   "language": "python",
   "name": "python3"
  },
  "language_info": {
   "codemirror_mode": {
    "name": "ipython",
    "version": 3
   },
   "file_extension": ".py",
   "mimetype": "text/x-python",
   "name": "python",
   "nbconvert_exporter": "python",
   "pygments_lexer": "ipython3",
   "version": "3.8.10"
  },
  "varInspector": {
   "cols": {
    "lenName": 16,
    "lenType": 16,
    "lenVar": 40
   },
   "kernels_config": {
    "python": {
     "delete_cmd_postfix": "",
     "delete_cmd_prefix": "del ",
     "library": "var_list.py",
     "varRefreshCmd": "print(var_dic_list())"
    },
    "r": {
     "delete_cmd_postfix": ") ",
     "delete_cmd_prefix": "rm(",
     "library": "var_list.r",
     "varRefreshCmd": "cat(var_dic_list()) "
    }
   },
   "types_to_exclude": [
    "module",
    "function",
    "builtin_function_or_method",
    "instance",
    "_Feature"
   ],
   "window_display": false
  }
 },
 "nbformat": 4,
 "nbformat_minor": 5
}
