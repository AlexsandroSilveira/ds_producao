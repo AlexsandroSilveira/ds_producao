{
 "cells": [
  {
   "cell_type": "markdown",
   "id": "3c6822d6",
   "metadata": {},
   "source": [
    "# 0.0 Imports"
   ]
  },
  {
   "cell_type": "code",
   "execution_count": null,
   "id": "2c182614",
   "metadata": {
    "ExecuteTime": {
     "end_time": "2022-03-21T21:54:59.908982Z",
     "start_time": "2022-03-21T21:54:29.266759Z"
    }
   },
   "outputs": [],
   "source": [
    "pip install seaborn"
   ]
  },
  {
   "cell_type": "code",
   "execution_count": 1,
   "id": "0dc3a69e",
   "metadata": {
    "ExecuteTime": {
     "end_time": "2022-03-22T16:53:41.324433Z",
     "start_time": "2022-03-22T16:53:38.842000Z"
    }
   },
   "outputs": [],
   "source": [
    "import math\n",
    "import datetime\n",
    "import inflection\n",
    "\n",
    "import pandas as pd\n",
    "import seaborn as sns\n",
    "import matplotlib.pyplot as plt\n",
    "\n",
    "from IPython.display import Image"
   ]
  },
  {
   "cell_type": "markdown",
   "id": "58ac2b53",
   "metadata": {},
   "source": [
    "## 0.1 Helper Functions"
   ]
  },
  {
   "cell_type": "code",
   "execution_count": null,
   "id": "654abec8",
   "metadata": {
    "ExecuteTime": {
     "end_time": "2022-03-21T22:10:35.221295Z",
     "start_time": "2022-03-21T22:10:35.179549Z"
    }
   },
   "outputs": [],
   "source": []
  },
  {
   "cell_type": "markdown",
   "id": "9d78c95a",
   "metadata": {},
   "source": [
    "## 0.2 Loading Data"
   ]
  },
  {
   "cell_type": "code",
   "execution_count": null,
   "id": "f37ad37b",
   "metadata": {
    "ExecuteTime": {
     "end_time": "2022-03-22T14:09:15.950243Z",
     "start_time": "2022-03-22T14:09:14.644998Z"
    }
   },
   "outputs": [],
   "source": [
    "df_sales_raw = pd.read_csv( 'datasets/train.csv', low_memory=False )\n",
    "df_store_raw = pd.read_csv( 'datasets/store.csv', low_memory=False )\n",
    "                           \n",
    "#merge\n",
    "df_raw = pd.merge( df_sales_raw, df_store_raw, how='left', on='Store')"
   ]
  },
  {
   "cell_type": "markdown",
   "id": "615f68e3",
   "metadata": {
    "ExecuteTime": {
     "end_time": "2022-03-21T18:45:23.014368Z",
     "start_time": "2022-03-21T18:45:22.448394Z"
    },
    "heading_collapsed": true
   },
   "source": [
    "# 1.0 Descrição dos Dados"
   ]
  },
  {
   "cell_type": "code",
   "execution_count": null,
   "id": "303dfe7e",
   "metadata": {
    "ExecuteTime": {
     "end_time": "2022-03-22T14:09:17.422976Z",
     "start_time": "2022-03-22T14:09:17.148219Z"
    },
    "hidden": true
   },
   "outputs": [],
   "source": [
    "df1 = df_raw.copy()"
   ]
  },
  {
   "cell_type": "markdown",
   "id": "7fce6b51",
   "metadata": {
    "hidden": true
   },
   "source": [
    "## 1.1 Rename Columns"
   ]
  },
  {
   "cell_type": "code",
   "execution_count": null,
   "id": "7efa5e42",
   "metadata": {
    "ExecuteTime": {
     "end_time": "2022-03-22T14:09:18.482932Z",
     "start_time": "2022-03-22T14:09:18.475501Z"
    },
    "hidden": true
   },
   "outputs": [],
   "source": [
    "cols_old = ['Store', 'DayOfWeek', 'Date', 'Sales', 'Customers', 'Open', 'Promo', 'StateHoliday', 'SchoolHoliday', \n",
    "            'StoreType', 'Assortment', 'CompetitionDistance', 'CompetitionOpenSinceMonth', \n",
    "            'CompetitionOpenSinceYear', 'Promo2', 'Promo2SinceWeek', 'Promo2SinceYear', 'PromoInterval']\n",
    "\n",
    "snakecase = lambda x: inflection.underscore( x )\n",
    "\n",
    "cols_new = list(map( snakecase, cols_old))\n",
    "\n",
    "# rename\n",
    "df1.columns = cols_new"
   ]
  },
  {
   "cell_type": "markdown",
   "id": "46d49de0",
   "metadata": {
    "hidden": true
   },
   "source": [
    "## 1.2 Data Dimension"
   ]
  },
  {
   "cell_type": "code",
   "execution_count": null,
   "id": "25c5973b",
   "metadata": {
    "ExecuteTime": {
     "end_time": "2022-03-22T14:09:19.942169Z",
     "start_time": "2022-03-22T14:09:19.933307Z"
    },
    "hidden": true
   },
   "outputs": [],
   "source": [
    "print(f'Number of Rows{df1.shape[0]}')\n",
    "print(f'Number of Cols{df1.shape[1]}')"
   ]
  },
  {
   "cell_type": "markdown",
   "id": "097d315e",
   "metadata": {
    "hidden": true
   },
   "source": [
    "## 1.3 Data Types"
   ]
  },
  {
   "cell_type": "code",
   "execution_count": null,
   "id": "20af268a",
   "metadata": {
    "ExecuteTime": {
     "end_time": "2022-03-22T14:09:21.388367Z",
     "start_time": "2022-03-22T14:09:21.226871Z"
    },
    "hidden": true
   },
   "outputs": [],
   "source": [
    "df1['date'] = pd.to_datetime( df1['date'])\n",
    "df1.dtypes"
   ]
  },
  {
   "cell_type": "markdown",
   "id": "0370220a",
   "metadata": {
    "hidden": true
   },
   "source": [
    "## 1.4 Check NA"
   ]
  },
  {
   "cell_type": "code",
   "execution_count": null,
   "id": "34276ee6",
   "metadata": {
    "ExecuteTime": {
     "end_time": "2022-03-22T14:09:23.127206Z",
     "start_time": "2022-03-22T14:09:22.362989Z"
    },
    "hidden": true
   },
   "outputs": [],
   "source": [
    "df1.isna().sum()"
   ]
  },
  {
   "cell_type": "markdown",
   "id": "2d5b0413",
   "metadata": {
    "hidden": true
   },
   "source": [
    "## 1.5 Fillout NA"
   ]
  },
  {
   "cell_type": "code",
   "execution_count": null,
   "id": "0fd8e125",
   "metadata": {
    "ExecuteTime": {
     "end_time": "2022-03-22T14:09:24.083503Z",
     "start_time": "2022-03-22T14:09:24.066753Z"
    },
    "hidden": true
   },
   "outputs": [],
   "source": [
    "df1['competition_distance'].max()"
   ]
  },
  {
   "cell_type": "code",
   "execution_count": null,
   "id": "a98309ee",
   "metadata": {
    "ExecuteTime": {
     "end_time": "2022-03-22T14:11:58.775849Z",
     "start_time": "2022-03-22T14:09:25.398201Z"
    },
    "hidden": true
   },
   "outputs": [],
   "source": [
    "# competition_distance    \n",
    "df1['competition_distance'] = df1['competition_distance'].apply( lambda x: 200000.0 if math.isnan( x ) else x)\n",
    "\n",
    "# competition_open_since_month\n",
    "df1['competition_open_since_month'] = df1.apply( lambda x: x['date'].month if math.isnan( x['competition_open_since_month'] ) else x['competition_open_since_month'], axis=1)\n",
    "\n",
    "# competition_open_since_year    \n",
    "df1['competition_open_since_year'] = df1.apply( lambda x: x['date'].year if math.isnan( x['competition_open_since_year'] ) else x['competition_open_since_year'], axis=1)\n",
    "\n",
    "# promo2_since_week              \n",
    "df1['promo2_since_week'] = df1.apply( lambda x: x['date'].week if math.isnan( x['promo2_since_week'] ) else x['promo2_since_week'], axis=1)\n",
    "\n",
    "# promo2_since_year              \n",
    "df1['promo2_since_year'] = df1.apply( lambda x: x['date'].year if math.isnan( x['promo2_since_year'] ) else x['promo2_since_year'], axis=1)\n",
    "\n",
    "# promo_interval \n",
    "month_map = {1: 'Jan', 2: 'Feb', 3: 'Mar', 4: 'Apr', 5: 'May', 6: 'Jun', 7: 'Jul', 8: 'Aug', 9: 'Sep', 10: 'Oct', 11: 'Nov', 12: 'Dec' }\n",
    "df1['promo_interval'].fillna(0, inplace=True)\n",
    "df1['month_map'] = df1['date'].dt.month.map( month_map )\n",
    "df1['is_promo'] = df1[['promo_interval', 'month_map']].apply( lambda x: 0 if x['promo_interval'] == 0 else 1 if x['month_map'] in x['promo_interval'].split( ',' ) else 0, axis=1 )\n",
    "\n",
    "df1.isna().sum()"
   ]
  },
  {
   "cell_type": "markdown",
   "id": "2e96b883",
   "metadata": {
    "hidden": true
   },
   "source": [
    "## 1.6 Change Types"
   ]
  },
  {
   "cell_type": "code",
   "execution_count": null,
   "id": "b5ac3884",
   "metadata": {
    "ExecuteTime": {
     "end_time": "2022-03-22T14:12:11.087931Z",
     "start_time": "2022-03-22T14:12:11.008638Z"
    },
    "hidden": true
   },
   "outputs": [],
   "source": [
    "df1['competition_open_since_month'] = df1['competition_open_since_month'].astype( int )\n",
    "df1['competition_open_since_year'] = df1['competition_open_since_year'].astype( int )\n",
    "\n",
    "df1['promo2_since_week'] = df1['promo2_since_week'].astype( int )\n",
    "df1['promo2_since_year'] = df1['promo2_since_year'].astype( int )\n",
    "\n",
    "df1.dtypes"
   ]
  },
  {
   "cell_type": "code",
   "execution_count": null,
   "id": "70a5fa10",
   "metadata": {
    "ExecuteTime": {
     "end_time": "2022-03-22T14:14:50.565765Z",
     "start_time": "2022-03-22T14:14:29.053312Z"
    },
    "hidden": true
   },
   "outputs": [],
   "source": [
    "#df1.to_csv('df1.csv')"
   ]
  },
  {
   "cell_type": "code",
   "execution_count": null,
   "id": "8e4a4c74",
   "metadata": {
    "hidden": true
   },
   "outputs": [],
   "source": [
    "#df2 = pd.read_csv( 'df1.csv', low_memory=False )"
   ]
  },
  {
   "cell_type": "markdown",
   "id": "1f166b43",
   "metadata": {
    "hidden": true
   },
   "source": [
    "## 1.7 Descriptive Statistical"
   ]
  },
  {
   "cell_type": "code",
   "execution_count": null,
   "id": "6d5ea673",
   "metadata": {
    "ExecuteTime": {
     "end_time": "2022-03-22T14:12:12.885085Z",
     "start_time": "2022-03-22T14:12:12.879896Z"
    },
    "hidden": true
   },
   "outputs": [],
   "source": [
    "num_attributes = df1.select_dtypes( include = ['int64', 'float64'])\n",
    "cat_attributes = df1.select_dtypes( exclude = ['int64', 'float64', 'datetime64[ns]'])"
   ]
  },
  {
   "cell_type": "markdown",
   "id": "f1bc5d9a",
   "metadata": {
    "hidden": true
   },
   "source": [
    "### 1.7.1 Numerical Attributes"
   ]
  },
  {
   "cell_type": "code",
   "execution_count": null,
   "id": "740f5f51",
   "metadata": {
    "ExecuteTime": {
     "end_time": "2022-03-22T14:12:22.110144Z",
     "start_time": "2022-03-22T14:12:18.144747Z"
    },
    "hidden": true
   },
   "outputs": [],
   "source": [
    "# Central tendency - mean, median\n",
    "ct1 = pd.DataFrame( num_attributes.apply( np.mean )).T\n",
    "ct2 = pd.DataFrame( num_attributes.apply( np.median )).T\n",
    "\n",
    "# dispersion - std, min, max, range, skew, kurtosis\n",
    "d1 = pd.DataFrame( num_attributes.apply( np.std )).T\n",
    "d2 = pd.DataFrame( num_attributes.apply( min )).T\n",
    "d3 = pd.DataFrame( num_attributes.apply( max )).T\n",
    "d4 = pd.DataFrame( num_attributes.apply( lambda x: x.max() - x.min() )).T\n",
    "d5 = pd.DataFrame( num_attributes.apply( lambda x: x.skew() )).T\n",
    "d6 = pd.DataFrame( num_attributes.apply( lambda x: x.kurtosis() )).T\n",
    "\n",
    "#concat\n",
    "m = pd.concat( [d2, d3, d4, ct1, ct2, d1, d5, d6] ).T.reset_index()\n",
    "m.columns = ['attributes', 'min', 'max', 'range', 'mean', 'median', 'std', 'skew', 'kurtosis'] "
   ]
  },
  {
   "cell_type": "code",
   "execution_count": null,
   "id": "49f47fe9",
   "metadata": {
    "ExecuteTime": {
     "end_time": "2022-03-22T14:12:24.716720Z",
     "start_time": "2022-03-22T14:12:24.664467Z"
    },
    "hidden": true
   },
   "outputs": [],
   "source": [
    "m"
   ]
  },
  {
   "cell_type": "code",
   "execution_count": null,
   "id": "f2964803",
   "metadata": {
    "ExecuteTime": {
     "end_time": "2022-03-22T14:12:31.901954Z",
     "start_time": "2022-03-22T14:12:25.537987Z"
    },
    "hidden": true
   },
   "outputs": [],
   "source": [
    "plt.figure(figsize=(18, 10))\n",
    "sns.distplot( df1['competition_distance'] )"
   ]
  },
  {
   "cell_type": "markdown",
   "id": "9a77e059",
   "metadata": {
    "hidden": true
   },
   "source": [
    "### 1.7.2 Categorical Attributes"
   ]
  },
  {
   "cell_type": "code",
   "execution_count": null,
   "id": "a3f5f0f1",
   "metadata": {
    "ExecuteTime": {
     "end_time": "2022-03-22T14:12:35.463101Z",
     "start_time": "2022-03-22T14:12:35.182850Z"
    },
    "hidden": true
   },
   "outputs": [],
   "source": [
    "cat_attributes.apply( lambda x: x.unique().shape[0])"
   ]
  },
  {
   "cell_type": "code",
   "execution_count": null,
   "id": "e5e59d63",
   "metadata": {
    "ExecuteTime": {
     "end_time": "2022-03-22T14:12:37.096075Z",
     "start_time": "2022-03-22T14:12:36.219228Z"
    },
    "hidden": true
   },
   "outputs": [],
   "source": [
    "plt.figure(figsize=(18, 10))\n",
    "\n",
    "aux1 = df1[(df1['state_holiday'] !='0') & (df1['sales']>0)]\n",
    "\n",
    "plt.subplot( 1, 3, 1)\n",
    "sns.boxplot( x= 'state_holiday', y= 'sales', data=aux1)\n",
    "\n",
    "plt.subplot( 1, 3, 2)\n",
    "sns.boxplot( x= 'store_type', y= 'sales', data=aux1)\n",
    "\n",
    "plt.subplot( 1, 3, 3)\n",
    "sns.boxplot( x= 'assortment', y= 'sales', data=aux1)"
   ]
  },
  {
   "cell_type": "markdown",
   "id": "eb0dde60",
   "metadata": {
    "heading_collapsed": true
   },
   "source": [
    "# 2.0 Feature Engineering"
   ]
  },
  {
   "cell_type": "code",
   "execution_count": null,
   "id": "d9ec8dfe",
   "metadata": {
    "ExecuteTime": {
     "end_time": "2022-03-22T14:18:25.364922Z",
     "start_time": "2022-03-22T14:18:25.167239Z"
    },
    "hidden": true
   },
   "outputs": [],
   "source": [
    "df2 = df1.copy()"
   ]
  },
  {
   "cell_type": "markdown",
   "id": "49f35a4e",
   "metadata": {
    "hidden": true
   },
   "source": [
    "## 2.1 Mapa Mental de Hipóteses"
   ]
  },
  {
   "cell_type": "code",
   "execution_count": null,
   "id": "9ee306f1",
   "metadata": {
    "ExecuteTime": {
     "end_time": "2022-03-22T14:54:37.873316Z",
     "start_time": "2022-03-22T14:54:37.856275Z"
    },
    "hidden": true
   },
   "outputs": [],
   "source": [
    "Image( 'img/MindMapHypothesis.png' )"
   ]
  },
  {
   "cell_type": "markdown",
   "id": "2915d7b1",
   "metadata": {
    "hidden": true
   },
   "source": [
    "## 2.2 Criação da Hipóteses"
   ]
  },
  {
   "cell_type": "markdown",
   "id": "76d40c96",
   "metadata": {
    "hidden": true
   },
   "source": [
    "### 2.2.1 Hipóteses Loja\n",
    "\n",
    "    -1 Lojas com maior quadro de funcionários deveriam vender mais\n",
    "    \n",
    "    -2 Lojas com maior estoque deveriam vender mais\n",
    "    \n",
    "    -3 Lojas com maior porte deveriam vender mais\n",
    "    \n",
    "    -4 Lojas com maior sortimento deveriam vender mais\n",
    "    \n",
    "    -5 Lojas com competidores mais próximos deveriam vender menos\n",
    "    \n",
    "    -6 Lojas com competidores à mais tempo deveriam vender mais"
   ]
  },
  {
   "cell_type": "markdown",
   "id": "f4970d0a",
   "metadata": {
    "hidden": true
   },
   "source": [
    "### 2.2.1 Hipóteses Produto\n",
    "\n",
    "    -1 Lojas que investem mais em marketing deveriam vender mais\n",
    "    \n",
    "    -2 Lojas que expoe mais os produtos nas vitrines deveriam vender mais\n",
    "    \n",
    "    -3 Lojas que tem preços menores nos produtos deveriam vender mais\n",
    "    \n",
    "    -4 Lojas que possuem preços menores por mais tempo deveriam vender mais \n",
    "    \n",
    "    -5 Lojas com descontos maiores deveriam vender mais\n",
    "    \n",
    "    -6 Lojas com promoções ativas por mais tempo deveriam vender mais\n",
    "    \n",
    "    -7 Lojas com mais dias de promoção deveriam vender mais\n",
    "    \n",
    "    -8 Lojas com mais promoções consecutivas deveriam vender mais"
   ]
  },
  {
   "cell_type": "markdown",
   "id": "97c11c9d",
   "metadata": {
    "hidden": true
   },
   "source": [
    "### 2.2.1 Hipóteses Tempo\n",
    "\n",
    "    -1 Lojas abertas durante o feriado de natal deveriam vender mais\n",
    "    \n",
    "    -2 Lojas deveriam vender mais ao longo dos anos\n",
    "    \n",
    "    -3 Lojas deveriam vender mais no segundo semestre do ano\n",
    "    \n",
    "    -4 Lojas deveriam vender mais depois do dia 10 do mês\n",
    "    \n",
    "    -5 Lojas deveriam vender menos aos finais de semana\n",
    "    \n",
    "    -6 Lojas deveriam vender menos durante os feriados escolares"
   ]
  },
  {
   "cell_type": "markdown",
   "id": "d401fccc",
   "metadata": {
    "hidden": true
   },
   "source": [
    "## 2.3 Lista Final de Hipótesis\n",
    "\n",
    "    -1 Lojas com maior sortimento deveriam vender mais\n",
    "     \n",
    "    -2 Lojas com competidores mais próximos deveriam vender menos\n",
    "    \n",
    "    -3 Lojas com competidores à mais tempo deveriam vender mais\n",
    "     \n",
    "    -4 Lojas com promoções ativas por mais tempo deveriam vender mais\n",
    "\n",
    "    -5 Lojas com mais dias de promoção deveriam vender mais\n",
    "\n",
    "    -6 Lojas com mais promoções consecutivas deveriam vender mais\n",
    "      \n",
    "    -7 Lojas abertas durante o feriado de natal deveriam vender mais\n",
    "   \n",
    "    -8 Lojas deveriam vender mais ao longo dos anos\n",
    "    \n",
    "    -9 Lojas deveriam vender mais no segundo semestre do ano\n",
    "    \n",
    "    -10 Lojas deveriam vender mais depois do dia 10 do mês\n",
    "    \n",
    "    -11 Lojas deveriam vender menos aos finais de semana\n",
    "    \n",
    "    -12 Lojas deveriam vender menos durante os feriados escolares    "
   ]
  },
  {
   "cell_type": "markdown",
   "id": "3dbc528b",
   "metadata": {
    "hidden": true
   },
   "source": [
    "## 2.2 Criação da Hipóteses"
   ]
  },
  {
   "cell_type": "code",
   "execution_count": null,
   "id": "e2be333e",
   "metadata": {
    "ExecuteTime": {
     "end_time": "2022-03-22T14:40:54.787277Z",
     "start_time": "2022-03-22T14:40:54.754021Z"
    },
    "hidden": true
   },
   "outputs": [],
   "source": [
    "df2.head().T"
   ]
  },
  {
   "cell_type": "code",
   "execution_count": null,
   "id": "5a140c14",
   "metadata": {
    "ExecuteTime": {
     "end_time": "2022-03-22T14:47:52.478342Z",
     "start_time": "2022-03-22T14:45:37.235577Z"
    },
    "hidden": true
   },
   "outputs": [],
   "source": [
    "# year\n",
    "df2['year'] = df2['date'].dt.year\n",
    "\n",
    "#month\n",
    "df2['month'] = df2['date'].dt.month\n",
    "\n",
    "#day\n",
    "df2['day'] = df2['date'].dt.day\n",
    "\n",
    "#week of year\n",
    "df2['week_of_year'] = df2['date'].dt.weekofyear\n",
    "\n",
    "#year week\n",
    "df2['year_week'] = df2['date'].dt.strftime( '%Y-%W' )\n",
    "\n",
    "#competition since\n",
    "df2['competition_since'] = df2.apply(lambda x: datetime.datetime( year=x['competition_open_since_year'], month=x['competition_open_since_month'], day=1), axis=1)\n",
    "df2['competition_since_month'] = ((df2['date'] - df2['competition_since'])/30).apply(lambda x: x.days).astype(int)\n",
    "\n",
    "#promo since\n",
    "df2['promo_since'] = df2['promo2_since_year'].astype(str) + '-' + df2['promo2_since_week'].astype(str)\n",
    "df2['promo_since'] = df2['promo_since'].apply(lambda x: datetime.datetime.strptime( x + '-1', '%Y-%W-%w' ) - datetime.timedelta( days=7 ))\n",
    "df2['promo_time_week'] = ( ( df2['date'] - df2['promo_since'] )/7 ).apply(lambda x: x.days ).astype( int )\n",
    "\n",
    "#assortment / a=basic, b=extra, c=extended\n",
    "df2['assortment'] = df2['assortment'].apply(lambda x: 'basic' if x == 'a' else 'extra' if x == 'b' else 'extended')\n",
    "\n",
    "#state holiday / a=public holiday, b=easter holiday, c=christmas\n",
    "df2['state_holiday'] = df2['state_holiday'].apply(lambda x: 'public_holiday' if x == 'a' else 'easter_holiday' if x == 'b' else 'christmas' if x =='c' else 'regular_day')\n"
   ]
  },
  {
   "cell_type": "code",
   "execution_count": null,
   "id": "16c393ff",
   "metadata": {
    "ExecuteTime": {
     "end_time": "2022-03-22T16:03:47.181729Z",
     "start_time": "2022-03-22T16:03:47.145491Z"
    },
    "hidden": true
   },
   "outputs": [],
   "source": [
    "df2.head()"
   ]
  },
  {
   "cell_type": "code",
   "execution_count": null,
   "id": "5278c87e",
   "metadata": {
    "ExecuteTime": {
     "end_time": "2022-03-22T16:06:16.922824Z",
     "start_time": "2022-03-22T16:05:22.488628Z"
    },
    "hidden": true
   },
   "outputs": [],
   "source": [
    "df2.to_csv('df2.csv', index_label=False)"
   ]
  },
  {
   "cell_type": "markdown",
   "id": "5c7c3074",
   "metadata": {},
   "source": [
    "# 3.0 Filtragem de Variáveis"
   ]
  },
  {
   "cell_type": "code",
   "execution_count": 3,
   "id": "0407a520",
   "metadata": {
    "ExecuteTime": {
     "end_time": "2022-03-22T16:37:40.585007Z",
     "start_time": "2022-03-22T16:37:34.458002Z"
    }
   },
   "outputs": [],
   "source": [
    "df3 = pd.read_csv( 'df2.csv', low_memory=False )"
   ]
  },
  {
   "cell_type": "code",
   "execution_count": 4,
   "id": "00dc722c",
   "metadata": {
    "ExecuteTime": {
     "end_time": "2022-03-22T16:38:21.732092Z",
     "start_time": "2022-03-22T16:38:21.697396Z"
    }
   },
   "outputs": [
    {
     "data": {
      "text/html": [
       "<div>\n",
       "<style scoped>\n",
       "    .dataframe tbody tr th:only-of-type {\n",
       "        vertical-align: middle;\n",
       "    }\n",
       "\n",
       "    .dataframe tbody tr th {\n",
       "        vertical-align: top;\n",
       "    }\n",
       "\n",
       "    .dataframe thead th {\n",
       "        text-align: right;\n",
       "    }\n",
       "</style>\n",
       "<table border=\"1\" class=\"dataframe\">\n",
       "  <thead>\n",
       "    <tr style=\"text-align: right;\">\n",
       "      <th></th>\n",
       "      <th>store</th>\n",
       "      <th>day_of_week</th>\n",
       "      <th>date</th>\n",
       "      <th>sales</th>\n",
       "      <th>customers</th>\n",
       "      <th>open</th>\n",
       "      <th>promo</th>\n",
       "      <th>state_holiday</th>\n",
       "      <th>school_holiday</th>\n",
       "      <th>store_type</th>\n",
       "      <th>...</th>\n",
       "      <th>is_promo</th>\n",
       "      <th>year</th>\n",
       "      <th>month</th>\n",
       "      <th>day</th>\n",
       "      <th>week_of_year</th>\n",
       "      <th>year_week</th>\n",
       "      <th>competition_since</th>\n",
       "      <th>competition_since_month</th>\n",
       "      <th>promo_since</th>\n",
       "      <th>promo_time_week</th>\n",
       "    </tr>\n",
       "  </thead>\n",
       "  <tbody>\n",
       "    <tr>\n",
       "      <th>0</th>\n",
       "      <td>1</td>\n",
       "      <td>5</td>\n",
       "      <td>2015-07-31</td>\n",
       "      <td>5263</td>\n",
       "      <td>555</td>\n",
       "      <td>1</td>\n",
       "      <td>1</td>\n",
       "      <td>regular_day</td>\n",
       "      <td>1</td>\n",
       "      <td>c</td>\n",
       "      <td>...</td>\n",
       "      <td>0</td>\n",
       "      <td>2015</td>\n",
       "      <td>7</td>\n",
       "      <td>31</td>\n",
       "      <td>31</td>\n",
       "      <td>2015-30</td>\n",
       "      <td>2008-09-01</td>\n",
       "      <td>84</td>\n",
       "      <td>2015-07-27</td>\n",
       "      <td>0</td>\n",
       "    </tr>\n",
       "    <tr>\n",
       "      <th>1</th>\n",
       "      <td>2</td>\n",
       "      <td>5</td>\n",
       "      <td>2015-07-31</td>\n",
       "      <td>6064</td>\n",
       "      <td>625</td>\n",
       "      <td>1</td>\n",
       "      <td>1</td>\n",
       "      <td>regular_day</td>\n",
       "      <td>1</td>\n",
       "      <td>a</td>\n",
       "      <td>...</td>\n",
       "      <td>1</td>\n",
       "      <td>2015</td>\n",
       "      <td>7</td>\n",
       "      <td>31</td>\n",
       "      <td>31</td>\n",
       "      <td>2015-30</td>\n",
       "      <td>2007-11-01</td>\n",
       "      <td>94</td>\n",
       "      <td>2010-03-22</td>\n",
       "      <td>279</td>\n",
       "    </tr>\n",
       "    <tr>\n",
       "      <th>2</th>\n",
       "      <td>3</td>\n",
       "      <td>5</td>\n",
       "      <td>2015-07-31</td>\n",
       "      <td>8314</td>\n",
       "      <td>821</td>\n",
       "      <td>1</td>\n",
       "      <td>1</td>\n",
       "      <td>regular_day</td>\n",
       "      <td>1</td>\n",
       "      <td>a</td>\n",
       "      <td>...</td>\n",
       "      <td>1</td>\n",
       "      <td>2015</td>\n",
       "      <td>7</td>\n",
       "      <td>31</td>\n",
       "      <td>31</td>\n",
       "      <td>2015-30</td>\n",
       "      <td>2006-12-01</td>\n",
       "      <td>105</td>\n",
       "      <td>2011-03-28</td>\n",
       "      <td>226</td>\n",
       "    </tr>\n",
       "    <tr>\n",
       "      <th>3</th>\n",
       "      <td>4</td>\n",
       "      <td>5</td>\n",
       "      <td>2015-07-31</td>\n",
       "      <td>13995</td>\n",
       "      <td>1498</td>\n",
       "      <td>1</td>\n",
       "      <td>1</td>\n",
       "      <td>regular_day</td>\n",
       "      <td>1</td>\n",
       "      <td>c</td>\n",
       "      <td>...</td>\n",
       "      <td>0</td>\n",
       "      <td>2015</td>\n",
       "      <td>7</td>\n",
       "      <td>31</td>\n",
       "      <td>31</td>\n",
       "      <td>2015-30</td>\n",
       "      <td>2009-09-01</td>\n",
       "      <td>71</td>\n",
       "      <td>2015-07-27</td>\n",
       "      <td>0</td>\n",
       "    </tr>\n",
       "    <tr>\n",
       "      <th>4</th>\n",
       "      <td>5</td>\n",
       "      <td>5</td>\n",
       "      <td>2015-07-31</td>\n",
       "      <td>4822</td>\n",
       "      <td>559</td>\n",
       "      <td>1</td>\n",
       "      <td>1</td>\n",
       "      <td>regular_day</td>\n",
       "      <td>1</td>\n",
       "      <td>a</td>\n",
       "      <td>...</td>\n",
       "      <td>0</td>\n",
       "      <td>2015</td>\n",
       "      <td>7</td>\n",
       "      <td>31</td>\n",
       "      <td>31</td>\n",
       "      <td>2015-30</td>\n",
       "      <td>2015-04-01</td>\n",
       "      <td>4</td>\n",
       "      <td>2015-07-27</td>\n",
       "      <td>0</td>\n",
       "    </tr>\n",
       "  </tbody>\n",
       "</table>\n",
       "<p>5 rows × 29 columns</p>\n",
       "</div>"
      ],
      "text/plain": [
       "   store  day_of_week        date  sales  customers  open  promo  \\\n",
       "0      1            5  2015-07-31   5263        555     1      1   \n",
       "1      2            5  2015-07-31   6064        625     1      1   \n",
       "2      3            5  2015-07-31   8314        821     1      1   \n",
       "3      4            5  2015-07-31  13995       1498     1      1   \n",
       "4      5            5  2015-07-31   4822        559     1      1   \n",
       "\n",
       "  state_holiday  school_holiday store_type  ... is_promo  year  month  day  \\\n",
       "0   regular_day               1          c  ...        0  2015      7   31   \n",
       "1   regular_day               1          a  ...        1  2015      7   31   \n",
       "2   regular_day               1          a  ...        1  2015      7   31   \n",
       "3   regular_day               1          c  ...        0  2015      7   31   \n",
       "4   regular_day               1          a  ...        0  2015      7   31   \n",
       "\n",
       "   week_of_year  year_week  competition_since competition_since_month  \\\n",
       "0            31    2015-30         2008-09-01                      84   \n",
       "1            31    2015-30         2007-11-01                      94   \n",
       "2            31    2015-30         2006-12-01                     105   \n",
       "3            31    2015-30         2009-09-01                      71   \n",
       "4            31    2015-30         2015-04-01                       4   \n",
       "\n",
       "  promo_since  promo_time_week  \n",
       "0  2015-07-27                0  \n",
       "1  2010-03-22              279  \n",
       "2  2011-03-28              226  \n",
       "3  2015-07-27                0  \n",
       "4  2015-07-27                0  \n",
       "\n",
       "[5 rows x 29 columns]"
      ]
     },
     "execution_count": 4,
     "metadata": {},
     "output_type": "execute_result"
    }
   ],
   "source": [
    "df3.head()"
   ]
  },
  {
   "cell_type": "markdown",
   "id": "a9ba0012",
   "metadata": {
    "ExecuteTime": {
     "end_time": "2022-03-22T16:01:57.333553Z",
     "start_time": "2022-03-22T16:01:57.329718Z"
    }
   },
   "source": [
    "## 3.1 Filtragem das Linhas"
   ]
  },
  {
   "cell_type": "code",
   "execution_count": 5,
   "id": "b7f444a0",
   "metadata": {
    "ExecuteTime": {
     "end_time": "2022-03-22T16:38:23.604956Z",
     "start_time": "2022-03-22T16:38:23.433384Z"
    }
   },
   "outputs": [],
   "source": [
    "df3 = df3[(df3['open'] != 0) & (df3['sales'] > 0)]"
   ]
  },
  {
   "cell_type": "markdown",
   "id": "2a10241f",
   "metadata": {},
   "source": [
    "## 3.2 Seleção das Colunas"
   ]
  },
  {
   "cell_type": "code",
   "execution_count": 9,
   "id": "00d51b89",
   "metadata": {
    "ExecuteTime": {
     "end_time": "2022-03-22T16:39:42.709043Z",
     "start_time": "2022-03-22T16:39:42.540008Z"
    }
   },
   "outputs": [],
   "source": [
    "#cols_drop = ['customers', 'open', 'promo_interval', 'month_map']\n",
    "df3 = df3.drop( columns = ['customers', 'open', 'promo_interval', 'month_map'] )"
   ]
  },
  {
   "cell_type": "code",
   "execution_count": 11,
   "id": "66c85429",
   "metadata": {
    "ExecuteTime": {
     "end_time": "2022-03-22T16:39:50.602700Z",
     "start_time": "2022-03-22T16:39:50.595275Z"
    }
   },
   "outputs": [
    {
     "data": {
      "text/plain": [
       "Index(['store', 'day_of_week', 'date', 'sales', 'promo', 'state_holiday',\n",
       "       'school_holiday', 'store_type', 'assortment', 'competition_distance',\n",
       "       'competition_open_since_month', 'competition_open_since_year', 'promo2',\n",
       "       'promo2_since_week', 'promo2_since_year', 'is_promo', 'year', 'month',\n",
       "       'day', 'week_of_year', 'year_week', 'competition_since',\n",
       "       'competition_since_month', 'promo_since', 'promo_time_week'],\n",
       "      dtype='object')"
      ]
     },
     "execution_count": 11,
     "metadata": {},
     "output_type": "execute_result"
    }
   ],
   "source": [
    "df3.columns"
   ]
  },
  {
   "cell_type": "code",
   "execution_count": null,
   "id": "33c56dbe",
   "metadata": {},
   "outputs": [],
   "source": []
  }
 ],
 "metadata": {
  "kernelspec": {
   "display_name": "Python 3 (ipykernel)",
   "language": "python",
   "name": "python3"
  },
  "language_info": {
   "codemirror_mode": {
    "name": "ipython",
    "version": 3
   },
   "file_extension": ".py",
   "mimetype": "text/x-python",
   "name": "python",
   "nbconvert_exporter": "python",
   "pygments_lexer": "ipython3",
   "version": "3.8.10"
  },
  "varInspector": {
   "cols": {
    "lenName": 16,
    "lenType": 16,
    "lenVar": 40
   },
   "kernels_config": {
    "python": {
     "delete_cmd_postfix": "",
     "delete_cmd_prefix": "del ",
     "library": "var_list.py",
     "varRefreshCmd": "print(var_dic_list())"
    },
    "r": {
     "delete_cmd_postfix": ") ",
     "delete_cmd_prefix": "rm(",
     "library": "var_list.r",
     "varRefreshCmd": "cat(var_dic_list()) "
    }
   },
   "types_to_exclude": [
    "module",
    "function",
    "builtin_function_or_method",
    "instance",
    "_Feature"
   ],
   "window_display": false
  }
 },
 "nbformat": 4,
 "nbformat_minor": 5
}
